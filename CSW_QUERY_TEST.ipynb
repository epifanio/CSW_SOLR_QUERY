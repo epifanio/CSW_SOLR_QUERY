{
 "cells": [
  {
   "cell_type": "markdown",
   "id": "500cde8f-c56b-4831-adf5-83a877569ccd",
   "metadata": {},
   "source": [
    "# Test CSW QUERY\n",
    "\n",
    "the following will run a query by posting an  XML file via CURL \n",
    "\n",
    "\n",
    "At the moment the following Query are supported:\n",
    "* Group A\n",
    "    - `anytext`\n",
    "    - `Time`\n",
    "    - `BBOX`\n",
    "    - `anytext` *on field*\n",
    "\n",
    "* Group B\n",
    "    - `anytext` **AND** `Time`\n",
    "    - `anytext` **AND** `BBOX`\n",
    "    - `anytext` **AND** `Time` **AND** `BBOX`\n",
    "  \n",
    "* Group C\n",
    "    - `anytext` *on field*  **AND** `Time`\n",
    "    - `anytext` *on field*  **AND** `BBOX`\n",
    "    - `anytext` *on field* **AND** `Time` **AND** `BBOX`\n",
    "\n",
    "* Group D\n",
    "    - `Time` **AND** `BBOX`\n",
    "    \n",
    "* Group E\n",
    "    - `anytext` *on field*  **AND** `BBOX` OR `anytext` *on field*  **AND** `BBOX`"
   ]
  },
  {
   "cell_type": "code",
   "execution_count": 1,
   "id": "03b5a262-259f-43b0-b593-75e6de4129ff",
   "metadata": {},
   "outputs": [],
   "source": [
    "from IPython.core.magic import register_line_cell_magic\n",
    "\n",
    "\n",
    "@register_line_cell_magic\n",
    "def writetemplate(line, cell):\n",
    "    with open(line, \"w\") as f:\n",
    "        f.write(cell.format(**globals()))"
   ]
  },
  {
   "cell_type": "code",
   "execution_count": 2,
   "id": "03de1725-f419-43e1-9e66-2c84df87d61c",
   "metadata": {
    "tags": []
   },
   "outputs": [],
   "source": [
    "import xml.dom.minidom\n",
    "\n",
    "\n",
    "def prettify_xml(xml_string):\n",
    "    dom = xml.dom.minidom.parseString(xml_string)\n",
    "    pretty_xml_string = dom.toprettyxml(indent=\"    \")\n",
    "    return pretty_xml_string"
   ]
  },
  {
   "cell_type": "code",
   "execution_count": 3,
   "id": "d44faac4-cd8b-4346-9f4f-c01710aecfc3",
   "metadata": {
    "tags": []
   },
   "outputs": [],
   "source": [
    "from IPython.display import HTML, display\n",
    "\n",
    "# Display the pretty-printed XML in the notebook"
   ]
  },
  {
   "cell_type": "code",
   "execution_count": 4,
   "id": "1f887993-bed7-4e22-b4ea-969390bfb4a6",
   "metadata": {
    "tags": []
   },
   "outputs": [],
   "source": [
    "csw_test_endpoint = \"https://test.csw.met.no\"\n",
    "ElementSetName = \"full\"\n",
    "\n",
    "field_to_query = \"title\"\n",
    "text_to_query = \"ice\"\n",
    "\n",
    "start_time = \"2018-09-18 09:00\"\n",
    "end_time = \"2020-10-18 09:00\"\n",
    "\n",
    "lowerCorner = \"60 0\"\n",
    "upperCorner = \"90 180\""
   ]
  },
  {
   "cell_type": "code",
   "execution_count": 5,
   "id": "882f24e7-f6cd-4fd3-ba29-190866dd3ad3",
   "metadata": {
    "tags": []
   },
   "outputs": [],
   "source": [
    "from geolinks import sniff_link\n",
    "from owslib.csw import CatalogueServiceWeb\n",
    "from owslib.fes import (\n",
    "    And,\n",
    "    BBox,\n",
    "    Or,\n",
    "    PropertyIsEqualTo,\n",
    "    PropertyIsGreaterThanOrEqualTo,\n",
    "    PropertyIsLessThanOrEqualTo,\n",
    "    PropertyIsLike,\n",
    ")\n",
    "\n",
    "csw = CatalogueServiceWeb(csw_test_endpoint, timeout=60)"
   ]
  },
  {
   "cell_type": "markdown",
   "id": "a0cb7786-041b-4fc1-805d-527406e8a376",
   "metadata": {
    "toc-hr-collapsed": true
   },
   "source": [
    "## Group A"
   ]
  },
  {
   "cell_type": "markdown",
   "id": "af0c136e-6f8f-42f4-9549-2cf89faf79e7",
   "metadata": {},
   "source": [
    "### `anytext`"
   ]
  },
  {
   "cell_type": "markdown",
   "id": "e804213c-cedc-4be8-850c-1681b28e1605",
   "metadata": {},
   "source": [
    "* Corresponding SOLR JSON Query:\n",
    "\n",
    "```json\n",
    "{\n",
    "    \"q\": \"full_text:(ice)\",\n",
    "    \"q.op\": \"OR\",\n",
    "    \"start\": 0,\n",
    "    \"rows\": \"5\",\n",
    "    \"fq\": [\n",
    "        \"metadata_status:Active\",\n",
    "        \"collection:(ADC)\"\n",
    "    ]\n",
    "}\n",
    "```"
   ]
  },
  {
   "cell_type": "markdown",
   "id": "a44b4ad5-02bc-431d-9bdf-2ddee85dd571",
   "metadata": {
    "tags": []
   },
   "source": [
    "#### CSW XML"
   ]
  },
  {
   "cell_type": "code",
   "execution_count": 6,
   "id": "6b55f008-fd4f-4521-a1cd-6bb0cb4ce651",
   "metadata": {},
   "outputs": [],
   "source": [
    "%%writetemplate test_xml_query_anytext.xml\n",
    "<?xml version=\"1.0\" encoding=\"ISO-8859-1\" standalone=\"no\"?>\n",
    "<csw:GetRecords xmlns:apiso=\"http://www.opengis.net/cat/csw/apiso/1.0\" xmlns:csw=\"http://www.opengis.net/cat/csw/2.0.2\" xmlns:ogc=\"http://www.opengis.net/ogc\" service=\"CSW\" version=\"2.0.2\" resultType=\"results\" startPosition=\"1\" maxRecords=\"5\" outputFormat=\"application/xml\" outputSchema=\"http://www.isotc211.org/2005/gmd\" xmlns:xsi=\"http://www.w3.org/2001/XMLSchema-instance\" xsi:schemaLocation=\"http://www.opengis.net/cat/csw/2.0.2 http://schemas.opengis.net/csw/2.0.2/CSW-discovery.xsd\" xmlns:gml=\"http://www.opengis.net/gml\" xmlns:gmd=\"http://www.isotc211.org/2005/gmd\">\n",
    "    <csw:Query typeNames=\"gmd:MD_Metadata\">\n",
    "        <csw:ElementSetName>{ElementSetName}</csw:ElementSetName>\n",
    "        <csw:Constraint version=\"1.1.0\">\n",
    "            <ogc:Filter>\n",
    "                    <ogc:PropertyIsLike wildCard=\"*\" singleChar=\"?\" escapeChar=\"\\\\\" matchCase=\"false\">\n",
    "                        <ogc:PropertyName>apiso:AnyText</ogc:PropertyName>\n",
    "                        <ogc:Literal>{text_to_query}</ogc:Literal>\n",
    "                    </ogc:PropertyIsLike>\n",
    "            </ogc:Filter>\n",
    "        </csw:Constraint>\n",
    "    </csw:Query>\n",
    "</csw:GetRecords>"
   ]
  },
  {
   "cell_type": "code",
   "execution_count": 7,
   "id": "37db4d9c-f080-4bc6-a465-5ff41f83a7ad",
   "metadata": {},
   "outputs": [
    {
     "name": "stdout",
     "output_type": "stream",
     "text": [
      "135225\n"
     ]
    }
   ],
   "source": [
    "!curl -s -H \"Content-Type: text/xml\" -X POST -d @test_xml_query_anytext.xml {csw_test_endpoint} | grep -oP 'numberOfRecordsMatched=\"\\K[^\"]+'"
   ]
  },
  {
   "cell_type": "markdown",
   "id": "d6c185fe-90c3-4619-bf28-9b3a5d1bae1a",
   "metadata": {
    "tags": []
   },
   "source": [
    "#### Python"
   ]
  },
  {
   "cell_type": "code",
   "execution_count": 8,
   "id": "751bfcdd-93d5-46c2-896a-c38485d66afe",
   "metadata": {
    "tags": []
   },
   "outputs": [],
   "source": [
    "# Create a filter\n",
    "filter = PropertyIsLike(\n",
    "    propertyname=\"apiso:AnyText\",\n",
    "    literal=f\"{text_to_query}\",\n",
    "    wildCard=\"*\",\n",
    "    singleChar=\"?\",\n",
    "    escapeChar=\"\\\\\",\n",
    ")\n",
    "\n",
    "# Use the filter in a CSW getrecords request\n",
    "records = csw.getrecords2(\n",
    "    constraints=[filter],\n",
    "    startposition=1,\n",
    "    maxrecords=5,\n",
    ")"
   ]
  },
  {
   "cell_type": "code",
   "execution_count": 9,
   "id": "0380e69d-39c8-408c-afa2-3e1eda5013dd",
   "metadata": {
    "tags": []
   },
   "outputs": [
    {
     "data": {
      "text/plain": [
       "135225"
      ]
     },
     "execution_count": 9,
     "metadata": {},
     "output_type": "execute_result"
    }
   ],
   "source": [
    "csw.results['matches']"
   ]
  },
  {
   "cell_type": "markdown",
   "id": "20bb5911-8887-481e-bb5d-400604aa1f12",
   "metadata": {},
   "source": [
    "### `Time`\n"
   ]
  },
  {
   "cell_type": "markdown",
   "id": "8d21a380-ea97-421c-a444-e2c27c194eca",
   "metadata": {},
   "source": [
    "* Corresponding SOLR JSON Query:\n",
    "\n",
    "```json\n",
    "{\n",
    "    \"q\": \"*:*\",\n",
    "    \"q.op\": \"OR\",\n",
    "    \"start\": 0,\n",
    "    \"rows\": \"5\",\n",
    "    \"fq\": [\n",
    "        \"metadata_status:Active\",\n",
    "        \"temporal_extent_start_date:[2018-09-18T09:00:00Z TO *]\",\n",
    "        \"temporal_extent_end_date:[* TO 2020-10-18T09:00:00Z]\",\n",
    "        \"collection:(ADC)\"\n",
    "    ]\n",
    "}\n",
    "```"
   ]
  },
  {
   "cell_type": "markdown",
   "id": "b836efb9-7593-4635-b27d-870ed38e0a6d",
   "metadata": {},
   "source": [
    "#### CSW XML"
   ]
  },
  {
   "cell_type": "code",
   "execution_count": 10,
   "id": "c32bff78-4000-48f3-ab1c-7db3f268d693",
   "metadata": {},
   "outputs": [],
   "source": [
    "%%writetemplate test_xml_query_time.xml\n",
    "<?xml version=\"1.0\" encoding=\"ISO-8859-1\" standalone=\"no\"?>\n",
    "<csw:GetRecords xmlns:apiso=\"http://www.opengis.net/cat/csw/apiso/1.0\" xmlns:csw=\"http://www.opengis.net/cat/csw/2.0.2\" xmlns:ogc=\"http://www.opengis.net/ogc\" service=\"CSW\" version=\"2.0.2\" resultType=\"results\" startPosition=\"1\" maxRecords=\"5\" outputFormat=\"application/xml\" outputSchema=\"http://www.isotc211.org/2005/gmd\" xmlns:xsi=\"http://www.w3.org/2001/XMLSchema-instance\" xsi:schemaLocation=\"http://www.opengis.net/cat/csw/2.0.2 http://schemas.opengis.net/csw/2.0.2/CSW-discovery.xsd\" xmlns:gml=\"http://www.opengis.net/gml\" xmlns:gmd=\"http://www.isotc211.org/2005/gmd\">\n",
    "    <csw:Query typeNames=\"gmd:MD_Metadata\">\n",
    "        <csw:ElementSetName>{ElementSetName}</csw:ElementSetName>\n",
    "        <csw:Constraint version=\"1.1.0\">\n",
    "     <ogc:Filter>\n",
    "       <ogc:And>\n",
    "         <ogc:PropertyIsLessThanOrEqualTo>\n",
    "           <ogc:PropertyName>apiso:TempExtent_begin</ogc:PropertyName>\n",
    "           <ogc:Literal>{end_time}</ogc:Literal>\n",
    "         </ogc:PropertyIsLessThanOrEqualTo>\n",
    "        <ogc:PropertyIsGreaterThanOrEqualTo>\n",
    "           <ogc:PropertyName>apiso:TempExtent_end</ogc:PropertyName>\n",
    "           <ogc:Literal>{start_time}</ogc:Literal>\n",
    "         </ogc:PropertyIsGreaterThanOrEqualTo>\n",
    "       </ogc:And>\n",
    "     </ogc:Filter>\n",
    "   </csw:Constraint>\n",
    "    </csw:Query>\n",
    "</csw:GetRecords>"
   ]
  },
  {
   "cell_type": "code",
   "execution_count": 11,
   "id": "2547d50b-5bb5-4ae5-8230-7389383496b7",
   "metadata": {},
   "outputs": [
    {
     "name": "stdout",
     "output_type": "stream",
     "text": [
      "39075\n"
     ]
    }
   ],
   "source": [
    "!curl -s -H \"Content-Type: text/xml\" -X POST -d @test_xml_query_time.xml {csw_test_endpoint} | grep -oP 'numberOfRecordsMatched=\"\\K[^\"]+'"
   ]
  },
  {
   "cell_type": "markdown",
   "id": "d53fb584-264c-45dc-8299-41fc82327bd2",
   "metadata": {},
   "source": [
    "#### Python"
   ]
  },
  {
   "cell_type": "code",
   "execution_count": 12,
   "id": "3ccee416-7069-4c57-ba0e-6c687da8e196",
   "metadata": {
    "tags": []
   },
   "outputs": [],
   "source": [
    "# Create filters\n",
    "filter1 = PropertyIsLessThanOrEqualTo(\n",
    "    propertyname=\"apiso:TempExtent_begin\", literal=f\"{end_time}\"\n",
    ")\n",
    "filter2 = PropertyIsGreaterThanOrEqualTo(\n",
    "    propertyname=\"apiso:TempExtent_end\", literal=f\"{start_time}\"\n",
    ")\n",
    "\n",
    "# Combine filters\n",
    "filter = And([filter1, filter2])\n",
    "\n",
    "# Use the filter in a CSW getrecords request\n",
    "csw.getrecords2(\n",
    "    constraints=[filter],\n",
    "    esn=f\"{ElementSetName}\",\n",
    "    startposition=1,\n",
    "    maxrecords=5,\n",
    ")"
   ]
  },
  {
   "cell_type": "code",
   "execution_count": 13,
   "id": "57c3a14e-4afe-4048-97da-bbf26efa1498",
   "metadata": {
    "tags": []
   },
   "outputs": [
    {
     "data": {
      "text/plain": [
       "39075"
      ]
     },
     "execution_count": 13,
     "metadata": {},
     "output_type": "execute_result"
    }
   ],
   "source": [
    "csw.results['matches']"
   ]
  },
  {
   "cell_type": "markdown",
   "id": "c70cf52f-e5ff-4f86-9c07-17d01fa9b0ed",
   "metadata": {},
   "source": [
    "### `BBOX`\n",
    "\n"
   ]
  },
  {
   "cell_type": "markdown",
   "id": "98e6f276-2012-4103-b798-e23b930074f0",
   "metadata": {},
   "source": [
    "* Corresponding SOLR JSON Query:\n",
    "\n",
    "```json\n",
    "{\n",
    "    \"q\": \"*:*\",\n",
    "    \"q.op\": \"OR\",\n",
    "    \"start\": 0,\n",
    "    \"rows\": \"5\",\n",
    "    \"fq\": [\n",
    "        \"metadata_status:Active\",\n",
    "        \"{!field f=bbox score=overlapRatio}Within(ENVELOPE(60.0,90.0,180.0,0.0))\",\n",
    "        \"collection:(ADC)\"\n",
    "    ]\n",
    "}\n",
    "```"
   ]
  },
  {
   "cell_type": "markdown",
   "id": "9edffd6f-a8e9-4015-b7c8-fd8756059689",
   "metadata": {},
   "source": [
    "#### CSW XML"
   ]
  },
  {
   "cell_type": "code",
   "execution_count": 14,
   "id": "a4e4e73a-914d-4b2a-93eb-6b98d64f4a5d",
   "metadata": {},
   "outputs": [],
   "source": [
    "%%writetemplate test_xml_query_bbox.xml\n",
    "<?xml version=\"1.0\" encoding=\"ISO-8859-1\" standalone=\"no\"?>\n",
    "<csw:GetRecords xmlns:apiso=\"http://www.opengis.net/cat/csw/apiso/1.0\" xmlns:csw=\"http://www.opengis.net/cat/csw/2.0.2\" xmlns:ogc=\"http://www.opengis.net/ogc\" service=\"CSW\" version=\"2.0.2\" resultType=\"results\" startPosition=\"1\" maxRecords=\"5\" outputFormat=\"application/xml\" outputSchema=\"http://www.isotc211.org/2005/gmd\" xmlns:xsi=\"http://www.w3.org/2001/XMLSchema-instance\" xsi:schemaLocation=\"http://www.opengis.net/cat/csw/2.0.2 http://schemas.opengis.net/csw/2.0.2/CSW-discovery.xsd\" xmlns:gml=\"http://www.opengis.net/gml\" xmlns:gmd=\"http://www.isotc211.org/2005/gmd\">\n",
    "    <csw:Query typeNames=\"gmd:MD_Metadata\">\n",
    "        <csw:ElementSetName>{ElementSetName}</csw:ElementSetName>\n",
    "        <csw:Constraint version=\"1.1.0\">\n",
    "            <ogc:Filter>\n",
    "                <ogc:BBOX>\n",
    "                    <ogc:PropertyName>apiso:BoundingBox</ogc:PropertyName>\n",
    "                    <gml:Envelope>\n",
    "                        <gml:lowerCorner>{lowerCorner}</gml:lowerCorner>\n",
    "                        <gml:upperCorner>{upperCorner}</gml:upperCorner>\n",
    "                    </gml:Envelope>\n",
    "                </ogc:BBOX>\n",
    "            </ogc:Filter>\n",
    "        </csw:Constraint>\n",
    "    </csw:Query>\n",
    "</csw:GetRecords>"
   ]
  },
  {
   "cell_type": "code",
   "execution_count": 15,
   "id": "0840ed5f-5384-4a55-a69b-6f12a4392571",
   "metadata": {},
   "outputs": [
    {
     "name": "stdout",
     "output_type": "stream",
     "text": [
      "6449\n"
     ]
    }
   ],
   "source": [
    "!curl -s -H \"Content-Type: text/xml\" -X POST -d @test_xml_query_bbox.xml {csw_test_endpoint} | grep -oP 'numberOfRecordsMatched=\"\\K[^\"]+'"
   ]
  },
  {
   "cell_type": "markdown",
   "id": "7cb5c2c9-31db-43be-bcc1-29ad9c148cb8",
   "metadata": {},
   "source": [
    "#### Python"
   ]
  },
  {
   "cell_type": "code",
   "execution_count": 16,
   "id": "c1a204b3-cb4f-4fdb-9dec-3c157f9a6504",
   "metadata": {
    "tags": []
   },
   "outputs": [],
   "source": [
    "# Create a filter\n",
    "# Define your bounding box coordinates\n",
    "bbox = lowerCorner.split() + upperCorner.split()\n",
    "\n",
    "# Create a filter\n",
    "bbox_filter = BBox(bbox)\n",
    "# Use the filter in a CSW getrecords request\n",
    "csw.getrecords2(\n",
    "    constraints=[bbox_filter],\n",
    "    esn=f\"{ElementSetName}\",\n",
    "    startposition=1,\n",
    "    maxrecords=5,\n",
    ")"
   ]
  },
  {
   "cell_type": "code",
   "execution_count": 17,
   "id": "d3d46a57-d790-4c56-9e6e-674f7118c480",
   "metadata": {
    "tags": []
   },
   "outputs": [
    {
     "data": {
      "text/plain": [
       "6449"
      ]
     },
     "execution_count": 17,
     "metadata": {},
     "output_type": "execute_result"
    }
   ],
   "source": [
    "csw.results['matches']"
   ]
  },
  {
   "cell_type": "markdown",
   "id": "a81a2130-91b9-4511-bf5c-982dd42fc1bd",
   "metadata": {},
   "source": [
    "### `anytext` *on field*\n",
    "\n"
   ]
  },
  {
   "cell_type": "markdown",
   "id": "db3f8e06-b277-4125-a3a4-7045008a5285",
   "metadata": {},
   "source": [
    "* Corresponding SOLR JSON Query:\n",
    "\n",
    "```json\n",
    "{\n",
    "    \"q\": \"*:*\",\n",
    "    \"q.op\": \"OR\",\n",
    "    \"start\": 0,\n",
    "    \"rows\": \"5\",\n",
    "    \"fq\": [\n",
    "        \"metadata_status:Active\",\n",
    "        \"title:(ice)\",\n",
    "        \"collection:(ADC)\"\n",
    "    ]\n",
    "}\n",
    "```"
   ]
  },
  {
   "cell_type": "markdown",
   "id": "131aa2ae-3196-4039-8fdf-16335bb48f98",
   "metadata": {},
   "source": [
    "#### CSW XML"
   ]
  },
  {
   "cell_type": "code",
   "execution_count": 19,
   "id": "51e947dd-46b0-4d8a-acff-33fdae7e3e84",
   "metadata": {},
   "outputs": [],
   "source": [
    "%%writetemplate test_xml_query_anytext_on_field.xml\n",
    "<?xml version=\"1.0\" encoding=\"ISO-8859-1\" standalone=\"no\"?>\n",
    "<csw:GetRecords xmlns:apiso=\"http://www.opengis.net/cat/csw/apiso/1.0\" xmlns:csw=\"http://www.opengis.net/cat/csw/2.0.2\" xmlns:ogc=\"http://www.opengis.net/ogc\" service=\"CSW\" version=\"2.0.2\" resultType=\"results\" startPosition=\"1\" maxRecords=\"5\" outputFormat=\"application/xml\" outputSchema=\"http://www.isotc211.org/2005/gmd\" xmlns:xsi=\"http://www.w3.org/2001/XMLSchema-instance\" xsi:schemaLocation=\"http://www.opengis.net/cat/csw/2.0.2 http://schemas.opengis.net/csw/2.0.2/CSW-discovery.xsd\" xmlns:gml=\"http://www.opengis.net/gml\" xmlns:gmd=\"http://www.isotc211.org/2005/gmd\">\n",
    "    <csw:Query typeNames=\"gmd:MD_Metadata\">\n",
    "        <csw:ElementSetName>{ElementSetName}</csw:ElementSetName>\n",
    "        <csw:Constraint version=\"1.1.0\">\n",
    "            <ogc:Filter>\n",
    "                    <ogc:PropertyIsLike wildCard=\"*\" singleChar=\"?\" escapeChar=\"\\\\\" matchCase=\"false\">\n",
    "                        <ogc:PropertyName>dc:{field_to_query}</ogc:PropertyName>\n",
    "                        <ogc:Literal>{text_to_query}</ogc:Literal>\n",
    "                    </ogc:PropertyIsLike>\n",
    "            </ogc:Filter>\n",
    "        </csw:Constraint>\n",
    "    </csw:Query>\n",
    "</csw:GetRecords>"
   ]
  },
  {
   "cell_type": "code",
   "execution_count": 20,
   "id": "164bd674-3c72-4a42-b6f7-4386a0bb0ec7",
   "metadata": {},
   "outputs": [
    {
     "name": "stdout",
     "output_type": "stream",
     "text": [
      "58611\n"
     ]
    }
   ],
   "source": [
    "!curl -s -H \"Content-Type: text/xml\" -X POST -d @test_xml_query_anytext_on_field.xml {csw_test_endpoint} | grep -oP 'numberOfRecordsMatched=\"\\K[^\"]+'"
   ]
  },
  {
   "cell_type": "markdown",
   "id": "c0a5a065-5cbf-461d-80bf-2dc723e970ef",
   "metadata": {},
   "source": [
    "#### Python"
   ]
  },
  {
   "cell_type": "code",
   "execution_count": 21,
   "id": "f873c24c-2706-41ac-91e1-b72f8d6af495",
   "metadata": {
    "tags": []
   },
   "outputs": [],
   "source": [
    "filter = PropertyIsLike(\n",
    "    propertyname=f\"dc:{field_to_query}\",\n",
    "    literal=f\"{text_to_query}\",\n",
    "    wildCard=\"*\",\n",
    "    singleChar=\"?\",\n",
    "    escapeChar=\"\\\\\",\n",
    ")\n",
    "\n",
    "csw.getrecords2(\n",
    "    constraints=[filter],\n",
    "    esn=f\"{ElementSetName}\",\n",
    "    startposition=1,\n",
    "    maxrecords=5,\n",
    ")"
   ]
  },
  {
   "cell_type": "code",
   "execution_count": 22,
   "id": "9425b15f-9f49-4314-87d8-8461f6d37d11",
   "metadata": {
    "tags": []
   },
   "outputs": [
    {
     "data": {
      "text/plain": [
       "58611"
      ]
     },
     "execution_count": 22,
     "metadata": {},
     "output_type": "execute_result"
    }
   ],
   "source": [
    "csw.results['matches']"
   ]
  },
  {
   "cell_type": "markdown",
   "id": "0155eb67-2c37-4c02-b6e1-f90fc192569e",
   "metadata": {
    "toc-hr-collapsed": true
   },
   "source": [
    "## Group B"
   ]
  },
  {
   "cell_type": "markdown",
   "id": "3e6b7a19-5d52-454e-8b31-d5a067a496f2",
   "metadata": {},
   "source": [
    "### `anytext` **AND** `Time`"
   ]
  },
  {
   "cell_type": "markdown",
   "id": "b5fb18b3-31e8-4bca-8458-3702634bca93",
   "metadata": {},
   "source": [
    "* Corresponding SOLR JSON Query:\n",
    "\n",
    "```json\n",
    "{\n",
    "    \"q\": \"full_text:(ice)\",\n",
    "    \"q.op\": \"OR\",\n",
    "    \"start\": 0,\n",
    "    \"rows\": \"5\",\n",
    "    \"fq\": [\n",
    "        \"metadata_status:Active\",\n",
    "        \"temporal_extent_start_date:[2018-09-18T09:00:00Z TO *]\",\n",
    "        \"temporal_extent_end_date:[* TO 2020-10-18T09:00:00Z]\",\n",
    "        \"collection:(ADC)\"\n",
    "    ]\n",
    "}\n",
    "```"
   ]
  },
  {
   "cell_type": "markdown",
   "id": "3fcf52fd-0116-4760-8596-f62b7345c81d",
   "metadata": {},
   "source": [
    "#### CSW XML"
   ]
  },
  {
   "cell_type": "code",
   "execution_count": 24,
   "id": "01a62227-9258-4d9e-95a8-7d27857b49d9",
   "metadata": {},
   "outputs": [],
   "source": [
    "%%writetemplate test_xml_query_anytext_AND_time.xml\n",
    "<?xml version=\"1.0\" encoding=\"ISO-8859-1\" standalone=\"no\"?>\n",
    "<csw:GetRecords xmlns:apiso=\"http://www.opengis.net/cat/csw/apiso/1.0\" xmlns:csw=\"http://www.opengis.net/cat/csw/2.0.2\" xmlns:ogc=\"http://www.opengis.net/ogc\" service=\"CSW\" version=\"2.0.2\" resultType=\"results\" startPosition=\"1\" maxRecords=\"5\" outputFormat=\"application/xml\" outputSchema=\"http://www.isotc211.org/2005/gmd\" xmlns:xsi=\"http://www.w3.org/2001/XMLSchema-instance\" xsi:schemaLocation=\"http://www.opengis.net/cat/csw/2.0.2 http://schemas.opengis.net/csw/2.0.2/CSW-discovery.xsd\" xmlns:gml=\"http://www.opengis.net/gml\" xmlns:gmd=\"http://www.isotc211.org/2005/gmd\">\n",
    "    <csw:Query typeNames=\"gmd:MD_Metadata\">\n",
    "        <csw:ElementSetName>{ElementSetName}</csw:ElementSetName>\n",
    "        <csw:Constraint version=\"1.1.0\">\n",
    "            <ogc:Filter>\n",
    "                <ogc:And>\n",
    "                    <ogc:PropertyIsLike wildCard=\"*\" singleChar=\"?\" escapeChar=\"\\\\\" matchCase=\"false\">\n",
    "                        <ogc:PropertyName>apiso:AnyText</ogc:PropertyName>\n",
    "                        <ogc:Literal>{text_to_query}</ogc:Literal>\n",
    "                    </ogc:PropertyIsLike>\n",
    "                    <ogc:PropertyIsLessThanOrEqualTo>\n",
    "                        <ogc:PropertyName>apiso:TempExtent_begin</ogc:PropertyName>\n",
    "                        <ogc:Literal>{end_time}</ogc:Literal>\n",
    "                    </ogc:PropertyIsLessThanOrEqualTo>\n",
    "                    <ogc:PropertyIsGreaterThanOrEqualTo>\n",
    "                        <ogc:PropertyName>apiso:TempExtent_end</ogc:PropertyName>\n",
    "                        <ogc:Literal>{start_time}</ogc:Literal>\n",
    "                    </ogc:PropertyIsGreaterThanOrEqualTo>\n",
    "                </ogc:And>\n",
    "            </ogc:Filter>\n",
    "        </csw:Constraint>\n",
    "    </csw:Query>\n",
    "</csw:GetRecords>"
   ]
  },
  {
   "cell_type": "code",
   "execution_count": 25,
   "id": "ab1c827d-e1b4-4335-aad7-826cc76c30ac",
   "metadata": {},
   "outputs": [
    {
     "name": "stdout",
     "output_type": "stream",
     "text": [
      "2835\n"
     ]
    }
   ],
   "source": [
    "!curl -s -H \"Content-Type: text/xml\" -X POST -d @test_xml_query_anytext_AND_time.xml {csw_test_endpoint} | grep -oP 'numberOfRecordsMatched=\"\\K[^\"]+'"
   ]
  },
  {
   "cell_type": "markdown",
   "id": "f6875375-a2ae-4211-9d87-da532f89a033",
   "metadata": {},
   "source": [
    "#### Python"
   ]
  },
  {
   "cell_type": "code",
   "execution_count": 26,
   "id": "b1e1041a-8cad-40f5-82ef-bb62c0eb50eb",
   "metadata": {
    "tags": []
   },
   "outputs": [],
   "source": [
    "# Create filters\n",
    "text_filter = PropertyIsLike(\n",
    "    propertyname=\"apiso:AnyText\",\n",
    "    literal=f\"{text_to_query}\",\n",
    "    wildCard=\"*\",\n",
    "    singleChar=\"?\",\n",
    "    escapeChar=\"\\\\\",\n",
    ")\n",
    "time_filter1 = PropertyIsLessThanOrEqualTo(\n",
    "    propertyname=\"apiso:TempExtent_begin\", literal=f\"{end_time}\"\n",
    ")\n",
    "time_filter2 = PropertyIsGreaterThanOrEqualTo(\n",
    "    propertyname=\"apiso:TempExtent_end\", literal=f\"{start_time}\"\n",
    ")\n",
    "\n",
    "# Combine filters\n",
    "filter = And([text_filter, time_filter1, time_filter2])\n",
    "\n",
    "# Use the filter in a CSW getrecords request\n",
    "csw.getrecords2(\n",
    "    constraints=[filter], esn=f\"{ElementSetName}\", startposition=1, maxrecords=5\n",
    ")"
   ]
  },
  {
   "cell_type": "code",
   "execution_count": 27,
   "id": "a4719718-0b5e-4e5f-9340-bc60d5602cca",
   "metadata": {
    "tags": []
   },
   "outputs": [
    {
     "data": {
      "text/plain": [
       "2835"
      ]
     },
     "execution_count": 27,
     "metadata": {},
     "output_type": "execute_result"
    }
   ],
   "source": [
    "csw.results['matches']"
   ]
  },
  {
   "cell_type": "markdown",
   "id": "ea156050-49aa-40fa-aac9-0b909b3f0fc1",
   "metadata": {},
   "source": [
    "### `anytext` **AND** `BBOX`\n"
   ]
  },
  {
   "cell_type": "markdown",
   "id": "180ca73e-d3e1-47a4-b4a1-1d2973e84219",
   "metadata": {},
   "source": [
    "* Corresponding SOLR JSON Query:\n",
    "\n",
    "```json\n",
    "{\n",
    "    \"q\": \"full_text:(ice)\",\n",
    "    \"q.op\": \"OR\",\n",
    "    \"start\": 0,\n",
    "    \"rows\": \"5\",\n",
    "    \"fq\": [\n",
    "        \"metadata_status:Active\",\n",
    "        \"{!field f=bbox score=overlapRatio}Within(ENVELOPE(60.0,90.0,180.0,0.0))\",\n",
    "        \"collection:(ADC)\"\n",
    "    ]\n",
    "}\n",
    "```"
   ]
  },
  {
   "cell_type": "markdown",
   "id": "45c9d2e4-7885-4cd0-a525-469237a7e9bc",
   "metadata": {},
   "source": [
    "#### CSW XML"
   ]
  },
  {
   "cell_type": "code",
   "execution_count": 29,
   "id": "ca5622da-741c-43e9-9703-ef5d0b41eefd",
   "metadata": {},
   "outputs": [],
   "source": [
    "%%writetemplate test_xml_query_anytext_AND_BBOX.xml\n",
    "<?xml version=\"1.0\" encoding=\"ISO-8859-1\" standalone=\"no\"?>\n",
    "<csw:GetRecords xmlns:apiso=\"http://www.opengis.net/cat/csw/apiso/1.0\" xmlns:csw=\"http://www.opengis.net/cat/csw/2.0.2\" xmlns:ogc=\"http://www.opengis.net/ogc\" service=\"CSW\" version=\"2.0.2\" resultType=\"results\" startPosition=\"1\" maxRecords=\"5\" outputFormat=\"application/xml\" outputSchema=\"http://www.isotc211.org/2005/gmd\" xmlns:xsi=\"http://www.w3.org/2001/XMLSchema-instance\" xsi:schemaLocation=\"http://www.opengis.net/cat/csw/2.0.2 http://schemas.opengis.net/csw/2.0.2/CSW-discovery.xsd\" xmlns:gml=\"http://www.opengis.net/gml\" xmlns:gmd=\"http://www.isotc211.org/2005/gmd\">\n",
    "    <csw:Query typeNames=\"gmd:MD_Metadata\">\n",
    "        <csw:ElementSetName>{ElementSetName}</csw:ElementSetName>\n",
    "        <csw:Constraint version=\"1.1.0\">\n",
    "            <ogc:Filter>\n",
    "                <ogc:And>\n",
    "                    <ogc:PropertyIsLike wildCard=\"*\" singleChar=\"?\" escapeChar=\"\\\\\" matchCase=\"false\">\n",
    "                        <ogc:PropertyName>apiso:AnyText</ogc:PropertyName>\n",
    "                        <ogc:Literal>{text_to_query}</ogc:Literal>\n",
    "                    </ogc:PropertyIsLike>\n",
    "                    <ogc:BBOX>\n",
    "                        <ogc:PropertyName>apiso:BoundingBox</ogc:PropertyName>\n",
    "                            <gml:Envelope>\n",
    "                                <gml:lowerCorner>{lowerCorner}</gml:lowerCorner>\n",
    "                                <gml:upperCorner>{upperCorner}</gml:upperCorner>\n",
    "                            </gml:Envelope>\n",
    "                    </ogc:BBOX>\n",
    "                </ogc:And>\n",
    "            </ogc:Filter>\n",
    "        </csw:Constraint>\n",
    "    </csw:Query>\n",
    "</csw:GetRecords>"
   ]
  },
  {
   "cell_type": "code",
   "execution_count": 30,
   "id": "f4746b80-2b86-4b02-89e5-4ee136485c85",
   "metadata": {},
   "outputs": [
    {
     "name": "stdout",
     "output_type": "stream",
     "text": [
      "6365\n"
     ]
    }
   ],
   "source": [
    "!curl -s -H \"Content-Type: text/xml\" -X POST -d @test_xml_query_anytext_AND_BBOX.xml {csw_test_endpoint} | grep -oP 'numberOfRecordsMatched=\"\\K[^\"]+'"
   ]
  },
  {
   "cell_type": "markdown",
   "id": "b9f1cc2a-9e4c-425d-b346-202ce082d746",
   "metadata": {},
   "source": [
    "#### Python"
   ]
  },
  {
   "cell_type": "code",
   "execution_count": 31,
   "id": "eb60eea4-0866-440a-b1a5-01101f234f71",
   "metadata": {
    "tags": []
   },
   "outputs": [],
   "source": [
    "# Create filters\n",
    "text_filter = PropertyIsLike(\n",
    "    propertyname=\"apiso:AnyText\",\n",
    "    literal=f\"{text_to_query}\",\n",
    "    wildCard=\"*\",\n",
    "    singleChar=\"?\",\n",
    "    escapeChar=\"\\\\\",\n",
    ")\n",
    "\n",
    "bbox = lowerCorner.split() + upperCorner.split()\n",
    "\n",
    "bbox_filter = BBox(bbox)\n",
    "\n",
    "# Combine filters\n",
    "filter = And([text_filter, bbox_filter])\n",
    "\n",
    "# Use the filter in a CSW getrecords request\n",
    "csw.getrecords2(\n",
    "    constraints=[filter],\n",
    "    esn=f\"{ElementSetName}\",\n",
    "    startposition=1,\n",
    "    maxrecords=5,\n",
    ")"
   ]
  },
  {
   "cell_type": "code",
   "execution_count": 32,
   "id": "b3720271-427b-430a-9da8-cce3a21c61b2",
   "metadata": {
    "tags": []
   },
   "outputs": [
    {
     "data": {
      "text/plain": [
       "6365"
      ]
     },
     "execution_count": 32,
     "metadata": {},
     "output_type": "execute_result"
    }
   ],
   "source": [
    "csw.results['matches']"
   ]
  },
  {
   "cell_type": "markdown",
   "id": "9e5472bf-84a6-4ab7-be92-426ab4e59de2",
   "metadata": {},
   "source": [
    "### `anytext` **AND** `Time` **AND** `BBOX`"
   ]
  },
  {
   "cell_type": "markdown",
   "id": "475b28a0-c9b3-4d30-b4e3-3b14d077e100",
   "metadata": {},
   "source": [
    "* Corresponding SOLR JSON Query:\n",
    "\n",
    "```json\n",
    "{\n",
    "    \"q\": \"full_text:(ice)\",\n",
    "    \"q.op\": \"OR\",\n",
    "    \"start\": 0,\n",
    "    \"rows\": \"5\",\n",
    "    \"fq\": [\n",
    "        \"metadata_status:Active\",\n",
    "        \"{!field f=bbox score=overlapRatio}Within(ENVELOPE(60.0,90.0,180.0,0.0))\",\n",
    "        \"temporal_extent_start_date:[2018-09-18T09:00:00Z TO *]\",\n",
    "        \"temporal_extent_end_date:[* TO 2020-10-18T09:00:00Z]\",\n",
    "        \"collection:(ADC)\"\n",
    "    ]\n",
    "}\n",
    "```"
   ]
  },
  {
   "cell_type": "markdown",
   "id": "a9a5134e-11c9-4127-866b-db61c69beb4a",
   "metadata": {},
   "source": [
    "#### CSW XML"
   ]
  },
  {
   "cell_type": "code",
   "execution_count": 34,
   "id": "c25aaf95-fb5c-458c-8af5-f617b33b2cf9",
   "metadata": {},
   "outputs": [],
   "source": [
    "%%writetemplate test_xml_query_anytext_AND_time_AND_BBOX.xml\n",
    "<?xml version=\"1.0\" encoding=\"ISO-8859-1\" standalone=\"no\"?>\n",
    "<csw:GetRecords xmlns:apiso=\"http://www.opengis.net/cat/csw/apiso/1.0\" xmlns:csw=\"http://www.opengis.net/cat/csw/2.0.2\" xmlns:ogc=\"http://www.opengis.net/ogc\" service=\"CSW\" version=\"2.0.2\" resultType=\"results\" startPosition=\"1\" maxRecords=\"5\" outputFormat=\"application/xml\" outputSchema=\"http://www.isotc211.org/2005/gmd\" xmlns:xsi=\"http://www.w3.org/2001/XMLSchema-instance\" xsi:schemaLocation=\"http://www.opengis.net/cat/csw/2.0.2 http://schemas.opengis.net/csw/2.0.2/CSW-discovery.xsd\" xmlns:gml=\"http://www.opengis.net/gml\" xmlns:gmd=\"http://www.isotc211.org/2005/gmd\">\n",
    "    <csw:Query typeNames=\"gmd:MD_Metadata\">\n",
    "        <csw:ElementSetName>{ElementSetName}</csw:ElementSetName>\n",
    "        <csw:Constraint version=\"1.1.0\">\n",
    "            <ogc:Filter>\n",
    "                <ogc:And>\n",
    "                    <ogc:PropertyIsLike wildCard=\"*\" singleChar=\"?\" escapeChar=\"\\\\\" matchCase=\"false\">\n",
    "                        <ogc:PropertyName>apiso:AnyText</ogc:PropertyName>\n",
    "                        <ogc:Literal>{text_to_query}</ogc:Literal>\n",
    "                    </ogc:PropertyIsLike>\n",
    "                    <ogc:BBOX>\n",
    "                        <ogc:PropertyName>apiso:BoundingBox</ogc:PropertyName>\n",
    "                        <gml:Envelope>\n",
    "                            <gml:lowerCorner>{lowerCorner}</gml:lowerCorner>\n",
    "                            <gml:upperCorner>{upperCorner}</gml:upperCorner>\n",
    "                        </gml:Envelope>\n",
    "                    </ogc:BBOX>\n",
    "                    <ogc:PropertyIsLessThanOrEqualTo>\n",
    "                        <ogc:PropertyName>apiso:TempExtent_begin</ogc:PropertyName>\n",
    "                        <ogc:Literal>{end_time}</ogc:Literal>\n",
    "                    </ogc:PropertyIsLessThanOrEqualTo>\n",
    "                    <ogc:PropertyIsGreaterThanOrEqualTo>\n",
    "                        <ogc:PropertyName>apiso:TempExtent_end</ogc:PropertyName>\n",
    "                        <ogc:Literal>{start_time}</ogc:Literal>\n",
    "                    </ogc:PropertyIsGreaterThanOrEqualTo>\n",
    "                </ogc:And>\n",
    "            </ogc:Filter>\n",
    "        </csw:Constraint>\n",
    "    </csw:Query>\n",
    "</csw:GetRecords>"
   ]
  },
  {
   "cell_type": "code",
   "execution_count": 35,
   "id": "9fe7fecd-90a1-400a-a020-9fa7abad5e4b",
   "metadata": {},
   "outputs": [
    {
     "name": "stdout",
     "output_type": "stream",
     "text": [
      "3\n"
     ]
    }
   ],
   "source": [
    "!curl -s -H \"Content-Type: text/xml\" -X POST -d @test_xml_query_anytext_AND_time_AND_BBOX.xml {csw_test_endpoint} | grep -oP 'numberOfRecordsMatched=\"\\K[^\"]+'"
   ]
  },
  {
   "cell_type": "markdown",
   "id": "80943f15-103a-4e0f-bf82-90e17aaf7504",
   "metadata": {},
   "source": [
    "#### Python"
   ]
  },
  {
   "cell_type": "code",
   "execution_count": 36,
   "id": "abb56932-cedf-4e1f-a0c6-ae3aa6b045a0",
   "metadata": {
    "tags": []
   },
   "outputs": [],
   "source": [
    "# Create filters\n",
    "text_filter = PropertyIsLike(\n",
    "    propertyname=\"apiso:AnyText\",\n",
    "    literal=f\"{text_to_query}\",\n",
    "    wildCard=\"*\",\n",
    "    singleChar=\"?\",\n",
    "    escapeChar=\"\\\\\",\n",
    ")\n",
    "bbox_filter = BBox(lowerCorner.split() + upperCorner.split())\n",
    "time_filter1 = PropertyIsLessThanOrEqualTo(\n",
    "    propertyname=\"apiso:TempExtent_begin\", literal=f\"{end_time}\"\n",
    ")\n",
    "time_filter2 = PropertyIsGreaterThanOrEqualTo(\n",
    "    propertyname=\"apiso:TempExtent_end\", literal=f\"{start_time}\"\n",
    ")\n",
    "\n",
    "# Combine filters\n",
    "filter = And([text_filter, bbox_filter, time_filter1, time_filter2])\n",
    "\n",
    "# Use the filter in a CSW getrecords request\n",
    "csw.getrecords2(\n",
    "    constraints=[filter],\n",
    "    esn=f\"{ElementSetName}\",\n",
    "    startposition=1,\n",
    "    maxrecords=5,\n",
    ")"
   ]
  },
  {
   "cell_type": "code",
   "execution_count": 37,
   "id": "13cd96a5-d560-496c-9110-88f89dec260c",
   "metadata": {
    "tags": []
   },
   "outputs": [
    {
     "data": {
      "text/plain": [
       "3"
      ]
     },
     "execution_count": 37,
     "metadata": {},
     "output_type": "execute_result"
    }
   ],
   "source": [
    "csw.results['matches']"
   ]
  },
  {
   "cell_type": "markdown",
   "id": "5e295d32-2c4f-4b29-8d75-2de85f19b354",
   "metadata": {
    "toc-hr-collapsed": true
   },
   "source": [
    "## Group C"
   ]
  },
  {
   "cell_type": "markdown",
   "id": "1000fbad-748c-4e69-93a5-433673a9e983",
   "metadata": {},
   "source": [
    "### `anytext` *on field*  **AND** `Time`"
   ]
  },
  {
   "cell_type": "markdown",
   "id": "9f7bf3c3-03ac-4a39-bdb8-9de5f28cc6e0",
   "metadata": {},
   "source": [
    "* Corresponding SOLR JSON Query:\n",
    "\n",
    "```json\n",
    "{\n",
    "    \"q\": \"*:*\",\n",
    "    \"q.op\": \"OR\",\n",
    "    \"start\": 0,\n",
    "    \"rows\": \"5\",\n",
    "    \"fq\": [\n",
    "        \"metadata_status:Active\",\n",
    "        \"title:(ice)\",\n",
    "        \"temporal_extent_start_date:[2018-09-18T09:00:00Z TO *]\",\n",
    "        \"temporal_extent_end_date:[* TO 2020-10-18T09:00:00Z]\",\n",
    "        \"collection:(ADC)\"\n",
    "    ]\n",
    "}\n",
    "```"
   ]
  },
  {
   "cell_type": "markdown",
   "id": "7060d25c-0711-4246-9cb2-25e5b6df2fa7",
   "metadata": {},
   "source": [
    "#### CSW XML"
   ]
  },
  {
   "cell_type": "code",
   "execution_count": 38,
   "id": "de317953-76af-4973-a6b7-b65ea6990082",
   "metadata": {},
   "outputs": [],
   "source": [
    "%%writetemplate test_xml_query_anytext_on_field_AND_time.xml\n",
    "<?xml version=\"1.0\" encoding=\"ISO-8859-1\" standalone=\"no\"?>\n",
    "<csw:GetRecords xmlns:apiso=\"http://www.opengis.net/cat/csw/apiso/1.0\" xmlns:csw=\"http://www.opengis.net/cat/csw/2.0.2\" xmlns:ogc=\"http://www.opengis.net/ogc\" service=\"CSW\" version=\"2.0.2\" resultType=\"results\" startPosition=\"1\" maxRecords=\"5\" outputFormat=\"application/xml\" outputSchema=\"http://www.isotc211.org/2005/gmd\" xmlns:xsi=\"http://www.w3.org/2001/XMLSchema-instance\" xsi:schemaLocation=\"http://www.opengis.net/cat/csw/2.0.2 http://schemas.opengis.net/csw/2.0.2/CSW-discovery.xsd\" xmlns:gml=\"http://www.opengis.net/gml\" xmlns:gmd=\"http://www.isotc211.org/2005/gmd\">\n",
    "    <csw:Query typeNames=\"gmd:MD_Metadata\">\n",
    "        <csw:ElementSetName>{ElementSetName}</csw:ElementSetName>\n",
    "        <csw:Constraint version=\"1.1.0\">\n",
    "            <ogc:Filter>\n",
    "                <ogc:And>\n",
    "                    <ogc:PropertyIsLike wildCard=\"*\" singleChar=\"?\" escapeChar=\"\\\\\" matchCase=\"false\">\n",
    "                        <ogc:PropertyName>dc:{field_to_query}</ogc:PropertyName>\n",
    "                        <ogc:Literal>{text_to_query}</ogc:Literal>\n",
    "                    </ogc:PropertyIsLike>\n",
    "                    <ogc:PropertyIsLessThanOrEqualTo>\n",
    "                        <ogc:PropertyName>apiso:TempExtent_begin</ogc:PropertyName>\n",
    "                        <ogc:Literal>{end_time}</ogc:Literal>\n",
    "                    </ogc:PropertyIsLessThanOrEqualTo>\n",
    "                    <ogc:PropertyIsGreaterThanOrEqualTo>\n",
    "                        <ogc:PropertyName>apiso:TempExtent_end</ogc:PropertyName>\n",
    "                        <ogc:Literal>{start_time}</ogc:Literal>\n",
    "                    </ogc:PropertyIsGreaterThanOrEqualTo>\n",
    "                </ogc:And>\n",
    "            </ogc:Filter>\n",
    "        </csw:Constraint>\n",
    "    </csw:Query>\n",
    "</csw:GetRecords>"
   ]
  },
  {
   "cell_type": "code",
   "execution_count": 39,
   "id": "73525be8-58fc-4226-94d0-aa73d4525125",
   "metadata": {},
   "outputs": [
    {
     "name": "stdout",
     "output_type": "stream",
     "text": [
      "2383\n"
     ]
    }
   ],
   "source": [
    "!curl -s -H \"Content-Type: text/xml\" -X POST -d @test_xml_query_anytext_on_field_AND_time.xml {csw_test_endpoint}  | grep -oP 'numberOfRecordsMatched=\"\\K[^\"]+'"
   ]
  },
  {
   "cell_type": "markdown",
   "id": "eae379bc-ccba-4cc9-bf85-f4c6335fb7ef",
   "metadata": {},
   "source": [
    "#### Python"
   ]
  },
  {
   "cell_type": "code",
   "execution_count": 40,
   "id": "f021b84f-d994-457b-92d5-d338725123bb",
   "metadata": {
    "tags": []
   },
   "outputs": [],
   "source": [
    "# Create filters\n",
    "text_filter = PropertyIsLike(\n",
    "    propertyname=f\"dc:{field_to_query}\",\n",
    "    literal=f\"{text_to_query}\",\n",
    "    wildCard=\"*\",\n",
    "    singleChar=\"?\",\n",
    "    escapeChar=\"\\\\\",\n",
    ")\n",
    "time_filter1 = PropertyIsLessThanOrEqualTo(\n",
    "    propertyname=\"apiso:TempExtent_begin\", literal=f\"{end_time}\"\n",
    ")\n",
    "time_filter2 = PropertyIsGreaterThanOrEqualTo(\n",
    "    propertyname=\"apiso:TempExtent_end\", literal=f\"{start_time}\"\n",
    ")\n",
    "\n",
    "# Combine filters\n",
    "filter = And([text_filter, time_filter1, time_filter2])\n",
    "\n",
    "# Use the filter in a CSW getrecords request\n",
    "csw.getrecords2(\n",
    "    constraints=[filter],\n",
    "    esn=f\"{ElementSetName}\",\n",
    "    startposition=1,\n",
    "    maxrecords=5,\n",
    ")"
   ]
  },
  {
   "cell_type": "code",
   "execution_count": 41,
   "id": "e070a3b3-15d1-421c-8cdb-7f04214164ab",
   "metadata": {
    "tags": []
   },
   "outputs": [
    {
     "data": {
      "text/plain": [
       "2383"
      ]
     },
     "execution_count": 41,
     "metadata": {},
     "output_type": "execute_result"
    }
   ],
   "source": [
    "csw.results['matches']"
   ]
  },
  {
   "cell_type": "markdown",
   "id": "594f4263-848d-4c3e-a2f8-9d2e54646fc4",
   "metadata": {},
   "source": [
    "### `anytext` *on field*  **AND** `BBOX`"
   ]
  },
  {
   "cell_type": "markdown",
   "id": "95812ba8-1604-40b3-a6d3-85d8aeaf62db",
   "metadata": {},
   "source": [
    "* Corresponding SOLR JSON Query:\n",
    "\n",
    "```json\n",
    "{\n",
    "    \"q\": \"*:*\",\n",
    "    \"q.op\": \"OR\",\n",
    "    \"start\": 0,\n",
    "    \"rows\": \"5\",\n",
    "    \"fq\": [\n",
    "        \"metadata_status:Active\",\n",
    "        \"title:(ice)\",\n",
    "        \"{!field f=bbox score=overlapRatio}Within(ENVELOPE(60.0,90.0,180.0,0.0))\",\n",
    "        \"collection:(ADC)\"\n",
    "    ]\n",
    "}\n",
    "```"
   ]
  },
  {
   "cell_type": "markdown",
   "id": "cda11b66-eede-47d9-9c21-6e05f1f4e402",
   "metadata": {},
   "source": [
    "#### CSW XML"
   ]
  },
  {
   "cell_type": "code",
   "execution_count": 42,
   "id": "29afb534-2428-49ab-8978-df9c6adf126a",
   "metadata": {},
   "outputs": [],
   "source": [
    "%%writetemplate test_xml_query_anytext_on_field_AND_BBOX.xml\n",
    "<?xml version=\"1.0\" encoding=\"ISO-8859-1\" standalone=\"no\"?>\n",
    "<csw:GetRecords xmlns:apiso=\"http://www.opengis.net/cat/csw/apiso/1.0\" xmlns:csw=\"http://www.opengis.net/cat/csw/2.0.2\" xmlns:ogc=\"http://www.opengis.net/ogc\" service=\"CSW\" version=\"2.0.2\" resultType=\"results\" startPosition=\"1\" maxRecords=\"5\" outputFormat=\"application/xml\" outputSchema=\"http://www.isotc211.org/2005/gmd\" xmlns:xsi=\"http://www.w3.org/2001/XMLSchema-instance\" xsi:schemaLocation=\"http://www.opengis.net/cat/csw/2.0.2 http://schemas.opengis.net/csw/2.0.2/CSW-discovery.xsd\" xmlns:gml=\"http://www.opengis.net/gml\" xmlns:gmd=\"http://www.isotc211.org/2005/gmd\">\n",
    "    <csw:Query typeNames=\"gmd:MD_Metadata\">\n",
    "        <csw:ElementSetName>{ElementSetName}</csw:ElementSetName>\n",
    "        <csw:Constraint version=\"1.1.0\">\n",
    "            <ogc:Filter>\n",
    "                <ogc:And>\n",
    "                    <ogc:PropertyIsLike wildCard=\"*\" singleChar=\"?\" escapeChar=\"\\\\\" matchCase=\"false\">\n",
    "                        <ogc:PropertyName>dc:{field_to_query}</ogc:PropertyName>\n",
    "                        <ogc:Literal>{text_to_query}</ogc:Literal>\n",
    "                    </ogc:PropertyIsLike>\n",
    "                    <ogc:BBOX>\n",
    "                        <ogc:PropertyName>apiso:BoundingBox</ogc:PropertyName>\n",
    "                            <gml:Envelope>\n",
    "                                <gml:lowerCorner>{lowerCorner}</gml:lowerCorner>\n",
    "                                <gml:upperCorner>{upperCorner}</gml:upperCorner>\n",
    "                            </gml:Envelope>\n",
    "                    </ogc:BBOX>\n",
    "                </ogc:And>\n",
    "            </ogc:Filter>\n",
    "        </csw:Constraint>\n",
    "    </csw:Query>\n",
    "</csw:GetRecords>"
   ]
  },
  {
   "cell_type": "code",
   "execution_count": 43,
   "id": "34406798-5dd5-4335-8afc-c289dfc2e6fc",
   "metadata": {},
   "outputs": [
    {
     "name": "stdout",
     "output_type": "stream",
     "text": [
      "0\n"
     ]
    }
   ],
   "source": [
    "!curl -s -H \"Content-Type: text/xml\" -X POST -d @test_xml_query_anytext_on_field_AND_BBOX.xml {csw_test_endpoint} | grep -oP 'numberOfRecordsMatched=\"\\K[^\"]+'"
   ]
  },
  {
   "cell_type": "markdown",
   "id": "fc8001cd-35b4-4c58-bb9d-3d68bee04be1",
   "metadata": {},
   "source": [
    "#### Python"
   ]
  },
  {
   "cell_type": "code",
   "execution_count": 44,
   "id": "04ed99fe-85de-4dfd-abc0-dd6e95c90383",
   "metadata": {
    "tags": []
   },
   "outputs": [],
   "source": [
    "# Create filters\n",
    "text_filter = PropertyIsLike(\n",
    "    propertyname=f\"dc:{field_to_query}\",\n",
    "    literal=f\"{text_to_query}\",\n",
    "    wildCard=\"*\",\n",
    "    singleChar=\"?\",\n",
    "    escapeChar=\"\\\\\",\n",
    ")\n",
    "bbox_filter = BBox(lowerCorner.split() + upperCorner.split())\n",
    "\n",
    "# Combine filters\n",
    "filter = And([text_filter, bbox_filter])\n",
    "\n",
    "# Use the filter in a CSW getrecords request\n",
    "csw.getrecords2(\n",
    "    constraints=[filter],\n",
    "    esn=f\"{ElementSetName}\",\n",
    "    startposition=1,\n",
    "    maxrecords=5,\n",
    ")"
   ]
  },
  {
   "cell_type": "code",
   "execution_count": 45,
   "id": "f171c4a9-cb1b-4d0a-ba92-ed052ddb97aa",
   "metadata": {
    "tags": []
   },
   "outputs": [
    {
     "data": {
      "text/plain": [
       "0"
      ]
     },
     "execution_count": 45,
     "metadata": {},
     "output_type": "execute_result"
    }
   ],
   "source": [
    "csw.results['matches']"
   ]
  },
  {
   "cell_type": "markdown",
   "id": "88c41576-50e7-49a3-961d-e25338ceb614",
   "metadata": {},
   "source": [
    "### `anytext` *on field* **AND** `Time` **AND** `BBOX`"
   ]
  },
  {
   "cell_type": "markdown",
   "id": "065e01af-d312-4a08-ba4e-312c730dd9f3",
   "metadata": {},
   "source": [
    "* Corresponding SOLR JSON Query:\n",
    "\n",
    "```json\n",
    "{\n",
    "    \"q\": \"*:*\",\n",
    "    \"q.op\": \"OR\",\n",
    "    \"start\": 0,\n",
    "    \"rows\": \"5\",\n",
    "    \"fq\": [\n",
    "        \"metadata_status:Active\",\n",
    "        \"title:(ice)\",\n",
    "        \"{!field f=bbox score=overlapRatio}Within(ENVELOPE(60.0,90.0,180.0,0.0))\",\n",
    "        \"temporal_extent_start_date:[2018-09-18T09:00:00Z TO *]\",\n",
    "        \"temporal_extent_end_date:[* TO 2020-10-18T09:00:00Z]\",\n",
    "        \"collection:(ADC)\"\n",
    "    ]\n",
    "}\n",
    "```"
   ]
  },
  {
   "cell_type": "markdown",
   "id": "ce0871be-c543-4c0c-a1db-c3c93885f2f7",
   "metadata": {},
   "source": [
    "#### CSW XML"
   ]
  },
  {
   "cell_type": "code",
   "execution_count": 47,
   "id": "0685c4d6-57a5-4fd8-bb4f-4a4f594a805f",
   "metadata": {},
   "outputs": [],
   "source": [
    "%%writetemplate test_xml_query_anytext_on_field_AND_Time_AND_BBOX.xml\n",
    "<?xml version=\"1.0\" encoding=\"ISO-8859-1\" standalone=\"no\"?>\n",
    "<csw:GetRecords xmlns:apiso=\"http://www.opengis.net/cat/csw/apiso/1.0\" xmlns:csw=\"http://www.opengis.net/cat/csw/2.0.2\" xmlns:ogc=\"http://www.opengis.net/ogc\" service=\"CSW\" version=\"2.0.2\" resultType=\"results\" startPosition=\"1\" maxRecords=\"5\" outputFormat=\"application/xml\" outputSchema=\"http://www.isotc211.org/2005/gmd\" xmlns:xsi=\"http://www.w3.org/2001/XMLSchema-instance\" xsi:schemaLocation=\"http://www.opengis.net/cat/csw/2.0.2 http://schemas.opengis.net/csw/2.0.2/CSW-discovery.xsd\" xmlns:gml=\"http://www.opengis.net/gml\" xmlns:gmd=\"http://www.isotc211.org/2005/gmd\">\n",
    "    <csw:Query typeNames=\"gmd:MD_Metadata\">\n",
    "        <csw:ElementSetName>{ElementSetName}</csw:ElementSetName>\n",
    "        <csw:Constraint version=\"1.1.0\">\n",
    "            <ogc:Filter>\n",
    "                <ogc:And>\n",
    "                    <ogc:PropertyIsLike wildCard=\"*\" singleChar=\"?\" escapeChar=\"\\\\\" matchCase=\"false\">\n",
    "                        <ogc:PropertyName>dc:{field_to_query}</ogc:PropertyName>\n",
    "                        <ogc:Literal>{text_to_query}</ogc:Literal>\n",
    "                    </ogc:PropertyIsLike>\n",
    "                    <ogc:BBOX>\n",
    "                        <ogc:PropertyName>apiso:BoundingBox</ogc:PropertyName>\n",
    "                            <gml:Envelope>\n",
    "                                <gml:lowerCorner>{lowerCorner}</gml:lowerCorner>\n",
    "                                <gml:upperCorner>{upperCorner}</gml:upperCorner>\n",
    "                            </gml:Envelope>\n",
    "                    </ogc:BBOX>\n",
    "                    <ogc:PropertyIsLessThanOrEqualTo>\n",
    "                        <ogc:PropertyName>apiso:TempExtent_begin</ogc:PropertyName>\n",
    "                        <ogc:Literal>{end_time}</ogc:Literal>\n",
    "                    </ogc:PropertyIsLessThanOrEqualTo>\n",
    "                    <ogc:PropertyIsGreaterThanOrEqualTo>\n",
    "                        <ogc:PropertyName>apiso:TempExtent_end</ogc:PropertyName>\n",
    "                        <ogc:Literal>{start_time}</ogc:Literal>\n",
    "                    </ogc:PropertyIsGreaterThanOrEqualTo>\n",
    "                </ogc:And>\n",
    "            </ogc:Filter>\n",
    "        </csw:Constraint>\n",
    "    </csw:Query>\n",
    "</csw:GetRecords>"
   ]
  },
  {
   "cell_type": "code",
   "execution_count": 48,
   "id": "36480e82-e959-4015-90ae-f146cc464390",
   "metadata": {},
   "outputs": [
    {
     "name": "stdout",
     "output_type": "stream",
     "text": [
      "0\n"
     ]
    }
   ],
   "source": [
    "!curl -s -H \"Content-Type: text/xml\" -X POST -d @test_xml_query_anytext_on_field_AND_Time_AND_BBOX.xml {csw_test_endpoint} | grep -oP 'numberOfRecordsMatched=\"\\K[^\"]+'"
   ]
  },
  {
   "cell_type": "markdown",
   "id": "21f2e910-4073-42b6-a769-7550a468b85c",
   "metadata": {},
   "source": [
    "#### Python"
   ]
  },
  {
   "cell_type": "code",
   "execution_count": 49,
   "id": "ca81f68b-39eb-4416-8b77-f07fb28b1de2",
   "metadata": {
    "tags": []
   },
   "outputs": [],
   "source": [
    "# Create filters\n",
    "text_filter = PropertyIsLike(\n",
    "    propertyname=f\"dc:{field_to_query}\",\n",
    "    literal=f\"{text_to_query}\",\n",
    "    wildCard=\"*\",\n",
    "    singleChar=\"?\",\n",
    "    escapeChar=\"\\\\\",\n",
    ")\n",
    "bbox_filter = BBox(lowerCorner.split() + upperCorner.split())\n",
    "time_filter1 = PropertyIsLessThanOrEqualTo(\n",
    "    propertyname=\"apiso:TempExtent_begin\", literal=f\"{end_time}\"\n",
    ")\n",
    "time_filter2 = PropertyIsGreaterThanOrEqualTo(\n",
    "    propertyname=\"apiso:TempExtent_end\", literal=f\"{start_time}\"\n",
    ")\n",
    "\n",
    "# Combine filters\n",
    "filter = And([text_filter, bbox_filter, time_filter1, time_filter2])\n",
    "\n",
    "# Use the filter in a CSW getrecords request\n",
    "csw.getrecords2(\n",
    "    constraints=[filter],\n",
    "    esn=f\"{ElementSetName}\",\n",
    "    startposition=1,\n",
    "    maxrecords=5,\n",
    ")"
   ]
  },
  {
   "cell_type": "code",
   "execution_count": 50,
   "id": "0912013d-cd4c-436e-ab87-d7761b728de7",
   "metadata": {
    "tags": []
   },
   "outputs": [
    {
     "data": {
      "text/plain": [
       "0"
      ]
     },
     "execution_count": 50,
     "metadata": {},
     "output_type": "execute_result"
    }
   ],
   "source": [
    "csw.results['matches']"
   ]
  },
  {
   "cell_type": "markdown",
   "id": "0cae6683-c605-4d7f-8d1e-187d977bd89b",
   "metadata": {
    "toc-hr-collapsed": true
   },
   "source": [
    "## Group D"
   ]
  },
  {
   "cell_type": "markdown",
   "id": "d382f8e7-4d50-464e-9bfc-eebecbceeb5f",
   "metadata": {},
   "source": [
    "### `Time` **AND** `BBOX`"
   ]
  },
  {
   "cell_type": "markdown",
   "id": "073afbba-5f7c-47c2-9bb5-c75336f2bd0a",
   "metadata": {},
   "source": [
    "* Corresponding SOLR JSON Query:\n",
    "\n",
    "```json\n",
    "{\n",
    "    \"q\": \"*:*\",\n",
    "    \"q.op\": \"OR\",\n",
    "    \"start\": 0,\n",
    "    \"rows\": \"5\",\n",
    "    \"fq\": [\n",
    "        \"metadata_status:Active\",\n",
    "        \"{!field f=bbox score=overlapRatio}Within(ENVELOPE(60.0,90.0,180.0,0.0))\",\n",
    "        \"temporal_extent_start_date:[2018-09-18T09:00:00Z TO *]\",\n",
    "        \"temporal_extent_end_date:[* TO 2020-10-18T09:00:00Z]\",\n",
    "        \"collection:(ADC)\"\n",
    "    ]\n",
    "}\n",
    "```"
   ]
  },
  {
   "cell_type": "markdown",
   "id": "75a037d2-f80b-456b-be86-ea58bc451055",
   "metadata": {},
   "source": [
    "#### CSW XML"
   ]
  },
  {
   "cell_type": "code",
   "execution_count": 51,
   "id": "48d74090-2533-476f-a581-91f380df1cf2",
   "metadata": {},
   "outputs": [],
   "source": [
    "%%writetemplate test_xml_query_Time_AND_BBOX.xml\n",
    "<?xml version=\"1.0\" encoding=\"ISO-8859-1\" standalone=\"no\"?>\n",
    "<csw:GetRecords xmlns:apiso=\"http://www.opengis.net/cat/csw/apiso/1.0\" xmlns:csw=\"http://www.opengis.net/cat/csw/2.0.2\" xmlns:ogc=\"http://www.opengis.net/ogc\" service=\"CSW\" version=\"2.0.2\" resultType=\"results\" startPosition=\"1\" maxRecords=\"5\" outputFormat=\"application/xml\" outputSchema=\"http://www.isotc211.org/2005/gmd\" xmlns:xsi=\"http://www.w3.org/2001/XMLSchema-instance\" xsi:schemaLocation=\"http://www.opengis.net/cat/csw/2.0.2 http://schemas.opengis.net/csw/2.0.2/CSW-discovery.xsd\" xmlns:gml=\"http://www.opengis.net/gml\" xmlns:gmd=\"http://www.isotc211.org/2005/gmd\">\n",
    "    <csw:Query typeNames=\"gmd:MD_Metadata\">\n",
    "        <csw:ElementSetName>{ElementSetName}</csw:ElementSetName>\n",
    "        <csw:Constraint version=\"1.1.0\">\n",
    "            <ogc:Filter>\n",
    "                <ogc:And>\n",
    "                    <ogc:BBOX>\n",
    "                        <ogc:PropertyName>apiso:BoundingBox</ogc:PropertyName>\n",
    "                            <gml:Envelope>\n",
    "                                <gml:lowerCorner>{lowerCorner}</gml:lowerCorner>\n",
    "                                <gml:upperCorner>{upperCorner}</gml:upperCorner>\n",
    "                            </gml:Envelope>\n",
    "                    </ogc:BBOX>\n",
    "                    <ogc:PropertyIsLessThanOrEqualTo>\n",
    "                        <ogc:PropertyName>apiso:TempExtent_begin</ogc:PropertyName>\n",
    "                        <ogc:Literal>{end_time}</ogc:Literal>\n",
    "                    </ogc:PropertyIsLessThanOrEqualTo>\n",
    "                    <ogc:PropertyIsGreaterThanOrEqualTo>\n",
    "                        <ogc:PropertyName>apiso:TempExtent_end</ogc:PropertyName>\n",
    "                        <ogc:Literal>{start_time}</ogc:Literal>\n",
    "                    </ogc:PropertyIsGreaterThanOrEqualTo>\n",
    "                </ogc:And>\n",
    "            </ogc:Filter>\n",
    "        </csw:Constraint>\n",
    "    </csw:Query>\n",
    "</csw:GetRecords>"
   ]
  },
  {
   "cell_type": "code",
   "execution_count": 52,
   "id": "793e1f5b-622a-4f9b-a21b-bc44b5d7e4e8",
   "metadata": {},
   "outputs": [
    {
     "name": "stdout",
     "output_type": "stream",
     "text": [
      "34\n"
     ]
    }
   ],
   "source": [
    "!curl -s -H \"Content-Type: text/xml\" -X POST -d @test_xml_query_Time_AND_BBOX.xml {csw_test_endpoint} | grep -oP 'numberOfRecordsMatched=\"\\K[^\"]+'"
   ]
  },
  {
   "cell_type": "markdown",
   "id": "1d3195d3-fbfc-4cbf-a4bc-88b8b756743b",
   "metadata": {},
   "source": [
    "#### Python"
   ]
  },
  {
   "cell_type": "code",
   "execution_count": 53,
   "id": "e1f5ff77-a4b6-495c-aa1e-c6aa2308b815",
   "metadata": {
    "tags": []
   },
   "outputs": [],
   "source": [
    "# Create filters\n",
    "bbox_filter = BBox(lowerCorner.split() + upperCorner.split())\n",
    "time_filter1 = PropertyIsLessThanOrEqualTo(\n",
    "    propertyname=\"apiso:TempExtent_begin\", literal=f\"{end_time}\"\n",
    ")\n",
    "time_filter2 = PropertyIsGreaterThanOrEqualTo(\n",
    "    propertyname=\"apiso:TempExtent_end\", literal=f\"{start_time}\"\n",
    ")\n",
    "\n",
    "# Combine filters\n",
    "filter = And([bbox_filter, time_filter1, time_filter2])\n",
    "\n",
    "# Use the filter in a CSW getrecords request\n",
    "csw.getrecords2(\n",
    "    constraints=[filter],\n",
    "    esn=f\"{ElementSetName}\",\n",
    "    startposition=1,\n",
    "    maxrecords=5,\n",
    ")"
   ]
  },
  {
   "cell_type": "code",
   "execution_count": 54,
   "id": "3225a4ff-8f39-4667-940d-75b1a941acec",
   "metadata": {
    "tags": []
   },
   "outputs": [
    {
     "data": {
      "text/plain": [
       "34"
      ]
     },
     "execution_count": 54,
     "metadata": {},
     "output_type": "execute_result"
    }
   ],
   "source": [
    "csw.results['matches']"
   ]
  },
  {
   "cell_type": "markdown",
   "id": "7661e96d-3761-4b79-a7f9-ee4b724f0031",
   "metadata": {
    "tags": [],
    "toc-hr-collapsed": true
   },
   "source": [
    "## Group E"
   ]
  },
  {
   "cell_type": "markdown",
   "id": "4c0368bc-ce8e-4740-b69d-5abfe1a29d66",
   "metadata": {},
   "source": [
    "### OR Query \n",
    "OR query inside AND have (*yet*) some limitation, however, the case is identified in the code\n",
    "It could be useful to identify multiple `AnyText on field` and `BBOX` query\n",
    "At the moment if a multiple `TIME` is not supported, and the provided the code will silently IGNORE such constraint"
   ]
  },
  {
   "cell_type": "markdown",
   "id": "6b056075-e1e8-4db3-96d6-becf228e5a68",
   "metadata": {},
   "source": [
    "* Corresponding SOLR JSON Query:\n",
    "\n",
    "```json\n",
    "{\n",
    "    \"q\": \"(title:temperature && _query_:\\\"{!field f=bbox score=overlapRatio}Within(ENVELOPE(60.0,90.0,180.0,0.0))\\\") OR (title:area && _query_:\\\"{!field f=bbox score=overlapRatio}Within(ENVELOPE(60.0,90.0,180.0,0.0))\\\")\",\n",
    "    \"q.op\": \"OR\",\n",
    "    \"start\": 0,\n",
    "    \"rows\": \"5\",\n",
    "    \"fq\": [\n",
    "        \"metadata_status:Active\",\n",
    "        \"collection:(ADC)\"\n",
    "    ]\n",
    "}\n",
    "```"
   ]
  },
  {
   "cell_type": "markdown",
   "id": "46bd386d-5833-46d6-816b-cb64169ee796",
   "metadata": {},
   "source": [
    "#### CSW XML"
   ]
  },
  {
   "cell_type": "code",
   "execution_count": 55,
   "id": "7d165485-7ee2-4752-93ba-9426a1d20534",
   "metadata": {
    "tags": []
   },
   "outputs": [],
   "source": [
    "%%writetemplate test_xml_query_anytext_on_field_AND_BBOX_OR_testing_3.xml\n",
    "<?xml version=\"1.0\" encoding=\"ISO-8859-1\" standalone=\"no\"?>\n",
    "<csw:GetRecords xmlns:apiso=\"http://www.opengis.net/cat/csw/apiso/1.0\" xmlns:csw=\"http://www.opengis.net/cat/csw/2.0.2\" xmlns:ogc=\"http://www.opengis.net/ogc\" service=\"CSW\" version=\"2.0.2\" resultType=\"results\" startPosition=\"1\" maxRecords=\"5\" outputFormat=\"application/xml\" outputSchema=\"http://www.isotc211.org/2005/gmd\" xmlns:xsi=\"http://www.w3.org/2001/XMLSchema-instance\" xsi:schemaLocation=\"http://www.opengis.net/cat/csw/2.0.2 http://schemas.opengis.net/csw/2.0.2/CSW-discovery.xsd\" xmlns:gml=\"http://www.opengis.net/gml\" xmlns:gmd=\"http://www.isotc211.org/2005/gmd\">\n",
    "    <csw:Query typeNames=\"gmd:MD_Metadata\">\n",
    "        <csw:ElementSetName>brief</csw:ElementSetName>\n",
    "        <csw:Constraint version=\"1.1.0\">\n",
    "            <ogc:Filter>\n",
    "                <ogc:Or>\n",
    "                    <ogc:And>\n",
    "                        <ogc:PropertyIsLike wildCard=\"*\" singleChar=\"?\" escapeChar=\"\\\\\" matchCase=\"false\">\n",
    "                            <ogc:PropertyName>dc:{field_to_query}</ogc:PropertyName>\n",
    "                            <ogc:Literal>temperature</ogc:Literal>\n",
    "                        </ogc:PropertyIsLike>\n",
    "                        <ogc:BBOX>\n",
    "                            <ogc:PropertyName>apiso:BoundingBox</ogc:PropertyName>\n",
    "                                <gml:Envelope>\n",
    "                                    <gml:lowerCorner>{lowerCorner}</gml:lowerCorner>\n",
    "                                    <gml:upperCorner>{upperCorner}</gml:upperCorner>\n",
    "                                </gml:Envelope>\n",
    "                        </ogc:BBOX>\n",
    "                    </ogc:And>\n",
    "                    <ogc:And>\n",
    "                        <ogc:PropertyIsLike wildCard=\"*\" singleChar=\"?\" escapeChar=\"\\\\\" matchCase=\"false\">\n",
    "                            <ogc:PropertyName>dc:{field_to_query}</ogc:PropertyName>\n",
    "                            <ogc:Literal>area</ogc:Literal>\n",
    "                        </ogc:PropertyIsLike>\n",
    "                        <ogc:BBOX>\n",
    "                            <ogc:PropertyName>apiso:BoundingBox</ogc:PropertyName>\n",
    "                                <gml:Envelope>\n",
    "                                    <gml:lowerCorner>{lowerCorner}</gml:lowerCorner>\n",
    "                                    <gml:upperCorner>{upperCorner}</gml:upperCorner>\n",
    "                                </gml:Envelope>\n",
    "                        </ogc:BBOX>\n",
    "                    </ogc:And>\n",
    "                </ogc:Or>\n",
    "            </ogc:Filter>\n",
    "        </csw:Constraint>\n",
    "    </csw:Query>\n",
    "</csw:GetRecords>"
   ]
  },
  {
   "cell_type": "code",
   "execution_count": 56,
   "id": "de0f46ee-533d-42a5-a532-3495f8973e02",
   "metadata": {
    "tags": []
   },
   "outputs": [
    {
     "name": "stdout",
     "output_type": "stream",
     "text": [
      "4\n"
     ]
    }
   ],
   "source": [
    "!curl -s -H \"Content-Type: text/xml\" -X POST -d @test_xml_query_anytext_on_field_AND_BBOX_OR_testing_3.xml {csw_test_endpoint} | grep -oP 'numberOfRecordsMatched=\"\\K[^\"]+'"
   ]
  },
  {
   "cell_type": "markdown",
   "id": "e1474c2c-f547-4458-9bb7-3326ce518104",
   "metadata": {},
   "source": [
    "I get 4 records (as expected it could have been 3 or 4)"
   ]
  },
  {
   "cell_type": "markdown",
   "id": "53d7784c-4f62-45d1-b75c-8c0a477869c0",
   "metadata": {},
   "source": [
    "#### Python"
   ]
  },
  {
   "cell_type": "code",
   "execution_count": 57,
   "id": "9447305f-5699-49dd-816e-6452d2247640",
   "metadata": {
    "tags": []
   },
   "outputs": [],
   "source": [
    "# Create filters\n",
    "\n",
    "text_to_query_1 = 'temperature'\n",
    "text_to_query_2 = 'area'\n",
    "\n",
    "\n",
    "text_filter1 = PropertyIsLike(\n",
    "    propertyname=f\"dc:{field_to_query}\",\n",
    "    literal=f\"{text_to_query_1}\",\n",
    "    wildCard=\"*\",\n",
    "    singleChar=\"?\",\n",
    "    escapeChar=\"\\\\\",\n",
    ")\n",
    "text_filter2 = PropertyIsLike(\n",
    "    propertyname=f\"dc:{field_to_query}\",\n",
    "    literal=f\"{text_to_query_2}\",\n",
    "    wildCard=\"*\",\n",
    "    singleChar=\"?\",\n",
    "    escapeChar=\"\\\\\",\n",
    ")\n",
    "bbox_filter = BBox(lowerCorner.split() + upperCorner.split())\n",
    "\n",
    "# Combine filters\n",
    "filter1 = And([text_filter1, bbox_filter])\n",
    "filter2 = And([text_filter2, bbox_filter])\n",
    "filter = Or([filter1, filter2])\n",
    "\n",
    "# Use the filter in a CSW getrecords request\n",
    "csw.getrecords2(\n",
    "    constraints=[filter],\n",
    "    esn=\"brief\",\n",
    "    startposition=1,\n",
    "    maxrecords=5,\n",
    "    outputschema=\"http://www.isotc211.org/2005/gmd\",\n",
    ")"
   ]
  },
  {
   "cell_type": "code",
   "execution_count": 58,
   "id": "8357f209-3a1f-4616-9a49-e7166621ac44",
   "metadata": {
    "tags": []
   },
   "outputs": [
    {
     "data": {
      "text/plain": [
       "4"
      ]
     },
     "execution_count": 58,
     "metadata": {},
     "output_type": "execute_result"
    }
   ],
   "source": [
    "csw.results['matches']"
   ]
  },
  {
   "cell_type": "markdown",
   "id": "91633c64-6673-4354-bf6a-f87482396511",
   "metadata": {},
   "source": [
    "# Note"
   ]
  },
  {
   "cell_type": "markdown",
   "id": "e50df05d-d094-4e77-a764-948ba9fb28ff",
   "metadata": {
    "tags": []
   },
   "source": [
    "\n",
    "\n",
    "## PropertyIsEqualTo vs PropertyIsEqualTo\n",
    "\n",
    "* Anytext can be used with `PropertyIsLike` or `PropertyIsEqualTo`\n",
    "  when using `PropertyIsEqualTo` it requires `PropertyName` to be set:\n",
    "\n",
    "  ```xml\n",
    "              <ogc:PropertyIsEqualTo>\n",
    "               <ogc:PropertyName>dc:{field_to_query}</ogc:PropertyName>\n",
    "               <ogc:Literal>{text_to_quey}</ogc:Literal>\n",
    "            </ogc:PropertyIsEqualTo>\n",
    "  ```"
   ]
  },
  {
   "cell_type": "markdown",
   "id": "7aa5e95a-ee32-4cf0-bf09-959a05514491",
   "metadata": {
    "tags": [],
    "toc-hr-collapsed": true
   },
   "source": [
    "#### CSW XML"
   ]
  },
  {
   "cell_type": "code",
   "execution_count": 60,
   "id": "f1be3230-7dd5-4d42-905e-e67a77b1d6c5",
   "metadata": {},
   "outputs": [],
   "source": [
    "%%writetemplate test_xml_query_anytext_ofield_equal_to.xml\n",
    "<?xml version=\"1.0\" encoding=\"UTF-8\"?>\n",
    "<csw:GetRecords xmlns:csw=\"http://www.opengis.net/cat/csw/2.0.2\"\n",
    "               xmlns:ogc=\"http://www.opengis.net/ogc\"\n",
    "               xmlns:gml=\"http://www.opengis.net/gml\"\n",
    "               xmlns:ogc_filter=\"urn:x-ogc:def:filter:OGC:1.0:equals\"\n",
    "               service=\"CSW\" version=\"2.0.2\"\n",
    "               resultType=\"results\" startPosition=\"1\" maxRecords=\"10\">\n",
    "   <csw:Query typeNames=\"csw:Record\">\n",
    "      <csw:ElementSetName>{ElementSetName}</csw:ElementSetName>\n",
    "      <csw:Constraint version=\"1.1.0\">\n",
    "         <ogc:Filter>\n",
    "            <ogc:PropertyIsEqualTo>\n",
    "               <ogc:PropertyName>dc:{field_to_query}</ogc:PropertyName>\n",
    "               <ogc:Literal>{text_to_query}</ogc:Literal>\n",
    "            </ogc:PropertyIsEqualTo>\n",
    "         </ogc:Filter>\n",
    "      </csw:Constraint>\n",
    "   </csw:Query>\n",
    "</csw:GetRecords>"
   ]
  },
  {
   "cell_type": "code",
   "execution_count": 61,
   "id": "a95a0428-36ec-44f6-b940-715a418cb17b",
   "metadata": {},
   "outputs": [
    {
     "name": "stdout",
     "output_type": "stream",
     "text": [
      "58611\n"
     ]
    }
   ],
   "source": [
    "!curl -s -H \"Content-Type: text/xml\" -X POST -d @test_xml_query_anytext_ofield_equal_to.xml {csw_test_endpoint} | grep -oP 'numberOfRecordsMatched=\"\\K[^\"]+'"
   ]
  },
  {
   "cell_type": "markdown",
   "id": "5990a277-b198-41a2-b369-61afa86b45b5",
   "metadata": {},
   "source": [
    "#### Python"
   ]
  },
  {
   "cell_type": "code",
   "execution_count": 62,
   "id": "08087fc0-e81e-4fe6-9f8c-eda5381dbd3a",
   "metadata": {
    "tags": []
   },
   "outputs": [],
   "source": [
    "# Create filter\n",
    "filter = PropertyIsEqualTo(\n",
    "    propertyname=f\"dc:{field_to_query}\", literal=f\"{text_to_query}\"\n",
    ")\n",
    "\n",
    "# Use the filter in a CSW getrecords request\n",
    "csw.getrecords2(\n",
    "    constraints=[filter], esn=f\"{ElementSetName}\", startposition=1, maxrecords=10\n",
    ")"
   ]
  },
  {
   "cell_type": "code",
   "execution_count": 63,
   "id": "18807508-fbd5-41ab-8c52-966511fe027e",
   "metadata": {
    "tags": []
   },
   "outputs": [
    {
     "data": {
      "text/plain": [
       "58611"
      ]
     },
     "execution_count": 63,
     "metadata": {},
     "output_type": "execute_result"
    }
   ],
   "source": [
    "csw.results['matches']"
   ]
  },
  {
   "cell_type": "markdown",
   "id": "50e3d59d-94dc-4b34-a40f-d21b5cc9bc67",
   "metadata": {},
   "source": [
    "## Retrieve data from Python Query"
   ]
  },
  {
   "cell_type": "code",
   "execution_count": 64,
   "id": "8509fe7d-74e2-4da3-ba0f-7a6408dbedfd",
   "metadata": {
    "tags": []
   },
   "outputs": [],
   "source": [
    "# Create filter\n",
    "filter = PropertyIsEqualTo(\n",
    "    propertyname=f\"dc:{field_to_query}\", literal=f\"{text_to_query}\"\n",
    ")\n",
    "\n",
    "# Use the filter in a CSW getrecords request\n",
    "csw.getrecords2(\n",
    "    constraints=[filter], esn=f\"{ElementSetName}\", startposition=1, maxrecords=10\n",
    ")"
   ]
  },
  {
   "cell_type": "code",
   "execution_count": 71,
   "id": "cd5f8e62-c3f4-462b-a87f-f18e4dde45f9",
   "metadata": {
    "tags": []
   },
   "outputs": [
    {
     "name": "stdout",
     "output_type": "stream",
     "text": [
      "Found 10 records.\n",
      "\n",
      "Title: [GPS Profiles Fimbulisen Ice Shelf 2009-2012]\n",
      "ID: 664d3c4c-d660-4fc6-b8ee-ee0443c0166c\n",
      "\n",
      "Attributes:  \n",
      " ['abstract', 'accessrights', 'alternative', 'bbox', 'bbox_wgs84', 'contributor', 'coverage', 'created', 'creator', 'date', 'format', 'identifier', 'identifiers', 'ispartof', 'issued', 'language', 'license', 'modified', 'publisher', 'rdf', 'references', 'relation', 'rights', 'rightsholder', 'source', 'spatial', 'subjects', 'temporal', 'title', 'type', 'uris', 'xml'] \n",
      "\n",
      "geolink: WWW:DOWNLOAD\n",
      "scheme: WWW:DOWNLOAD-1.0-http--download\n",
      "URL: https://api.npolar.no/dataset/664d3c4c-d660-4fc6-b8ee-ee0443c0166c/_file/_all/?filename=npolar.2016.664d3c4c-data&format=zip\n",
      "\n",
      "######################################################### \n",
      "\n",
      "Title: [TW-ICE2017: Environmental and phytoplankton data from the glacier front and Kongsfjorden cruises in 2017]\n",
      "ID: 56c2cd62-665b-4228-ab5d-d0122748d94c\n",
      "\n",
      "Attributes:  \n",
      " ['abstract', 'accessrights', 'alternative', 'bbox', 'bbox_wgs84', 'contributor', 'coverage', 'created', 'creator', 'date', 'format', 'identifier', 'identifiers', 'ispartof', 'issued', 'language', 'license', 'modified', 'publisher', 'rdf', 'references', 'relation', 'rights', 'rightsholder', 'source', 'spatial', 'subjects', 'temporal', 'title', 'type', 'uris', 'xml'] \n",
      "\n",
      "geolink: WWW:DOWNLOAD\n",
      "scheme: WWW:DOWNLOAD-1.0-http--download\n",
      "URL: https://api.npolar.no/dataset/56c2cd62-665b-4228-ab5d-d0122748d94c/_file/_all/?filename=&format=zip\n",
      "\n",
      "######################################################### \n",
      "\n",
      "Title: [Laser scanning of ice rubble (Isfjorden,Svalbard - 9 April 2020)]\n",
      "ID: b153b660-6726-4b2c-8fff-1a98cdb6cfe2\n",
      "\n",
      "Attributes:  \n",
      " ['abstract', 'accessrights', 'alternative', 'bbox', 'bbox_wgs84', 'contributor', 'coverage', 'created', 'creator', 'date', 'format', 'identifier', 'identifiers', 'ispartof', 'issued', 'language', 'license', 'modified', 'publisher', 'rdf', 'references', 'relation', 'rights', 'rightsholder', 'source', 'spatial', 'subjects', 'temporal', 'title', 'type', 'uris', 'xml'] \n",
      "\n",
      "geolink: WWW:DOWNLOAD\n",
      "scheme: WWW:DOWNLOAD-1.0-http--download\n",
      "URL: https://api.npolar.no/dataset/b153b660-6726-4b2c-8fff-1a98cdb6cfe2/_file/_all/?filename=&format=zip\n",
      "\n",
      "######################################################### \n",
      "\n",
      "Title: [Ramac Shallow Radar Profile Fimbulisen Ice Shelf 2009-2010]\n",
      "ID: e7f2d057-5481-40f1-89c0-297dac52ae84\n",
      "\n",
      "Attributes:  \n",
      " ['abstract', 'accessrights', 'alternative', 'bbox', 'bbox_wgs84', 'contributor', 'coverage', 'created', 'creator', 'date', 'format', 'identifier', 'identifiers', 'ispartof', 'issued', 'language', 'license', 'modified', 'publisher', 'rdf', 'references', 'relation', 'rights', 'rightsholder', 'source', 'spatial', 'subjects', 'temporal', 'title', 'type', 'uris', 'xml'] \n",
      "\n",
      "geolink: WWW:DOWNLOAD\n",
      "scheme: WWW:DOWNLOAD-1.0-http--download\n",
      "URL: https://api.npolar.no/dataset/e7f2d057-5481-40f1-89c0-297dac52ae84/_file/_all/?filename=npolar.2016.e7f2d057-data&format=zip\n",
      "\n",
      "######################################################### \n",
      "\n",
      "Title: [Ice thickness, bed elevation, and topographic adjustments to geothermal heat flow near Dome Fuji, East Antarctica]\n",
      "ID: dbd63194-bf80-4251-a690-b5046884d103\n",
      "\n",
      "Attributes:  \n",
      " ['abstract', 'accessrights', 'alternative', 'bbox', 'bbox_wgs84', 'contributor', 'coverage', 'created', 'creator', 'date', 'format', 'identifier', 'identifiers', 'ispartof', 'issued', 'language', 'license', 'modified', 'publisher', 'rdf', 'references', 'relation', 'rights', 'rightsholder', 'source', 'spatial', 'subjects', 'temporal', 'title', 'type', 'uris', 'xml'] \n",
      "\n",
      "geolink: WWW:DOWNLOAD\n",
      "scheme: WWW:DOWNLOAD-1.0-http--download\n",
      "URL: https://api.npolar.no/dataset/dbd63194-bf80-4251-a690-b5046884d103/_file/_all/?filename=&format=zip\n",
      "\n",
      "######################################################### \n",
      "\n",
      "Title: [Snow-ice, snow depth and ice thickness from HIGHTSI modeling with ice motion in the Arctic Ocean in the period 1980 to 2016]\n",
      "ID: 881e423a-b6f6-4c1a-8000-d802adf03a66\n",
      "\n",
      "Attributes:  \n",
      " ['abstract', 'accessrights', 'alternative', 'bbox', 'bbox_wgs84', 'contributor', 'coverage', 'created', 'creator', 'date', 'format', 'identifier', 'identifiers', 'ispartof', 'issued', 'language', 'license', 'modified', 'publisher', 'rdf', 'references', 'relation', 'rights', 'rightsholder', 'source', 'spatial', 'subjects', 'temporal', 'title', 'type', 'uris', 'xml'] \n",
      "\n",
      "geolink: WWW:DOWNLOAD\n",
      "scheme: WWW:DOWNLOAD-1.0-http--download\n",
      "URL: https://api.npolar.no/dataset/881e423a-b6f6-4c1a-8000-d802adf03a66/_file/_all/?filename=npolar.2019.881e423a-data&format=zip\n",
      "\n",
      "######################################################### \n",
      "\n",
      "Title: [Characteristic timescales of ice rises in Dronning Maud Land and Enderby Land, East Antarctica]\n",
      "ID: bd1a75fe-7ea8-460e-bc25-808b57a3e49e\n",
      "\n",
      "Attributes:  \n",
      " ['abstract', 'accessrights', 'alternative', 'bbox', 'bbox_wgs84', 'contributor', 'coverage', 'created', 'creator', 'date', 'format', 'identifier', 'identifiers', 'ispartof', 'issued', 'language', 'license', 'modified', 'publisher', 'rdf', 'references', 'relation', 'rights', 'rightsholder', 'source', 'spatial', 'subjects', 'temporal', 'title', 'type', 'uris', 'xml'] \n",
      "\n",
      "geolink: WWW:DOWNLOAD\n",
      "scheme: WWW:DOWNLOAD-1.0-http--download\n",
      "URL: https://api.npolar.no/dataset/bd1a75fe-7ea8-460e-bc25-808b57a3e49e/_file/_all/?filename=&format=zip\n",
      "\n",
      "######################################################### \n",
      "\n",
      "Title: [Helicopter-borne sea-ice thickness measurements from the 2014 IRO2 /ESA SMOSice campaign cruise in the Barents Sea region]\n",
      "ID: ee8f4f8d-3ed8-411b-99be-e52dedc2efe1\n",
      "\n",
      "Attributes:  \n",
      " ['abstract', 'accessrights', 'alternative', 'bbox', 'bbox_wgs84', 'contributor', 'coverage', 'created', 'creator', 'date', 'format', 'identifier', 'identifiers', 'ispartof', 'issued', 'language', 'license', 'modified', 'publisher', 'rdf', 'references', 'relation', 'rights', 'rightsholder', 'source', 'spatial', 'subjects', 'temporal', 'title', 'type', 'uris', 'xml'] \n",
      "\n",
      "geolink: WWW:DOWNLOAD\n",
      "scheme: WWW:DOWNLOAD-1.0-http--download\n",
      "URL: https://api.npolar.no/dataset/ee8f4f8d-3ed8-411b-99be-e52dedc2efe1/_file/_all/?filename=npolar.2016.ee8f4f8d-data&format=zip\n",
      "\n",
      "######################################################### \n",
      "\n",
      "Title: [Compiled sea ice meiofauna data across the Arctic]\n",
      "ID: a5c33604-42ea-42f0-a8cd-3a95f1efa9fc\n",
      "\n",
      "Attributes:  \n",
      " ['abstract', 'accessrights', 'alternative', 'bbox', 'bbox_wgs84', 'contributor', 'coverage', 'created', 'creator', 'date', 'format', 'identifier', 'identifiers', 'ispartof', 'issued', 'language', 'license', 'modified', 'publisher', 'rdf', 'references', 'relation', 'rights', 'rightsholder', 'source', 'spatial', 'subjects', 'temporal', 'title', 'type', 'uris', 'xml'] \n",
      "\n",
      "geolink: WWW:DOWNLOAD\n",
      "scheme: WWW:DOWNLOAD-1.0-http--download\n",
      "URL: https://api.npolar.no/dataset/a5c33604-42ea-42f0-a8cd-3a95f1efa9fc/_file/_all/?filename=&format=zip\n",
      "\n",
      "######################################################### \n",
      "\n",
      "Title: [Horizontal profiles of longwave and shortwave radiation components over sea ice near Barrow, Alaska during the 2011 melt]\n",
      "ID: 3f153c0a-dbe4-4b67-97b9-5bd963742f55\n",
      "\n",
      "Attributes:  \n",
      " ['abstract', 'accessrights', 'alternative', 'bbox', 'bbox_wgs84', 'contributor', 'coverage', 'created', 'creator', 'date', 'format', 'identifier', 'identifiers', 'ispartof', 'issued', 'language', 'license', 'modified', 'publisher', 'rdf', 'references', 'relation', 'rights', 'rightsholder', 'source', 'spatial', 'subjects', 'temporal', 'title', 'type', 'uris', 'xml'] \n",
      "\n",
      "geolink: WWW:DOWNLOAD\n",
      "scheme: WWW:DOWNLOAD-1.0-http--download\n",
      "URL: http://doi.pangaea.de/10.1594/PANGAEA.780085?format=zip\n",
      "\n",
      "######################################################### \n",
      "\n"
     ]
    }
   ],
   "source": [
    "print(\"Found {} records.\\n\".format(len(csw.records.keys())))\n",
    "for key, value in list(csw.records.items()):\n",
    "    # print(key)\n",
    "\n",
    "    # display(HTML(\"<pre>{}</pre>\".format(prettify_xml(value.xml))))\n",
    "    print(\"Title: [{}]\\nID: {}\\n\".format(value.title, key))\n",
    "    filtered_attributes = [attr for attr in dir(value) if not attr.startswith(\"_\")]\n",
    "    print('Attributes: ', '\\n', filtered_attributes, '\\n')\n",
    "    msg = \"geolink: {geolink}\\nscheme: {scheme}\\nURL: {url}\\n\".format\n",
    "    for ref in value.references:\n",
    "        print(msg(geolink=sniff_link(ref[\"url\"]), **ref))\n",
    "    print(\"#########################################################\", \"\\n\")"
   ]
  },
  {
   "cell_type": "code",
   "execution_count": null,
   "id": "c85e6347-f41a-4b58-99b3-8e9740d1869b",
   "metadata": {},
   "outputs": [],
   "source": []
  }
 ],
 "metadata": {
  "kernelspec": {
   "display_name": "Python 3 (ipykernel)",
   "language": "python",
   "name": "python3"
  },
  "language_info": {
   "codemirror_mode": {
    "name": "ipython",
    "version": 3
   },
   "file_extension": ".py",
   "mimetype": "text/x-python",
   "name": "python",
   "nbconvert_exporter": "python",
   "pygments_lexer": "ipython3",
   "version": "3.11.6"
  }
 },
 "nbformat": 4,
 "nbformat_minor": 5
}
