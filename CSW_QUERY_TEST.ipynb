{
 "cells": [
  {
   "cell_type": "markdown",
   "id": "500cde8f-c56b-4831-adf5-83a877569ccd",
   "metadata": {},
   "source": [
    "# Test CSW QUERY\n",
    "\n",
    "the following will run a query by posting an  XML file via CURL "
   ]
  },
  {
   "cell_type": "code",
   "execution_count": null,
   "id": "1f887993-bed7-4e22-b4ea-969390bfb4a6",
   "metadata": {
    "tags": []
   },
   "outputs": [],
   "source": [
    "csw_test_endpoint = \"https://test.csw.met.no\""
   ]
  },
  {
   "cell_type": "code",
   "execution_count": null,
   "id": "45c2e8e2-3edf-44a2-bf62-6e6be7fed942",
   "metadata": {
    "tags": []
   },
   "outputs": [],
   "source": [
    "%%file test_xml_query.xml\n",
    "<?xml version=\"1.0\" encoding=\"ISO-8859-1\" standalone=\"no\"?>\n",
    "<csw:GetRecords xmlns:apiso=\"http://www.opengis.net/cat/csw/apiso/1.0\" xmlns:csw=\"http://www.opengis.net/cat/csw/2.0.2\" xmlns:ogc=\"http://www.opengis.net/ogc\" service=\"CSW\" version=\"2.0.2\" resultType=\"results\" startPosition=\"1\" maxRecords=\"5\" outputFormat=\"application/xml\" outputSchema=\"http://www.isotc211.org/2005/gmd\" xmlns:xsi=\"http://www.w3.org/2001/XMLSchema-instance\" xsi:schemaLocation=\"http://www.opengis.net/cat/csw/2.0.2 http://schemas.opengis.net/csw/2.0.2/CSW-discovery.xsd\" xmlns:gml=\"http://www.opengis.net/gml\" xmlns:gmd=\"http://www.isotc211.org/2005/gmd\">\n",
    "    <csw:Query typeNames=\"gmd:MD_Metadata\">\n",
    "        <csw:ElementSetName>brief</csw:ElementSetName>\n",
    "        <csw:Constraint version=\"1.1.0\">\n",
    "            <ogc:Filter>\n",
    "                <ogc:BBOX>\n",
    "                    <ogc:PropertyName>apiso:BoundingBox</ogc:PropertyName>\n",
    "                    <gml:Envelope>\n",
    "                        <gml:lowerCorner>60 0</gml:lowerCorner>\n",
    "                        <gml:upperCorner>90 180</gml:upperCorner>\n",
    "                    </gml:Envelope>\n",
    "                </ogc:BBOX>\n",
    "            </ogc:Filter>\n",
    "        </csw:Constraint>\n",
    "    </csw:Query>\n",
    "</csw:GetRecords>"
   ]
  },
  {
   "cell_type": "code",
   "execution_count": null,
   "id": "69634e57-c0e6-4b84-82f4-1a796bf05488",
   "metadata": {
    "tags": []
   },
   "outputs": [],
   "source": [
    "!curl -s -H \"Content-Type: text/xml\" -X POST -d @test_xml_query.xml {csw_test_endpoint} | grep -oP 'numberOfRecordsMatched=\"\\K[^\"]+'"
   ]
  },
  {
   "cell_type": "markdown",
   "id": "0f9e6f63-6e71-4226-bde7-770c51311c55",
   "metadata": {},
   "source": [
    "# Query 0\n",
    "\n",
    "`title IsLike ice`"
   ]
  },
  {
   "cell_type": "code",
   "execution_count": null,
   "id": "c12437d3-e3c5-4387-92e1-e322a73b6783",
   "metadata": {},
   "outputs": [],
   "source": [
    "%%file query0.xml\n",
    "<?xml version=\"1.0\" encoding=\"ISO-8859-1\" standalone=\"no\"?>\n",
    "<csw:GetRecords xmlns:apiso=\"http://www.opengis.net/cat/csw/apiso/1.0\" xmlns:csw=\"http://www.opengis.net/cat/csw/2.0.2\" xmlns:ogc=\"http://www.opengis.net/ogc\" service=\"CSW\" version=\"2.0.2\" resultType=\"results\" startPosition=\"1\" maxRecords=\"5\" outputFormat=\"application/xml\" outputSchema=\"http://www.isotc211.org/2005/gmd\" xmlns:xsi=\"http://www.w3.org/2001/XMLSchema-instance\" xsi:schemaLocation=\"http://www.opengis.net/cat/csw/2.0.2 http://schemas.opengis.net/csw/2.0.2/CSW-discovery.xsd\" xmlns:gml=\"http://www.opengis.net/gml\" xmlns:gmd=\"http://www.isotc211.org/2005/gmd\">\n",
    "    <csw:Query typeNames=\"gmd:MD_Metadata\">\n",
    "        <csw:ElementSetName>brief</csw:ElementSetName>\n",
    "        <csw:Constraint version=\"1.1.0\">\n",
    "            <ogc:Filter>\n",
    "                    <ogc:PropertyIsLike wildCard=\"*\" singleChar=\"?\" escapeChar=\"\\\\\" matchCase=\"false\">\n",
    "                        <ogc:PropertyName>dc:title</ogc:PropertyName>\n",
    "                        <ogc:Literal>ice</ogc:Literal>\n",
    "                    </ogc:PropertyIsLike>\n",
    "            </ogc:Filter>\n",
    "        </csw:Constraint>\n",
    "    </csw:Query>\n",
    "</csw:GetRecords>"
   ]
  },
  {
   "cell_type": "code",
   "execution_count": null,
   "id": "370a17d2-eda8-482c-bb73-b6d144179140",
   "metadata": {},
   "outputs": [],
   "source": [
    "#!curl -H \"Content-Type: text/xml\" -X POST -d @query0.xml {csw_test_endpoint}\n",
    "!curl -s -H \"Content-Type: text/xml\" -X POST -d @query0.xml {csw_test_endpoint} | grep -oP 'numberOfRecordsMatched=\"\\K[^\"]+'"
   ]
  },
  {
   "cell_type": "markdown",
   "id": "e9cf7f8a-4c43-4fe6-9de2-ff663f17ed18",
   "metadata": {},
   "source": [
    "# Query 1\n",
    "\n",
    "I wonder, why I get records with title not containing character string 'ice'?\n",
    "\n",
    "```\n",
    "title IsLike ice\n",
    "\n",
    "bbox:\n",
    "    lowerCorner>-1.280887 33.49871<\n",
    "    upperCorner>187.981272 52.386974\n",
    "```"
   ]
  },
  {
   "cell_type": "code",
   "execution_count": null,
   "id": "a5d2937f-dad4-4e1b-882e-f56b5b9c5fda",
   "metadata": {
    "tags": []
   },
   "outputs": [],
   "source": [
    "%%file query1.xml\n",
    "<?xml version=\"1.0\" encoding=\"ISO-8859-1\" standalone=\"no\"?>\n",
    "<csw:GetRecords xmlns:apiso=\"http://www.opengis.net/cat/csw/apiso/1.0\" xmlns:csw=\"http://www.opengis.net/cat/csw/2.0.2\" xmlns:ogc=\"http://www.opengis.net/ogc\" service=\"CSW\" version=\"2.0.2\" resultType=\"results\" startPosition=\"1\" maxRecords=\"5\" outputFormat=\"application/xml\" outputSchema=\"http://www.isotc211.org/2005/gmd\" xmlns:xsi=\"http://www.w3.org/2001/XMLSchema-instance\" xsi:schemaLocation=\"http://www.opengis.net/cat/csw/2.0.2 http://schemas.opengis.net/csw/2.0.2/CSW-discovery.xsd\" xmlns:gml=\"http://www.opengis.net/gml\" xmlns:gmd=\"http://www.isotc211.org/2005/gmd\">\n",
    "    <csw:Query typeNames=\"gmd:MD_Metadata\">\n",
    "        <csw:ElementSetName>brief</csw:ElementSetName>\n",
    "        <csw:Constraint version=\"1.1.0\">\n",
    "            <ogc:Filter>\n",
    "                <ogc:And>\n",
    "                    <ogc:PropertyIsLike wildCard=\"*\" singleChar=\"?\" escapeChar=\"\\\\\" matchCase=\"false\">\n",
    "                        <ogc:PropertyName>dc:title</ogc:PropertyName>\n",
    "                        <ogc:Literal>ice</ogc:Literal>\n",
    "                    </ogc:PropertyIsLike>\n",
    "                    <ogc:BBOX>\n",
    "                        <ogc:PropertyName>ows:BoundingBox</ogc:PropertyName>\n",
    "                            <gml:Envelope>\n",
    "                                <gml:lowerCorner>-16.280887 33.49871</gml:lowerCorner>\n",
    "                                <gml:upperCorner>17.981272 52.386974</gml:upperCorner>\n",
    "                            </gml:Envelope>\n",
    "                    </ogc:BBOX>\n",
    "                </ogc:And>\n",
    "            </ogc:Filter>\n",
    "        </csw:Constraint>\n",
    "    </csw:Query>\n",
    "</csw:GetRecords>"
   ]
  },
  {
   "cell_type": "code",
   "execution_count": null,
   "id": "85400543-3bd8-44f5-8f96-9454d3186247",
   "metadata": {
    "tags": []
   },
   "outputs": [],
   "source": [
    "#!curl -H \"Content-Type: text/xml\" -X POST -d @query1.xml {csw_test_endpoint}\n",
    "!curl -s -H \"Content-Type: text/xml\" -X POST -d @query1.xml {csw_test_endpoint} | grep -oP 'numberOfRecordsMatched=\"\\K[^\"]+'"
   ]
  },
  {
   "cell_type": "markdown",
   "id": "c77b15b0-685a-44b2-bb38-88cfadd3da3f",
   "metadata": {
    "tags": []
   },
   "source": [
    "# Query 2\n",
    "I explicitly request records, which contain text 'temperature' in their 'dc:title' -element, I get back result records that do not contain this text in 'dc:title', but rather seem to contain it in the 'dc:description' -element of the record. Why is this?\n",
    "\n",
    "\n",
    "```\n",
    "title IsLike temperature\n",
    "\n",
    "bbox:\n",
    "    lowerCorner: -25.0 27.0\n",
    "    upperCorner: 43.0 72.0\n",
    "```"
   ]
  },
  {
   "cell_type": "code",
   "execution_count": null,
   "id": "6234b268-a02e-4679-bb10-bd5e4ac983ee",
   "metadata": {
    "tags": []
   },
   "outputs": [],
   "source": [
    "%%file query2.xml\n",
    "<?xml version=\"1.0\" encoding=\"ISO-8859-1\" standalone=\"no\"?>\n",
    "<csw:GetRecords xmlns:apiso=\"http://www.opengis.net/cat/csw/apiso/1.0\" xmlns:csw=\"http://www.opengis.net/cat/csw/2.0.2\" xmlns:ogc=\"http://www.opengis.net/ogc\" service=\"CSW\" version=\"2.0.2\" resultType=\"results\" startPosition=\"1\" maxRecords=\"5\" outputFormat=\"application/xml\" outputSchema=\"http://www.isotc211.org/2005/gmd\" xmlns:xsi=\"http://www.w3.org/2001/XMLSchema-instance\" xsi:schemaLocation=\"http://www.opengis.net/cat/csw/2.0.2 http://schemas.opengis.net/csw/2.0.2/CSW-discovery.xsd\" xmlns:gml=\"http://www.opengis.net/gml\" xmlns:gmd=\"http://www.isotc211.org/2005/gmd\">\n",
    "    <csw:Query typeNames=\"gmd:MD_Metadata\">\n",
    "        <csw:ElementSetName>brief</csw:ElementSetName>\n",
    "        <csw:Constraint version=\"1.1.0\">\n",
    "            <ogc:Filter>\n",
    "                <ogc:And>\n",
    "                    <ogc:PropertyIsLike wildCard=\"*\" singleChar=\"?\" escapeChar=\"\\\\\" matchCase=\"false\">\n",
    "                        <ogc:PropertyName>dc:title</ogc:PropertyName>\n",
    "                        <ogc:Literal>temperature</ogc:Literal>\n",
    "                    </ogc:PropertyIsLike>\n",
    "                    <ogc:BBOX>\n",
    "                        <ogc:PropertyName>ows:BoundingBox</ogc:PropertyName>\n",
    "                        <gml:Envelope>\n",
    "                            <gml:lowerCorner>-25.0 27.0</gml:lowerCorner>\n",
    "                            <gml:upperCorner>43.0 72.0</gml:upperCorner>\n",
    "                        </gml:Envelope>\n",
    "                    </ogc:BBOX>\n",
    "                </ogc:And>\n",
    "            </ogc:Filter>\n",
    "        </csw:Constraint>\n",
    "    </csw:Query>\n",
    "</csw:GetRecords>"
   ]
  },
  {
   "cell_type": "code",
   "execution_count": null,
   "id": "71959ca3-bd70-42b4-8701-286f1cfd9984",
   "metadata": {
    "tags": []
   },
   "outputs": [],
   "source": [
    "!curl -s -H \"Content-Type: text/xml\" -X POST -d @query2.xml {csw_test_endpoint} | grep -oP 'numberOfRecordsMatched=\"\\K[^\"]+'"
   ]
  },
  {
   "cell_type": "markdown",
   "id": "4c546e8b-ba9f-43d4-b782-dd15c76a4eb1",
   "metadata": {},
   "source": [
    "# Query 3\n",
    "\n",
    "If I send a query with this Filter, which selects records from certain area and containing text 'leaf' in title:\n",
    "\n",
    "\n",
    "\n",
    "```\n",
    "title IsLike *leaf*\n",
    "\n",
    "bbox:\n",
    "    lowerCorner: -25.0 27.0\n",
    "    upperCorner: 43.0 72.0\n",
    "```"
   ]
  },
  {
   "cell_type": "code",
   "execution_count": null,
   "id": "73d1e633-78e3-4dc2-acc3-8986f71f84ae",
   "metadata": {
    "tags": []
   },
   "outputs": [],
   "source": [
    "%%file query3a.xml\n",
    "<?xml version=\"1.0\" encoding=\"ISO-8859-1\" standalone=\"no\"?>\n",
    "<csw:GetRecords xmlns:apiso=\"http://www.opengis.net/cat/csw/apiso/1.0\" xmlns:csw=\"http://www.opengis.net/cat/csw/2.0.2\" xmlns:ogc=\"http://www.opengis.net/ogc\" service=\"CSW\" version=\"2.0.2\" resultType=\"results\" startPosition=\"1\" maxRecords=\"5\" outputFormat=\"application/xml\" outputSchema=\"http://www.isotc211.org/2005/gmd\" xmlns:xsi=\"http://www.w3.org/2001/XMLSchema-instance\" xsi:schemaLocation=\"http://www.opengis.net/cat/csw/2.0.2 http://schemas.opengis.net/csw/2.0.2/CSW-discovery.xsd\" xmlns:gml=\"http://www.opengis.net/gml\" xmlns:gmd=\"http://www.isotc211.org/2005/gmd\">\n",
    "    <csw:Query typeNames=\"gmd:MD_Metadata\">\n",
    "        <csw:ElementSetName>brief</csw:ElementSetName>\n",
    "        <csw:Constraint version=\"1.1.0\">\n",
    "            <ogc:Filter>\n",
    "                <ogc:And>\n",
    "                    <ogc:PropertyIsLike wildCard=\"*\" singleChar=\"?\" escapeChar=\"\\\\\" matchCase=\"false\">\n",
    "                        <ogc:PropertyName>dc:title</ogc:PropertyName>\n",
    "                        <ogc:Literal>*leaf*</ogc:Literal>\n",
    "                    </ogc:PropertyIsLike>\n",
    "                    <ogc:BBOX>\n",
    "                        <ogc:PropertyName>ows:BoundingBox</ogc:PropertyName>\n",
    "                        <gml:Envelope>\n",
    "                            <gml:lowerCorner>-25.0 27.0</gml:lowerCorner>\n",
    "                            <gml:upperCorner>43.0 72.0</gml:upperCorner>\n",
    "                        </gml:Envelope>\n",
    "                    </ogc:BBOX>\n",
    "                </ogc:And>\n",
    "            </ogc:Filter>\n",
    "        </csw:Constraint>\n",
    "    </csw:Query>\n",
    "</csw:GetRecords>"
   ]
  },
  {
   "cell_type": "code",
   "execution_count": null,
   "id": "1c506bd7-cec6-499d-a73f-a6cb92856220",
   "metadata": {
    "tags": []
   },
   "outputs": [],
   "source": [
    "!curl -s -H \"Content-Type: text/xml\" -X POST -d @query3a.xml {csw_test_endpoint} | grep -oP 'numberOfRecordsMatched=\"\\K[^\"]+'"
   ]
  },
  {
   "cell_type": "markdown",
   "id": "7f8f7652-80af-48dc-882a-f106002afb53",
   "metadata": {},
   "source": [
    "... I get back 1 record.\n",
    "\n",
    "If I do the same with text 'area':\n",
    "\n",
    "\n",
    "```\n",
    "title IsLike *area*\n",
    "\n",
    "bbox:\n",
    "    lowerCorner: -25.0 27.0\n",
    "    upperCorner: 43.0 72.0\n",
    "```"
   ]
  },
  {
   "cell_type": "code",
   "execution_count": null,
   "id": "f9bab04f-33c3-4489-b4c5-a28c8c38e87d",
   "metadata": {
    "tags": []
   },
   "outputs": [],
   "source": [
    "%%file query3b.xml\n",
    "<?xml version=\"1.0\" encoding=\"ISO-8859-1\" standalone=\"no\"?>\n",
    "<csw:GetRecords xmlns:apiso=\"http://www.opengis.net/cat/csw/apiso/1.0\" xmlns:csw=\"http://www.opengis.net/cat/csw/2.0.2\" xmlns:ogc=\"http://www.opengis.net/ogc\" service=\"CSW\" version=\"2.0.2\" resultType=\"results\" startPosition=\"1\" maxRecords=\"5\" outputFormat=\"application/xml\" outputSchema=\"http://www.isotc211.org/2005/gmd\" xmlns:xsi=\"http://www.w3.org/2001/XMLSchema-instance\" xsi:schemaLocation=\"http://www.opengis.net/cat/csw/2.0.2 http://schemas.opengis.net/csw/2.0.2/CSW-discovery.xsd\" xmlns:gml=\"http://www.opengis.net/gml\" xmlns:gmd=\"http://www.isotc211.org/2005/gmd\">\n",
    "    <csw:Query typeNames=\"gmd:MD_Metadata\">\n",
    "        <csw:ElementSetName>brief</csw:ElementSetName>\n",
    "        <csw:Constraint version=\"1.1.0\">\n",
    "            <ogc:Filter>\n",
    "                <ogc:And>\n",
    "                    <ogc:PropertyIsLike wildCard=\"*\" singleChar=\"?\" escapeChar=\"\\\\\" matchCase=\"false\">\n",
    "                        <ogc:PropertyName>dc:title</ogc:PropertyName>\n",
    "                        <ogc:Literal>*area*</ogc:Literal>\n",
    "                    </ogc:PropertyIsLike>\n",
    "                    <ogc:BBOX>\n",
    "                        <ogc:PropertyName>ows:BoundingBox</ogc:PropertyName>\n",
    "                        <gml:Envelope>\n",
    "                            <gml:lowerCorner>-25.0 27.0</gml:lowerCorner>\n",
    "                            <gml:upperCorner>43.0 72.0</gml:upperCorner>\n",
    "                        </gml:Envelope>\n",
    "                    </ogc:BBOX>\n",
    "                </ogc:And>\n",
    "            </ogc:Filter>\n",
    "        </csw:Constraint>\n",
    "    </csw:Query>\n",
    "</csw:GetRecords>"
   ]
  },
  {
   "cell_type": "code",
   "execution_count": null,
   "id": "da1c23e2-7c1c-4cf1-9fa9-340468124791",
   "metadata": {
    "tags": []
   },
   "outputs": [],
   "source": [
    "!curl -s -H \"Content-Type: text/xml\" -X POST -d @query3b.xml {csw_test_endpoint} | grep -oP 'numberOfRecordsMatched=\"\\K[^\"]+'"
   ]
  },
  {
   "cell_type": "markdown",
   "id": "56b685a1-4025-495d-a23e-ee53a63196f8",
   "metadata": {},
   "source": [
    "... I get back 2363 records."
   ]
  },
  {
   "cell_type": "markdown",
   "id": "3ea93f26-b44a-4779-b0f2-cb2f9902f9c5",
   "metadata": {},
   "source": [
    "... I would expect to get back either 2363 or 2364 records, but I get 232592 records!\n",
    "\n",
    "Why is this?"
   ]
  },
  {
   "cell_type": "markdown",
   "id": "0d2994e3-4877-423a-a71e-44ad720f115d",
   "metadata": {},
   "source": [
    "# Query 4\n",
    "\n",
    "\n",
    "```\n",
    "title IsLike salinity\n",
    "\n",
    "bbox:\n",
    "    lowerCorner: -25.0 27.0\n",
    "    upperCorner: 43.0 72.0\n",
    "```"
   ]
  },
  {
   "cell_type": "code",
   "execution_count": null,
   "id": "f84a5329-8f5b-4d9a-b311-af4d8251735d",
   "metadata": {
    "tags": []
   },
   "outputs": [],
   "source": [
    "%%file query4.xml\n",
    "<?xml version=\"1.0\" encoding=\"ISO-8859-1\" standalone=\"no\"?>\n",
    "<csw:GetRecords xmlns:apiso=\"http://www.opengis.net/cat/csw/apiso/1.0\" xmlns:csw=\"http://www.opengis.net/cat/csw/2.0.2\" xmlns:ogc=\"http://www.opengis.net/ogc\" service=\"CSW\" version=\"2.0.2\" resultType=\"results\" startPosition=\"1\" maxRecords=\"5\" outputFormat=\"application/xml\" outputSchema=\"http://www.isotc211.org/2005/gmd\" xmlns:xsi=\"http://www.w3.org/2001/XMLSchema-instance\" xsi:schemaLocation=\"http://www.opengis.net/cat/csw/2.0.2 http://schemas.opengis.net/csw/2.0.2/CSW-discovery.xsd\" xmlns:gml=\"http://www.opengis.net/gml\" xmlns:gmd=\"http://www.isotc211.org/2005/gmd\">\n",
    "    <csw:Query typeNames=\"gmd:MD_Metadata\">\n",
    "        <csw:ElementSetName>brief</csw:ElementSetName>\n",
    "        <csw:Constraint version=\"1.1.0\">\n",
    "            <ogc:Filter>\n",
    "                <ogc:And>\n",
    "                    <ogc:PropertyIsLike wildCard=\"*\" singleChar=\"?\" escapeChar=\"\\\\\" matchCase=\"false\">\n",
    "                        <ogc:PropertyName>dc:title</ogc:PropertyName>\n",
    "                        <ogc:Literal>salinity</ogc:Literal>\n",
    "                    </ogc:PropertyIsLike>\n",
    "                    <ogc:BBOX>\n",
    "                        <ogc:PropertyName>ows:BoundingBox</ogc:PropertyName>\n",
    "                        <gml:Envelope>\n",
    "                            <gml:lowerCorner>-25.0 27.0</gml:lowerCorner>\n",
    "                            <gml:upperCorner>43.0 72.0</gml:upperCorner>\n",
    "                        </gml:Envelope>\n",
    "                    </ogc:BBOX>\n",
    "                </ogc:And>\n",
    "            </ogc:Filter>\n",
    "        </csw:Constraint>\n",
    "    </csw:Query>\n",
    "</csw:GetRecords>"
   ]
  },
  {
   "cell_type": "markdown",
   "id": "33f8001f-59cf-4593-b16a-125e0c2def8c",
   "metadata": {},
   "source": [
    ".. seems to return many records that do not contain the search term 'salinity' in the title. The word seems to be present in some other parts of the metadata, like in dc:subject or dct:abstract. But the query explicitly states that the search word is to be looked up in dc:title only. Can you possibly correct this?\n",
    "\n"
   ]
  },
  {
   "cell_type": "code",
   "execution_count": null,
   "id": "6ba34343-6d5c-4e73-9716-6394efdcd61b",
   "metadata": {},
   "outputs": [],
   "source": [
    "!curl -s -H \"Content-Type: text/xml\" -X POST -d @query4.xml {csw_test_endpoint} | grep -oP 'numberOfRecordsMatched=\"\\K[^\"]+'"
   ]
  },
  {
   "cell_type": "markdown",
   "id": "91425708-2b32-4179-b1b4-ad5530cad59b",
   "metadata": {},
   "source": [
    "# Query 5\n",
    "\n",
    "```\n",
    "title IsLike ice\n",
    "\n",
    "bbox:\n",
    "    lowerCorner: -1.280887 33.49871\n",
    "    upperCorner: 187.981272 52.386974\n",
    "\n",
    "temporal extent:\n",
    "    start: 2018-09-18 09:00\n",
    "    end: 2020-10-18 09:00\n",
    "\n",
    "\n",
    "```"
   ]
  },
  {
   "cell_type": "code",
   "execution_count": null,
   "id": "a586b776-1a6f-4d2a-8ee5-bde63115590f",
   "metadata": {},
   "outputs": [],
   "source": [
    "%%file query5.xml\n",
    "<?xml version=\"1.0\" encoding=\"ISO-8859-1\" standalone=\"no\"?>\n",
    "<csw:GetRecords xmlns:apiso=\"http://www.opengis.net/cat/csw/apiso/1.0\" xmlns:csw=\"http://www.opengis.net/cat/csw/2.0.2\" xmlns:ogc=\"http://www.opengis.net/ogc\" service=\"CSW\" version=\"2.0.2\" resultType=\"results\" startPosition=\"1\" maxRecords=\"5\" outputFormat=\"application/xml\" outputSchema=\"http://www.isotc211.org/2005/gmd\" xmlns:xsi=\"http://www.w3.org/2001/XMLSchema-instance\" xsi:schemaLocation=\"http://www.opengis.net/cat/csw/2.0.2 http://schemas.opengis.net/csw/2.0.2/CSW-discovery.xsd\" xmlns:gml=\"http://www.opengis.net/gml\" xmlns:gmd=\"http://www.isotc211.org/2005/gmd\">\n",
    "    <csw:Query typeNames=\"gmd:MD_Metadata\">\n",
    "        <csw:ElementSetName>brief</csw:ElementSetName>\n",
    "        <csw:Constraint version=\"1.1.0\">\n",
    "     <ogc:Filter>\n",
    "       <ogc:And>\n",
    "         <ogc:PropertyIsLike wildCard=\"*\" singleChar=\"?\" escapeChar=\"\\\\\" matchCase=\"false\">\n",
    "                        <ogc:PropertyName>dc:title</ogc:PropertyName>\n",
    "                        <ogc:Literal>ice</ogc:Literal>\n",
    "                    </ogc:PropertyIsLike>\n",
    "         <ogc:PropertyIsLessThanOrEqualTo>\n",
    "           <ogc:PropertyName>apiso:TempExtent_begin</ogc:PropertyName>\n",
    "           <ogc:Literal>2020-10-18 09:00</ogc:Literal>\n",
    "         </ogc:PropertyIsLessThanOrEqualTo>\n",
    "        <ogc:PropertyIsGreaterThanOrEqualTo>\n",
    "           <ogc:PropertyName>apiso:TempExtent_end</ogc:PropertyName>\n",
    "           <ogc:Literal>2018-09-18 09:00</ogc:Literal>\n",
    "         </ogc:PropertyIsGreaterThanOrEqualTo>\n",
    "           <ogc:BBOX>\n",
    "             <ogc:PropertyName>ows:BoundingBox</ogc:PropertyName>\n",
    "             <gml:Envelope>\n",
    "                <gml:lowerCorner>-1.280887 33.49871</gml:lowerCorner>\n",
    "                <gml:upperCorner>187.981272 52.386974</gml:upperCorner>\n",
    "             </gml:Envelope>\n",
    "           </ogc:BBOX>\n",
    "       </ogc:And>\n",
    "     </ogc:Filter>\n",
    "   </csw:Constraint>\n",
    "    </csw:Query>\n",
    "</csw:GetRecords>"
   ]
  },
  {
   "cell_type": "code",
   "execution_count": null,
   "id": "4b27fb40-28cb-41ba-a6c8-1029b97867b6",
   "metadata": {},
   "outputs": [],
   "source": [
    "!curl -s -H \"Content-Type: text/xml\" -X POST -d @query5.xml {csw_test_endpoint} | grep -oP 'numberOfRecordsMatched=\"\\K[^\"]+'"
   ]
  },
  {
   "cell_type": "markdown",
   "id": "4fabe9bb-6261-4d9e-abf6-90d0ceb009a8",
   "metadata": {},
   "source": [
    "# Query 6\n",
    "\n",
    "the following is expected to fail (has multiple BBOX, which we do not have implemented)"
   ]
  },
  {
   "cell_type": "code",
   "execution_count": null,
   "id": "709dd184-6701-489e-9a95-455b00ea2672",
   "metadata": {},
   "outputs": [],
   "source": [
    "%%file query6.xml\n",
    "<?xml version=\"1.0\" encoding=\"ISO-8859-1\" standalone=\"no\"?>\n",
    "<csw:GetRecords xmlns:apiso=\"http://www.opengis.net/cat/csw/apiso/1.0\" xmlns:csw=\"http://www.opengis.net/cat/csw/2.0.2\" xmlns:ogc=\"http://www.opengis.net/ogc\" service=\"CSW\" version=\"2.0.2\" resultType=\"results\" startPosition=\"1\" maxRecords=\"5\" outputFormat=\"application/xml\" outputSchema=\"http://www.isotc211.org/2005/gmd\" xmlns:xsi=\"http://www.w3.org/2001/XMLSchema-instance\" xsi:schemaLocation=\"http://www.opengis.net/cat/csw/2.0.2 http://schemas.opengis.net/csw/2.0.2/CSW-discovery.xsd\" xmlns:gml=\"http://www.opengis.net/gml\" xmlns:gmd=\"http://www.isotc211.org/2005/gmd\">\n",
    "    <csw:Query typeNames=\"gmd:MD_Metadata\">\n",
    "        <csw:ElementSetName>brief</csw:ElementSetName>\n",
    "        <csw:Constraint version=\"1.1.0\">\n",
    "     <ogc:Filter>\n",
    "       <ogc:And>\n",
    "         <ogc:PropertyIsLike wildCard=\"*\" singleChar=\"?\" escapeChar=\"\\\\\" matchCase=\"false\">\n",
    "                        <ogc:PropertyName>dc:title</ogc:PropertyName>\n",
    "                        <ogc:Literal>ice</ogc:Literal>\n",
    "                    </ogc:PropertyIsLike>\n",
    "         <ogc:PropertyIsLessThanOrEqualTo>\n",
    "           <ogc:PropertyName>apiso:TempExtent_begin</ogc:PropertyName>\n",
    "           <ogc:Literal>2020-10-18 09:00</ogc:Literal>\n",
    "         </ogc:PropertyIsLessThanOrEqualTo>\n",
    "        <ogc:PropertyIsGreaterThanOrEqualTo>\n",
    "           <ogc:PropertyName>apiso:TempExtent_end</ogc:PropertyName>\n",
    "           <ogc:Literal>2018-09-18 09:00</ogc:Literal>\n",
    "         </ogc:PropertyIsGreaterThanOrEqualTo>\n",
    "           <ogc:Or>\n",
    "           <ogc:BBOX>\n",
    "             <ogc:PropertyName>ows:BoundingBox</ogc:PropertyName>\n",
    "             <gml:Envelope>\n",
    "               <gml:lowerCorner>5.0721 17.8247</gml:lowerCorner>\n",
    "               <gml:upperCorner>31.7842 180</gml:upperCorner>\n",
    "             </gml:Envelope>\n",
    "           </ogc:BBOX>\n",
    "           <ogc:BBOX>\n",
    "             <ogc:PropertyName>ows:BoundingBox</ogc:PropertyName>\n",
    "             <gml:Envelope>\n",
    "               <gml:lowerCorner>15.0721 -180</gml:lowerCorner>\n",
    "               <gml:upperCorner>31.7842 -151.2378</gml:upperCorner>\n",
    "             </gml:Envelope>\n",
    "           </ogc:BBOX>\n",
    "         </ogc:Or>\n",
    "       </ogc:And>\n",
    "     </ogc:Filter>\n",
    "   </csw:Constraint>\n",
    "    </csw:Query>\n",
    "</csw:GetRecords>\n",
    "\n"
   ]
  },
  {
   "cell_type": "code",
   "execution_count": null,
   "id": "f290fdfc-9ec4-4f1a-9a6f-3139eec7cdbf",
   "metadata": {
    "scrolled": true
   },
   "outputs": [],
   "source": [
    "!curl -s -H \"Content-Type: text/xml\" -X POST -d @query6.xml {csw_test_endpoint} | grep -oP 'numberOfRecordsMatched=\"\\K[^\"]+'"
   ]
  },
  {
   "cell_type": "markdown",
   "id": "8b82f862-82eb-44b1-8c78-54b9beb3a6f4",
   "metadata": {},
   "source": [
    "# Query 7\n",
    "\n",
    "* Temporal and BBOX query - without text filter"
   ]
  },
  {
   "cell_type": "code",
   "execution_count": null,
   "id": "72001313-9d66-42f4-bb78-cf4652a1d252",
   "metadata": {},
   "outputs": [],
   "source": [
    "%%file query7.xml\n",
    "<?xml version=\"1.0\" encoding=\"ISO-8859-1\" standalone=\"no\"?>\n",
    "<csw:GetRecords xmlns:apiso=\"http://www.opengis.net/cat/csw/apiso/1.0\" xmlns:csw=\"http://www.opengis.net/cat/csw/2.0.2\" xmlns:ogc=\"http://www.opengis.net/ogc\" service=\"CSW\" version=\"2.0.2\" resultType=\"results\" startPosition=\"1\" maxRecords=\"5\" outputFormat=\"application/xml\" outputSchema=\"http://www.isotc211.org/2005/gmd\" xmlns:xsi=\"http://www.w3.org/2001/XMLSchema-instance\" xsi:schemaLocation=\"http://www.opengis.net/cat/csw/2.0.2 http://schemas.opengis.net/csw/2.0.2/CSW-discovery.xsd\" xmlns:gml=\"http://www.opengis.net/gml\" xmlns:gmd=\"http://www.isotc211.org/2005/gmd\">\n",
    "    <csw:Query typeNames=\"gmd:MD_Metadata\">\n",
    "        <csw:ElementSetName>brief</csw:ElementSetName>\n",
    "        <csw:Constraint version=\"1.1.0\">\n",
    "     <ogc:Filter>\n",
    "       <ogc:And>\n",
    "         <ogc:PropertyIsLessThanOrEqualTo>\n",
    "           <ogc:PropertyName>apiso:TempExtent_begin</ogc:PropertyName>\n",
    "           <ogc:Literal>2020-10-18 09:00</ogc:Literal>\n",
    "         </ogc:PropertyIsLessThanOrEqualTo>\n",
    "        <ogc:PropertyIsGreaterThanOrEqualTo>\n",
    "           <ogc:PropertyName>apiso:TempExtent_end</ogc:PropertyName>\n",
    "           <ogc:Literal>2018-09-18 09:00</ogc:Literal>\n",
    "         </ogc:PropertyIsGreaterThanOrEqualTo>\n",
    "           <ogc:BBOX>\n",
    "             <ogc:PropertyName>ows:BoundingBox</ogc:PropertyName>\n",
    "             <gml:Envelope>\n",
    "                <gml:lowerCorner>-1.280887 33.49871</gml:lowerCorner>\n",
    "                <gml:upperCorner>187.981272 52.386974</gml:upperCorner>\n",
    "             </gml:Envelope>\n",
    "           </ogc:BBOX>\n",
    "       </ogc:And>\n",
    "     </ogc:Filter>\n",
    "   </csw:Constraint>\n",
    "    </csw:Query>\n",
    "</csw:GetRecords>"
   ]
  },
  {
   "cell_type": "code",
   "execution_count": null,
   "id": "25bccb60-d28d-4a0c-b769-a7a2b036c918",
   "metadata": {
    "scrolled": true
   },
   "outputs": [],
   "source": [
    "!curl -H \"Content-Type: text/xml\" -X POST -d @query7.xml {csw_test_endpoint}"
   ]
  },
  {
   "cell_type": "markdown",
   "id": "44498862-96d7-4ee4-b0b5-8e42687aeb5c",
   "metadata": {},
   "source": [
    "# Query 8\n",
    "\n",
    "* this is expected to fail but instead returns all records in time slice (BBOX is ignored)"
   ]
  },
  {
   "cell_type": "code",
   "execution_count": null,
   "id": "90ebcd2c-463c-4114-acd6-40f9719e2940",
   "metadata": {},
   "outputs": [],
   "source": [
    "%%file query8.xml\n",
    "<?xml version=\"1.0\" encoding=\"ISO-8859-1\" standalone=\"no\"?>\n",
    "<csw:GetRecords xmlns:apiso=\"http://www.opengis.net/cat/csw/apiso/1.0\" xmlns:csw=\"http://www.opengis.net/cat/csw/2.0.2\" xmlns:ogc=\"http://www.opengis.net/ogc\" service=\"CSW\" version=\"2.0.2\" resultType=\"results\" startPosition=\"1\" maxRecords=\"5\" outputFormat=\"application/xml\" outputSchema=\"http://www.isotc211.org/2005/gmd\" xmlns:xsi=\"http://www.w3.org/2001/XMLSchema-instance\" xsi:schemaLocation=\"http://www.opengis.net/cat/csw/2.0.2 http://schemas.opengis.net/csw/2.0.2/CSW-discovery.xsd\" xmlns:gml=\"http://www.opengis.net/gml\" xmlns:gmd=\"http://www.isotc211.org/2005/gmd\">\n",
    "    <csw:Query typeNames=\"gmd:MD_Metadata\">\n",
    "        <csw:ElementSetName>brief</csw:ElementSetName>\n",
    "        <csw:Constraint version=\"1.1.0\">\n",
    "     <ogc:Filter>\n",
    "       <ogc:And>\n",
    "         <ogc:PropertyIsLessThanOrEqualTo>\n",
    "           <ogc:PropertyName>apiso:TempExtent_begin</ogc:PropertyName>\n",
    "           <ogc:Literal>2020-10-18 09:00</ogc:Literal>\n",
    "         </ogc:PropertyIsLessThanOrEqualTo>\n",
    "        <ogc:PropertyIsGreaterThanOrEqualTo>\n",
    "           <ogc:PropertyName>apiso:TempExtent_end</ogc:PropertyName>\n",
    "           <ogc:Literal>2018-09-18 09:00</ogc:Literal>\n",
    "         </ogc:PropertyIsGreaterThanOrEqualTo>\n",
    "           <ogc:Or>\n",
    "           <ogc:BBOX>\n",
    "             <ogc:PropertyName>ows:BoundingBox</ogc:PropertyName>\n",
    "             <gml:Envelope>\n",
    "               <gml:lowerCorner>5.0721 17.8247</gml:lowerCorner>\n",
    "               <gml:upperCorner>31.7842 180</gml:upperCorner>\n",
    "             </gml:Envelope>\n",
    "           </ogc:BBOX>\n",
    "           <ogc:BBOX>\n",
    "             <ogc:PropertyName>ows:BoundingBox</ogc:PropertyName>\n",
    "             <gml:Envelope>\n",
    "               <gml:lowerCorner>15.0721 -180</gml:lowerCorner>\n",
    "               <gml:upperCorner>31.7842 -151.2378</gml:upperCorner>\n",
    "             </gml:Envelope>\n",
    "           </ogc:BBOX>\n",
    "         </ogc:Or>\n",
    "       </ogc:And>\n",
    "     </ogc:Filter>\n",
    "   </csw:Constraint>\n",
    "    </csw:Query>\n",
    "</csw:GetRecords>"
   ]
  },
  {
   "cell_type": "code",
   "execution_count": null,
   "id": "51750021-ae99-4d55-9f10-350e66a8e5bf",
   "metadata": {},
   "outputs": [],
   "source": [
    "!curl -H \"Content-Type: text/xml\" -X POST -d @query8.xml {csw_test_endpoint}\n"
   ]
  },
  {
   "cell_type": "code",
   "execution_count": null,
   "id": "9005570a-fb7c-4e66-919c-dc273b37e60f",
   "metadata": {},
   "outputs": [],
   "source": [
    "list1"
   ]
  },
  {
   "cell_type": "code",
   "execution_count": null,
   "id": "5e5ee243-263c-42e2-9a96-b5de00fbf0d7",
   "metadata": {},
   "outputs": [],
   "source": []
  }
 ],
 "metadata": {
  "kernelspec": {
   "display_name": "Python 3 (ipykernel)",
   "language": "python",
   "name": "python3"
  },
  "language_info": {
   "codemirror_mode": {
    "name": "ipython",
    "version": 3
   },
   "file_extension": ".py",
   "mimetype": "text/x-python",
   "name": "python",
   "nbconvert_exporter": "python",
   "pygments_lexer": "ipython3",
   "version": "3.11.6"
  }
 },
 "nbformat": 4,
 "nbformat_minor": 5
}
