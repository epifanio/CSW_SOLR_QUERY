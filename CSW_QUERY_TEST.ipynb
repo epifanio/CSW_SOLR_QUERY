{
 "cells": [
  {
   "cell_type": "markdown",
   "id": "500cde8f-c56b-4831-adf5-83a877569ccd",
   "metadata": {},
   "source": [
    "# Test CSW QUERY\n",
    "\n",
    "the following will run a query by posting an  XML file via CURL \n",
    "\n",
    "\n",
    "At the moment the following Query are supported:\n",
    "* Group A\n",
    "    - `anytext`\n",
    "    - `Time`\n",
    "    - `BBOX`\n",
    "    - `anytext` *on field*\n",
    "\n",
    "* Group B\n",
    "    - `anytext` **AND** `Time`\n",
    "    - `anytext` **AND** `BBOX`\n",
    "    - `anytext` **AND** `Time` **AND** `BBOX`\n",
    "  \n",
    "* Group C\n",
    "    - `anytext` *on field*  **AND** `Time`\n",
    "    - `anytext` *on field*  **AND** `BBOX`\n",
    "    - `anytext` *on field* **AND** `Time` **AND** `BBOX`\n",
    "\n",
    "* Group D\n",
    "    - `Time` **AND** `BBOX`\n",
    "    \n",
    "* Group E\n",
    "    - `anytext` *on field*  **AND** `BBOX` OR `anytext` *on field*  **AND** `BBOX`"
   ]
  },
  {
   "cell_type": "code",
   "execution_count": null,
   "id": "03b5a262-259f-43b0-b593-75e6de4129ff",
   "metadata": {},
   "outputs": [],
   "source": [
    "from IPython.core.magic import register_line_cell_magic\n",
    "\n",
    "\n",
    "@register_line_cell_magic\n",
    "def writetemplate(line, cell):\n",
    "    with open(line, \"w\") as f:\n",
    "        f.write(cell.format(**globals()))"
   ]
  },
  {
   "cell_type": "code",
   "execution_count": null,
   "id": "1f887993-bed7-4e22-b4ea-969390bfb4a6",
   "metadata": {
    "tags": []
   },
   "outputs": [],
   "source": [
    "csw_test_endpoint = \"https://test.csw.met.no\"\n",
    "ElementSetName = \"brief\"\n",
    "\n",
    "field_to_query = \"title\"\n",
    "text_to_quey = \"ice\"\n",
    "\n",
    "start_time = \"2018-09-18 09:00\"\n",
    "end_time = \"2020-10-18 09:00\"\n",
    "\n",
    "lowerCorner = \"60 0\"\n",
    "upperCorner = \"90 180\""
   ]
  },
  {
   "cell_type": "markdown",
   "id": "a0cb7786-041b-4fc1-805d-527406e8a376",
   "metadata": {},
   "source": [
    "## Group A"
   ]
  },
  {
   "cell_type": "markdown",
   "id": "af0c136e-6f8f-42f4-9549-2cf89faf79e7",
   "metadata": {},
   "source": [
    "### `anytext`"
   ]
  },
  {
   "cell_type": "markdown",
   "id": "e804213c-cedc-4be8-850c-1681b28e1605",
   "metadata": {},
   "source": [
    "* Corresponding SOLR JSON Query:\n",
    "\n",
    "```json\n",
    "{\n",
    "    \"q\": \"full_text:(ice)\",\n",
    "    \"q.op\": \"OR\",\n",
    "    \"start\": 0,\n",
    "    \"rows\": \"5\",\n",
    "    \"fq\": [\n",
    "        \"metadata_status:Active\",\n",
    "        \"collection:(ADC)\"\n",
    "    ]\n",
    "}\n",
    "```"
   ]
  },
  {
   "cell_type": "code",
   "execution_count": null,
   "id": "6b55f008-fd4f-4521-a1cd-6bb0cb4ce651",
   "metadata": {},
   "outputs": [],
   "source": [
    "%%writetemplate test_xml_query_anytext.xml\n",
    "<?xml version=\"1.0\" encoding=\"ISO-8859-1\" standalone=\"no\"?>\n",
    "<csw:GetRecords xmlns:apiso=\"http://www.opengis.net/cat/csw/apiso/1.0\" xmlns:csw=\"http://www.opengis.net/cat/csw/2.0.2\" xmlns:ogc=\"http://www.opengis.net/ogc\" service=\"CSW\" version=\"2.0.2\" resultType=\"results\" startPosition=\"1\" maxRecords=\"5\" outputFormat=\"application/xml\" outputSchema=\"http://www.isotc211.org/2005/gmd\" xmlns:xsi=\"http://www.w3.org/2001/XMLSchema-instance\" xsi:schemaLocation=\"http://www.opengis.net/cat/csw/2.0.2 http://schemas.opengis.net/csw/2.0.2/CSW-discovery.xsd\" xmlns:gml=\"http://www.opengis.net/gml\" xmlns:gmd=\"http://www.isotc211.org/2005/gmd\">\n",
    "    <csw:Query typeNames=\"gmd:MD_Metadata\">\n",
    "        <csw:ElementSetName>{ElementSetName}</csw:ElementSetName>\n",
    "        <csw:Constraint version=\"1.1.0\">\n",
    "            <ogc:Filter>\n",
    "                    <ogc:PropertyIsLike wildCard=\"*\" singleChar=\"?\" escapeChar=\"\\\\\" matchCase=\"false\">\n",
    "                        <ogc:PropertyName>apiso:AnyText</ogc:PropertyName>\n",
    "                        <ogc:Literal>{text_to_quey}</ogc:Literal>\n",
    "                    </ogc:PropertyIsLike>\n",
    "            </ogc:Filter>\n",
    "        </csw:Constraint>\n",
    "    </csw:Query>\n",
    "</csw:GetRecords>"
   ]
  },
  {
   "cell_type": "code",
   "execution_count": null,
   "id": "37db4d9c-f080-4bc6-a465-5ff41f83a7ad",
   "metadata": {},
   "outputs": [],
   "source": [
    "!curl -s -H \"Content-Type: text/xml\" -X POST -d @test_xml_query_anytext.xml {csw_test_endpoint} | grep -oP 'numberOfRecordsMatched=\"\\K[^\"]+'"
   ]
  },
  {
   "cell_type": "markdown",
   "id": "20bb5911-8887-481e-bb5d-400604aa1f12",
   "metadata": {},
   "source": [
    "### `Time`\n"
   ]
  },
  {
   "cell_type": "markdown",
   "id": "8d21a380-ea97-421c-a444-e2c27c194eca",
   "metadata": {},
   "source": [
    "* Corresponding SOLR JSON Query:\n",
    "\n",
    "```json\n",
    "{\n",
    "    \"q\": \"*:*\",\n",
    "    \"q.op\": \"OR\",\n",
    "    \"start\": 0,\n",
    "    \"rows\": \"5\",\n",
    "    \"fq\": [\n",
    "        \"metadata_status:Active\",\n",
    "        \"temporal_extent_start_date:[2018-09-18T09:00:00Z TO *]\",\n",
    "        \"temporal_extent_end_date:[* TO 2020-10-18T09:00:00Z]\",\n",
    "        \"collection:(ADC)\"\n",
    "    ]\n",
    "}\n",
    "```"
   ]
  },
  {
   "cell_type": "code",
   "execution_count": null,
   "id": "c32bff78-4000-48f3-ab1c-7db3f268d693",
   "metadata": {},
   "outputs": [],
   "source": [
    "%%writetemplate test_xml_query_time.xml\n",
    "<?xml version=\"1.0\" encoding=\"ISO-8859-1\" standalone=\"no\"?>\n",
    "<csw:GetRecords xmlns:apiso=\"http://www.opengis.net/cat/csw/apiso/1.0\" xmlns:csw=\"http://www.opengis.net/cat/csw/2.0.2\" xmlns:ogc=\"http://www.opengis.net/ogc\" service=\"CSW\" version=\"2.0.2\" resultType=\"results\" startPosition=\"1\" maxRecords=\"5\" outputFormat=\"application/xml\" outputSchema=\"http://www.isotc211.org/2005/gmd\" xmlns:xsi=\"http://www.w3.org/2001/XMLSchema-instance\" xsi:schemaLocation=\"http://www.opengis.net/cat/csw/2.0.2 http://schemas.opengis.net/csw/2.0.2/CSW-discovery.xsd\" xmlns:gml=\"http://www.opengis.net/gml\" xmlns:gmd=\"http://www.isotc211.org/2005/gmd\">\n",
    "    <csw:Query typeNames=\"gmd:MD_Metadata\">\n",
    "        <csw:ElementSetName>{ElementSetName}</csw:ElementSetName>\n",
    "        <csw:Constraint version=\"1.1.0\">\n",
    "     <ogc:Filter>\n",
    "       <ogc:And>\n",
    "         <ogc:PropertyIsLessThanOrEqualTo>\n",
    "           <ogc:PropertyName>apiso:TempExtent_begin</ogc:PropertyName>\n",
    "           <ogc:Literal>{end_time}</ogc:Literal>\n",
    "         </ogc:PropertyIsLessThanOrEqualTo>\n",
    "        <ogc:PropertyIsGreaterThanOrEqualTo>\n",
    "           <ogc:PropertyName>apiso:TempExtent_end</ogc:PropertyName>\n",
    "           <ogc:Literal>{start_time}</ogc:Literal>\n",
    "         </ogc:PropertyIsGreaterThanOrEqualTo>\n",
    "       </ogc:And>\n",
    "     </ogc:Filter>\n",
    "   </csw:Constraint>\n",
    "    </csw:Query>\n",
    "</csw:GetRecords>"
   ]
  },
  {
   "cell_type": "code",
   "execution_count": null,
   "id": "2547d50b-5bb5-4ae5-8230-7389383496b7",
   "metadata": {},
   "outputs": [],
   "source": [
    "!curl -s -H \"Content-Type: text/xml\" -X POST -d @test_xml_query_time.xml {csw_test_endpoint} | grep -oP 'numberOfRecordsMatched=\"\\K[^\"]+'"
   ]
  },
  {
   "cell_type": "markdown",
   "id": "c70cf52f-e5ff-4f86-9c07-17d01fa9b0ed",
   "metadata": {},
   "source": [
    "### `BBOX`\n",
    "\n"
   ]
  },
  {
   "cell_type": "markdown",
   "id": "98e6f276-2012-4103-b798-e23b930074f0",
   "metadata": {},
   "source": [
    "* Corresponding SOLR JSON Query:\n",
    "\n",
    "```json\n",
    "{\n",
    "    \"q\": \"*:*\",\n",
    "    \"q.op\": \"OR\",\n",
    "    \"start\": 0,\n",
    "    \"rows\": \"5\",\n",
    "    \"fq\": [\n",
    "        \"metadata_status:Active\",\n",
    "        \"{!field f=bbox score=overlapRatio}Within(ENVELOPE(60.0,90.0,180.0,0.0))\",\n",
    "        \"collection:(ADC)\"\n",
    "    ]\n",
    "}\n",
    "```"
   ]
  },
  {
   "cell_type": "code",
   "execution_count": null,
   "id": "a4e4e73a-914d-4b2a-93eb-6b98d64f4a5d",
   "metadata": {},
   "outputs": [],
   "source": [
    "%%writetemplate test_xml_query_bbox.xml\n",
    "<?xml version=\"1.0\" encoding=\"ISO-8859-1\" standalone=\"no\"?>\n",
    "<csw:GetRecords xmlns:apiso=\"http://www.opengis.net/cat/csw/apiso/1.0\" xmlns:csw=\"http://www.opengis.net/cat/csw/2.0.2\" xmlns:ogc=\"http://www.opengis.net/ogc\" service=\"CSW\" version=\"2.0.2\" resultType=\"results\" startPosition=\"1\" maxRecords=\"5\" outputFormat=\"application/xml\" outputSchema=\"http://www.isotc211.org/2005/gmd\" xmlns:xsi=\"http://www.w3.org/2001/XMLSchema-instance\" xsi:schemaLocation=\"http://www.opengis.net/cat/csw/2.0.2 http://schemas.opengis.net/csw/2.0.2/CSW-discovery.xsd\" xmlns:gml=\"http://www.opengis.net/gml\" xmlns:gmd=\"http://www.isotc211.org/2005/gmd\">\n",
    "    <csw:Query typeNames=\"gmd:MD_Metadata\">\n",
    "        <csw:ElementSetName>{ElementSetName}</csw:ElementSetName>\n",
    "        <csw:Constraint version=\"1.1.0\">\n",
    "            <ogc:Filter>\n",
    "                <ogc:BBOX>\n",
    "                    <ogc:PropertyName>apiso:BoundingBox</ogc:PropertyName>\n",
    "                    <gml:Envelope>\n",
    "                        <gml:lowerCorner>{lowerCorner}</gml:lowerCorner>\n",
    "                        <gml:upperCorner>{upperCorner}</gml:upperCorner>\n",
    "                    </gml:Envelope>\n",
    "                </ogc:BBOX>\n",
    "            </ogc:Filter>\n",
    "        </csw:Constraint>\n",
    "    </csw:Query>\n",
    "</csw:GetRecords>"
   ]
  },
  {
   "cell_type": "code",
   "execution_count": null,
   "id": "0840ed5f-5384-4a55-a69b-6f12a4392571",
   "metadata": {},
   "outputs": [],
   "source": [
    "!curl -s -H \"Content-Type: text/xml\" -X POST -d @test_xml_query_bbox.xml {csw_test_endpoint} | grep -oP 'numberOfRecordsMatched=\"\\K[^\"]+'"
   ]
  },
  {
   "cell_type": "markdown",
   "id": "a81a2130-91b9-4511-bf5c-982dd42fc1bd",
   "metadata": {},
   "source": [
    "### `anytext` *on field*\n",
    "\n"
   ]
  },
  {
   "cell_type": "markdown",
   "id": "db3f8e06-b277-4125-a3a4-7045008a5285",
   "metadata": {},
   "source": [
    "* Corresponding SOLR JSON Query:\n",
    "\n",
    "```json\n",
    "{\n",
    "    \"q\": \"*:*\",\n",
    "    \"q.op\": \"OR\",\n",
    "    \"start\": 0,\n",
    "    \"rows\": \"5\",\n",
    "    \"fq\": [\n",
    "        \"metadata_status:Active\",\n",
    "        \"title:(ice)\",\n",
    "        \"collection:(ADC)\"\n",
    "    ]\n",
    "}\n",
    "```"
   ]
  },
  {
   "cell_type": "code",
   "execution_count": null,
   "id": "51e947dd-46b0-4d8a-acff-33fdae7e3e84",
   "metadata": {},
   "outputs": [],
   "source": [
    "%%writetemplate test_xml_query_anytext_on_field.xml\n",
    "<?xml version=\"1.0\" encoding=\"ISO-8859-1\" standalone=\"no\"?>\n",
    "<csw:GetRecords xmlns:apiso=\"http://www.opengis.net/cat/csw/apiso/1.0\" xmlns:csw=\"http://www.opengis.net/cat/csw/2.0.2\" xmlns:ogc=\"http://www.opengis.net/ogc\" service=\"CSW\" version=\"2.0.2\" resultType=\"results\" startPosition=\"1\" maxRecords=\"5\" outputFormat=\"application/xml\" outputSchema=\"http://www.isotc211.org/2005/gmd\" xmlns:xsi=\"http://www.w3.org/2001/XMLSchema-instance\" xsi:schemaLocation=\"http://www.opengis.net/cat/csw/2.0.2 http://schemas.opengis.net/csw/2.0.2/CSW-discovery.xsd\" xmlns:gml=\"http://www.opengis.net/gml\" xmlns:gmd=\"http://www.isotc211.org/2005/gmd\">\n",
    "    <csw:Query typeNames=\"gmd:MD_Metadata\">\n",
    "        <csw:ElementSetName>{ElementSetName}</csw:ElementSetName>\n",
    "        <csw:Constraint version=\"1.1.0\">\n",
    "            <ogc:Filter>\n",
    "                    <ogc:PropertyIsLike wildCard=\"*\" singleChar=\"?\" escapeChar=\"\\\\\" matchCase=\"false\">\n",
    "                        <ogc:PropertyName>dc:{field_to_query}</ogc:PropertyName>\n",
    "                        <ogc:Literal>{text_to_quey}</ogc:Literal>\n",
    "                    </ogc:PropertyIsLike>\n",
    "            </ogc:Filter>\n",
    "        </csw:Constraint>\n",
    "    </csw:Query>\n",
    "</csw:GetRecords>"
   ]
  },
  {
   "cell_type": "code",
   "execution_count": null,
   "id": "164bd674-3c72-4a42-b6f7-4386a0bb0ec7",
   "metadata": {},
   "outputs": [],
   "source": [
    "!curl -s -H \"Content-Type: text/xml\" -X POST -d @test_xml_query_anytext_on_field.xml {csw_test_endpoint} | grep -oP 'numberOfRecordsMatched=\"\\K[^\"]+'"
   ]
  },
  {
   "cell_type": "markdown",
   "id": "0155eb67-2c37-4c02-b6e1-f90fc192569e",
   "metadata": {},
   "source": [
    "## Group B"
   ]
  },
  {
   "cell_type": "markdown",
   "id": "3e6b7a19-5d52-454e-8b31-d5a067a496f2",
   "metadata": {},
   "source": [
    "### `anytext` **AND** `Time`"
   ]
  },
  {
   "cell_type": "markdown",
   "id": "b5fb18b3-31e8-4bca-8458-3702634bca93",
   "metadata": {},
   "source": [
    "* Corresponding SOLR JSON Query:\n",
    "\n",
    "```json\n",
    "{\n",
    "    \"q\": \"full_text:(ice)\",\n",
    "    \"q.op\": \"OR\",\n",
    "    \"start\": 0,\n",
    "    \"rows\": \"5\",\n",
    "    \"fq\": [\n",
    "        \"metadata_status:Active\",\n",
    "        \"temporal_extent_start_date:[2018-09-18T09:00:00Z TO *]\",\n",
    "        \"temporal_extent_end_date:[* TO 2020-10-18T09:00:00Z]\",\n",
    "        \"collection:(ADC)\"\n",
    "    ]\n",
    "}\n",
    "```"
   ]
  },
  {
   "cell_type": "code",
   "execution_count": null,
   "id": "01a62227-9258-4d9e-95a8-7d27857b49d9",
   "metadata": {},
   "outputs": [],
   "source": [
    "%%writetemplate test_xml_query_anytext_AND_time.xml\n",
    "<?xml version=\"1.0\" encoding=\"ISO-8859-1\" standalone=\"no\"?>\n",
    "<csw:GetRecords xmlns:apiso=\"http://www.opengis.net/cat/csw/apiso/1.0\" xmlns:csw=\"http://www.opengis.net/cat/csw/2.0.2\" xmlns:ogc=\"http://www.opengis.net/ogc\" service=\"CSW\" version=\"2.0.2\" resultType=\"results\" startPosition=\"1\" maxRecords=\"5\" outputFormat=\"application/xml\" outputSchema=\"http://www.isotc211.org/2005/gmd\" xmlns:xsi=\"http://www.w3.org/2001/XMLSchema-instance\" xsi:schemaLocation=\"http://www.opengis.net/cat/csw/2.0.2 http://schemas.opengis.net/csw/2.0.2/CSW-discovery.xsd\" xmlns:gml=\"http://www.opengis.net/gml\" xmlns:gmd=\"http://www.isotc211.org/2005/gmd\">\n",
    "    <csw:Query typeNames=\"gmd:MD_Metadata\">\n",
    "        <csw:ElementSetName>{ElementSetName}</csw:ElementSetName>\n",
    "        <csw:Constraint version=\"1.1.0\">\n",
    "            <ogc:Filter>\n",
    "                <ogc:And>\n",
    "                    <ogc:PropertyIsLike wildCard=\"*\" singleChar=\"?\" escapeChar=\"\\\\\" matchCase=\"false\">\n",
    "                        <ogc:PropertyName>apiso:AnyText</ogc:PropertyName>\n",
    "                        <ogc:Literal>{text_to_quey}</ogc:Literal>\n",
    "                    </ogc:PropertyIsLike>\n",
    "                    <ogc:PropertyIsLessThanOrEqualTo>\n",
    "                        <ogc:PropertyName>apiso:TempExtent_begin</ogc:PropertyName>\n",
    "                        <ogc:Literal>{end_time}</ogc:Literal>\n",
    "                    </ogc:PropertyIsLessThanOrEqualTo>\n",
    "                    <ogc:PropertyIsGreaterThanOrEqualTo>\n",
    "                        <ogc:PropertyName>apiso:TempExtent_end</ogc:PropertyName>\n",
    "                        <ogc:Literal>{start_time}</ogc:Literal>\n",
    "                    </ogc:PropertyIsGreaterThanOrEqualTo>\n",
    "                </ogc:And>\n",
    "            </ogc:Filter>\n",
    "        </csw:Constraint>\n",
    "    </csw:Query>\n",
    "</csw:GetRecords>"
   ]
  },
  {
   "cell_type": "code",
   "execution_count": null,
   "id": "ab1c827d-e1b4-4335-aad7-826cc76c30ac",
   "metadata": {},
   "outputs": [],
   "source": [
    "!curl -s -H \"Content-Type: text/xml\" -X POST -d @test_xml_query_anytext_AND_time.xml {csw_test_endpoint} | grep -oP 'numberOfRecordsMatched=\"\\K[^\"]+'"
   ]
  },
  {
   "cell_type": "markdown",
   "id": "ea156050-49aa-40fa-aac9-0b909b3f0fc1",
   "metadata": {},
   "source": [
    "### `anytext` **AND** `BBOX`\n"
   ]
  },
  {
   "cell_type": "markdown",
   "id": "180ca73e-d3e1-47a4-b4a1-1d2973e84219",
   "metadata": {},
   "source": [
    "* Corresponding SOLR JSON Query:\n",
    "\n",
    "```json\n",
    "{\n",
    "    \"q\": \"full_text:(ice)\",\n",
    "    \"q.op\": \"OR\",\n",
    "    \"start\": 0,\n",
    "    \"rows\": \"5\",\n",
    "    \"fq\": [\n",
    "        \"metadata_status:Active\",\n",
    "        \"{!field f=bbox score=overlapRatio}Within(ENVELOPE(60.0,90.0,180.0,0.0))\",\n",
    "        \"collection:(ADC)\"\n",
    "    ]\n",
    "}\n",
    "```"
   ]
  },
  {
   "cell_type": "code",
   "execution_count": null,
   "id": "ca5622da-741c-43e9-9703-ef5d0b41eefd",
   "metadata": {},
   "outputs": [],
   "source": [
    "%%writetemplate test_xml_query_anytext_AND_BBOX.xml\n",
    "<?xml version=\"1.0\" encoding=\"ISO-8859-1\" standalone=\"no\"?>\n",
    "<csw:GetRecords xmlns:apiso=\"http://www.opengis.net/cat/csw/apiso/1.0\" xmlns:csw=\"http://www.opengis.net/cat/csw/2.0.2\" xmlns:ogc=\"http://www.opengis.net/ogc\" service=\"CSW\" version=\"2.0.2\" resultType=\"results\" startPosition=\"1\" maxRecords=\"5\" outputFormat=\"application/xml\" outputSchema=\"http://www.isotc211.org/2005/gmd\" xmlns:xsi=\"http://www.w3.org/2001/XMLSchema-instance\" xsi:schemaLocation=\"http://www.opengis.net/cat/csw/2.0.2 http://schemas.opengis.net/csw/2.0.2/CSW-discovery.xsd\" xmlns:gml=\"http://www.opengis.net/gml\" xmlns:gmd=\"http://www.isotc211.org/2005/gmd\">\n",
    "    <csw:Query typeNames=\"gmd:MD_Metadata\">\n",
    "        <csw:ElementSetName>{ElementSetName}</csw:ElementSetName>\n",
    "        <csw:Constraint version=\"1.1.0\">\n",
    "            <ogc:Filter>\n",
    "                <ogc:And>\n",
    "                    <ogc:PropertyIsLike wildCard=\"*\" singleChar=\"?\" escapeChar=\"\\\\\" matchCase=\"false\">\n",
    "                        <ogc:PropertyName>apiso:AnyText</ogc:PropertyName>\n",
    "                        <ogc:Literal>{text_to_quey}</ogc:Literal>\n",
    "                    </ogc:PropertyIsLike>\n",
    "                    <ogc:BBOX>\n",
    "                        <ogc:PropertyName>apiso:BoundingBox</ogc:PropertyName>\n",
    "                            <gml:Envelope>\n",
    "                                <gml:lowerCorner>{lowerCorner}</gml:lowerCorner>\n",
    "                                <gml:upperCorner>{upperCorner}</gml:upperCorner>\n",
    "                            </gml:Envelope>\n",
    "                    </ogc:BBOX>\n",
    "                </ogc:And>\n",
    "            </ogc:Filter>\n",
    "        </csw:Constraint>\n",
    "    </csw:Query>\n",
    "</csw:GetRecords>"
   ]
  },
  {
   "cell_type": "code",
   "execution_count": null,
   "id": "f4746b80-2b86-4b02-89e5-4ee136485c85",
   "metadata": {},
   "outputs": [],
   "source": [
    "!curl -s -H \"Content-Type: text/xml\" -X POST -d @test_xml_query_anytext_AND_BBOX.xml {csw_test_endpoint} | grep -oP 'numberOfRecordsMatched=\"\\K[^\"]+'"
   ]
  },
  {
   "cell_type": "markdown",
   "id": "9e5472bf-84a6-4ab7-be92-426ab4e59de2",
   "metadata": {},
   "source": [
    "### `anytext` **AND** `Time` **AND** `BBOX`"
   ]
  },
  {
   "cell_type": "markdown",
   "id": "475b28a0-c9b3-4d30-b4e3-3b14d077e100",
   "metadata": {},
   "source": [
    "* Corresponding SOLR JSON Query:\n",
    "\n",
    "```json\n",
    "{\n",
    "    \"q\": \"full_text:(ice)\",\n",
    "    \"q.op\": \"OR\",\n",
    "    \"start\": 0,\n",
    "    \"rows\": \"5\",\n",
    "    \"fq\": [\n",
    "        \"metadata_status:Active\",\n",
    "        \"{!field f=bbox score=overlapRatio}Within(ENVELOPE(60.0,90.0,180.0,0.0))\",\n",
    "        \"temporal_extent_start_date:[2018-09-18T09:00:00Z TO *]\",\n",
    "        \"temporal_extent_end_date:[* TO 2020-10-18T09:00:00Z]\",\n",
    "        \"collection:(ADC)\"\n",
    "    ]\n",
    "}\n",
    "```"
   ]
  },
  {
   "cell_type": "code",
   "execution_count": null,
   "id": "c25aaf95-fb5c-458c-8af5-f617b33b2cf9",
   "metadata": {},
   "outputs": [],
   "source": [
    "%%writetemplate test_xml_query_anytext_AND_time_AND_BBOX.xml\n",
    "<?xml version=\"1.0\" encoding=\"ISO-8859-1\" standalone=\"no\"?>\n",
    "<csw:GetRecords xmlns:apiso=\"http://www.opengis.net/cat/csw/apiso/1.0\" xmlns:csw=\"http://www.opengis.net/cat/csw/2.0.2\" xmlns:ogc=\"http://www.opengis.net/ogc\" service=\"CSW\" version=\"2.0.2\" resultType=\"results\" startPosition=\"1\" maxRecords=\"5\" outputFormat=\"application/xml\" outputSchema=\"http://www.isotc211.org/2005/gmd\" xmlns:xsi=\"http://www.w3.org/2001/XMLSchema-instance\" xsi:schemaLocation=\"http://www.opengis.net/cat/csw/2.0.2 http://schemas.opengis.net/csw/2.0.2/CSW-discovery.xsd\" xmlns:gml=\"http://www.opengis.net/gml\" xmlns:gmd=\"http://www.isotc211.org/2005/gmd\">\n",
    "    <csw:Query typeNames=\"gmd:MD_Metadata\">\n",
    "        <csw:ElementSetName>{ElementSetName}</csw:ElementSetName>\n",
    "        <csw:Constraint version=\"1.1.0\">\n",
    "            <ogc:Filter>\n",
    "                <ogc:And>\n",
    "                    <ogc:PropertyIsLike wildCard=\"*\" singleChar=\"?\" escapeChar=\"\\\\\" matchCase=\"false\">\n",
    "                        <ogc:PropertyName>apiso:AnyText</ogc:PropertyName>\n",
    "                        <ogc:Literal>{text_to_quey}</ogc:Literal>\n",
    "                    </ogc:PropertyIsLike>\n",
    "                    <ogc:BBOX>\n",
    "                        <ogc:PropertyName>apiso:BoundingBox</ogc:PropertyName>\n",
    "                        <gml:Envelope>\n",
    "                            <gml:lowerCorner>{lowerCorner}</gml:lowerCorner>\n",
    "                            <gml:upperCorner>{upperCorner}</gml:upperCorner>\n",
    "                        </gml:Envelope>\n",
    "                    </ogc:BBOX>\n",
    "                    <ogc:PropertyIsLessThanOrEqualTo>\n",
    "                        <ogc:PropertyName>apiso:TempExtent_begin</ogc:PropertyName>\n",
    "                        <ogc:Literal>{end_time}</ogc:Literal>\n",
    "                    </ogc:PropertyIsLessThanOrEqualTo>\n",
    "                    <ogc:PropertyIsGreaterThanOrEqualTo>\n",
    "                        <ogc:PropertyName>apiso:TempExtent_end</ogc:PropertyName>\n",
    "                        <ogc:Literal>{start_time}</ogc:Literal>\n",
    "                    </ogc:PropertyIsGreaterThanOrEqualTo>\n",
    "                </ogc:And>\n",
    "            </ogc:Filter>\n",
    "        </csw:Constraint>\n",
    "    </csw:Query>\n",
    "</csw:GetRecords>"
   ]
  },
  {
   "cell_type": "code",
   "execution_count": null,
   "id": "9fe7fecd-90a1-400a-a020-9fa7abad5e4b",
   "metadata": {},
   "outputs": [],
   "source": [
    "!curl -s -H \"Content-Type: text/xml\" -X POST -d @test_xml_query_anytext_AND_time_AND_BBOX.xml {csw_test_endpoint} | grep -oP 'numberOfRecordsMatched=\"\\K[^\"]+'"
   ]
  },
  {
   "cell_type": "markdown",
   "id": "5e295d32-2c4f-4b29-8d75-2de85f19b354",
   "metadata": {},
   "source": [
    "## Group C"
   ]
  },
  {
   "cell_type": "markdown",
   "id": "1000fbad-748c-4e69-93a5-433673a9e983",
   "metadata": {},
   "source": [
    "### `anytext` *on field*  **AND** `Time`"
   ]
  },
  {
   "cell_type": "markdown",
   "id": "9f7bf3c3-03ac-4a39-bdb8-9de5f28cc6e0",
   "metadata": {},
   "source": [
    "* Corresponding SOLR JSON Query:\n",
    "\n",
    "```json\n",
    "{\n",
    "    \"q\": \"*:*\",\n",
    "    \"q.op\": \"OR\",\n",
    "    \"start\": 0,\n",
    "    \"rows\": \"5\",\n",
    "    \"fq\": [\n",
    "        \"metadata_status:Active\",\n",
    "        \"title:(ice)\",\n",
    "        \"temporal_extent_start_date:[2018-09-18T09:00:00Z TO *]\",\n",
    "        \"temporal_extent_end_date:[* TO 2020-10-18T09:00:00Z]\",\n",
    "        \"collection:(ADC)\"\n",
    "    ]\n",
    "}\n",
    "```"
   ]
  },
  {
   "cell_type": "code",
   "execution_count": null,
   "id": "de317953-76af-4973-a6b7-b65ea6990082",
   "metadata": {},
   "outputs": [],
   "source": [
    "%%writetemplate test_xml_query_anytext_on_field_AND_time.xml\n",
    "<?xml version=\"1.0\" encoding=\"ISO-8859-1\" standalone=\"no\"?>\n",
    "<csw:GetRecords xmlns:apiso=\"http://www.opengis.net/cat/csw/apiso/1.0\" xmlns:csw=\"http://www.opengis.net/cat/csw/2.0.2\" xmlns:ogc=\"http://www.opengis.net/ogc\" service=\"CSW\" version=\"2.0.2\" resultType=\"results\" startPosition=\"1\" maxRecords=\"5\" outputFormat=\"application/xml\" outputSchema=\"http://www.isotc211.org/2005/gmd\" xmlns:xsi=\"http://www.w3.org/2001/XMLSchema-instance\" xsi:schemaLocation=\"http://www.opengis.net/cat/csw/2.0.2 http://schemas.opengis.net/csw/2.0.2/CSW-discovery.xsd\" xmlns:gml=\"http://www.opengis.net/gml\" xmlns:gmd=\"http://www.isotc211.org/2005/gmd\">\n",
    "    <csw:Query typeNames=\"gmd:MD_Metadata\">\n",
    "        <csw:ElementSetName>{ElementSetName}</csw:ElementSetName>\n",
    "        <csw:Constraint version=\"1.1.0\">\n",
    "            <ogc:Filter>\n",
    "                <ogc:And>\n",
    "                    <ogc:PropertyIsLike wildCard=\"*\" singleChar=\"?\" escapeChar=\"\\\\\" matchCase=\"false\">\n",
    "                        <ogc:PropertyName>dc:{field_to_query}</ogc:PropertyName>\n",
    "                        <ogc:Literal>{text_to_quey}</ogc:Literal>\n",
    "                    </ogc:PropertyIsLike>\n",
    "                    <ogc:PropertyIsLessThanOrEqualTo>\n",
    "                        <ogc:PropertyName>apiso:TempExtent_begin</ogc:PropertyName>\n",
    "                        <ogc:Literal>{end_time}</ogc:Literal>\n",
    "                    </ogc:PropertyIsLessThanOrEqualTo>\n",
    "                    <ogc:PropertyIsGreaterThanOrEqualTo>\n",
    "                        <ogc:PropertyName>apiso:TempExtent_end</ogc:PropertyName>\n",
    "                        <ogc:Literal>{start_time}</ogc:Literal>\n",
    "                    </ogc:PropertyIsGreaterThanOrEqualTo>\n",
    "                </ogc:And>\n",
    "            </ogc:Filter>\n",
    "        </csw:Constraint>\n",
    "    </csw:Query>\n",
    "</csw:GetRecords>"
   ]
  },
  {
   "cell_type": "code",
   "execution_count": null,
   "id": "73525be8-58fc-4226-94d0-aa73d4525125",
   "metadata": {},
   "outputs": [],
   "source": [
    "!curl -s -H \"Content-Type: text/xml\" -X POST -d @test_xml_query_anytext_on_field_AND_time.xml {csw_test_endpoint}  | grep -oP 'numberOfRecordsMatched=\"\\K[^\"]+'"
   ]
  },
  {
   "cell_type": "markdown",
   "id": "594f4263-848d-4c3e-a2f8-9d2e54646fc4",
   "metadata": {},
   "source": [
    "### `anytext` *on field*  **AND** `BBOX`"
   ]
  },
  {
   "cell_type": "markdown",
   "id": "95812ba8-1604-40b3-a6d3-85d8aeaf62db",
   "metadata": {},
   "source": [
    "* Corresponding SOLR JSON Query:\n",
    "\n",
    "```json\n",
    "{\n",
    "    \"q\": \"*:*\",\n",
    "    \"q.op\": \"OR\",\n",
    "    \"start\": 0,\n",
    "    \"rows\": \"5\",\n",
    "    \"fq\": [\n",
    "        \"metadata_status:Active\",\n",
    "        \"title:(ice)\",\n",
    "        \"{!field f=bbox score=overlapRatio}Within(ENVELOPE(60.0,90.0,180.0,0.0))\",\n",
    "        \"collection:(ADC)\"\n",
    "    ]\n",
    "}\n",
    "```"
   ]
  },
  {
   "cell_type": "code",
   "execution_count": null,
   "id": "29afb534-2428-49ab-8978-df9c6adf126a",
   "metadata": {},
   "outputs": [],
   "source": [
    "%%writetemplate test_xml_query_anytext_on_field_AND_BBOX.xml\n",
    "<?xml version=\"1.0\" encoding=\"ISO-8859-1\" standalone=\"no\"?>\n",
    "<csw:GetRecords xmlns:apiso=\"http://www.opengis.net/cat/csw/apiso/1.0\" xmlns:csw=\"http://www.opengis.net/cat/csw/2.0.2\" xmlns:ogc=\"http://www.opengis.net/ogc\" service=\"CSW\" version=\"2.0.2\" resultType=\"results\" startPosition=\"1\" maxRecords=\"5\" outputFormat=\"application/xml\" outputSchema=\"http://www.isotc211.org/2005/gmd\" xmlns:xsi=\"http://www.w3.org/2001/XMLSchema-instance\" xsi:schemaLocation=\"http://www.opengis.net/cat/csw/2.0.2 http://schemas.opengis.net/csw/2.0.2/CSW-discovery.xsd\" xmlns:gml=\"http://www.opengis.net/gml\" xmlns:gmd=\"http://www.isotc211.org/2005/gmd\">\n",
    "    <csw:Query typeNames=\"gmd:MD_Metadata\">\n",
    "        <csw:ElementSetName>full</csw:ElementSetName>\n",
    "        <csw:Constraint version=\"1.1.0\">\n",
    "            <ogc:Filter>\n",
    "                <ogc:And>\n",
    "                    <ogc:PropertyIsLike wildCard=\"*\" singleChar=\"?\" escapeChar=\"\\\\\" matchCase=\"false\">\n",
    "                        <ogc:PropertyName>dc:{field_to_query}</ogc:PropertyName>\n",
    "                        <ogc:Literal>{text_to_quey}</ogc:Literal>\n",
    "                    </ogc:PropertyIsLike>\n",
    "                    <ogc:BBOX>\n",
    "                        <ogc:PropertyName>apiso:BoundingBox</ogc:PropertyName>\n",
    "                            <gml:Envelope>\n",
    "                                <gml:lowerCorner>{lowerCorner}</gml:lowerCorner>\n",
    "                                <gml:upperCorner>{upperCorner}</gml:upperCorner>\n",
    "                            </gml:Envelope>\n",
    "                    </ogc:BBOX>\n",
    "                </ogc:And>\n",
    "            </ogc:Filter>\n",
    "        </csw:Constraint>\n",
    "    </csw:Query>\n",
    "</csw:GetRecords>"
   ]
  },
  {
   "cell_type": "code",
   "execution_count": null,
   "id": "34406798-5dd5-4335-8afc-c289dfc2e6fc",
   "metadata": {},
   "outputs": [],
   "source": [
    "!curl -s -H \"Content-Type: text/xml\" -X POST -d @test_xml_query_anytext_on_field_AND_BBOX.xml {csw_test_endpoint} | grep -oP 'numberOfRecordsMatched=\"\\K[^\"]+'"
   ]
  },
  {
   "cell_type": "markdown",
   "id": "88c41576-50e7-49a3-961d-e25338ceb614",
   "metadata": {},
   "source": [
    "### `anytext` *on field* **AND** `Time` **AND** `BBOX`"
   ]
  },
  {
   "cell_type": "markdown",
   "id": "065e01af-d312-4a08-ba4e-312c730dd9f3",
   "metadata": {},
   "source": [
    "* Corresponding SOLR JSON Query:\n",
    "\n",
    "```json\n",
    "{\n",
    "    \"q\": \"*:*\",\n",
    "    \"q.op\": \"OR\",\n",
    "    \"start\": 0,\n",
    "    \"rows\": \"5\",\n",
    "    \"fq\": [\n",
    "        \"metadata_status:Active\",\n",
    "        \"title:(ice)\",\n",
    "        \"{!field f=bbox score=overlapRatio}Within(ENVELOPE(60.0,90.0,180.0,0.0))\",\n",
    "        \"temporal_extent_start_date:[2018-09-18T09:00:00Z TO *]\",\n",
    "        \"temporal_extent_end_date:[* TO 2020-10-18T09:00:00Z]\",\n",
    "        \"collection:(ADC)\"\n",
    "    ]\n",
    "}\n",
    "```"
   ]
  },
  {
   "cell_type": "code",
   "execution_count": null,
   "id": "0685c4d6-57a5-4fd8-bb4f-4a4f594a805f",
   "metadata": {},
   "outputs": [],
   "source": [
    "%%writetemplate test_xml_query_anytext_on_field_AND_Time_AND_BBOX.xml\n",
    "<?xml version=\"1.0\" encoding=\"ISO-8859-1\" standalone=\"no\"?>\n",
    "<csw:GetRecords xmlns:apiso=\"http://www.opengis.net/cat/csw/apiso/1.0\" xmlns:csw=\"http://www.opengis.net/cat/csw/2.0.2\" xmlns:ogc=\"http://www.opengis.net/ogc\" service=\"CSW\" version=\"2.0.2\" resultType=\"results\" startPosition=\"1\" maxRecords=\"5\" outputFormat=\"application/xml\" outputSchema=\"http://www.isotc211.org/2005/gmd\" xmlns:xsi=\"http://www.w3.org/2001/XMLSchema-instance\" xsi:schemaLocation=\"http://www.opengis.net/cat/csw/2.0.2 http://schemas.opengis.net/csw/2.0.2/CSW-discovery.xsd\" xmlns:gml=\"http://www.opengis.net/gml\" xmlns:gmd=\"http://www.isotc211.org/2005/gmd\">\n",
    "    <csw:Query typeNames=\"gmd:MD_Metadata\">\n",
    "        <csw:ElementSetName>{ElementSetName}</csw:ElementSetName>\n",
    "        <csw:Constraint version=\"1.1.0\">\n",
    "            <ogc:Filter>\n",
    "                <ogc:And>\n",
    "                    <ogc:PropertyIsLike wildCard=\"*\" singleChar=\"?\" escapeChar=\"\\\\\" matchCase=\"false\">\n",
    "                        <ogc:PropertyName>dc:{field_to_query}</ogc:PropertyName>\n",
    "                        <ogc:Literal>{text_to_quey}</ogc:Literal>\n",
    "                    </ogc:PropertyIsLike>\n",
    "                    <ogc:BBOX>\n",
    "                        <ogc:PropertyName>apiso:BoundingBox</ogc:PropertyName>\n",
    "                            <gml:Envelope>\n",
    "                                <gml:lowerCorner>{lowerCorner}</gml:lowerCorner>\n",
    "                                <gml:upperCorner>{upperCorner}</gml:upperCorner>\n",
    "                            </gml:Envelope>\n",
    "                    </ogc:BBOX>\n",
    "                    <ogc:PropertyIsLessThanOrEqualTo>\n",
    "                        <ogc:PropertyName>apiso:TempExtent_begin</ogc:PropertyName>\n",
    "                        <ogc:Literal>{end_time}</ogc:Literal>\n",
    "                    </ogc:PropertyIsLessThanOrEqualTo>\n",
    "                    <ogc:PropertyIsGreaterThanOrEqualTo>\n",
    "                        <ogc:PropertyName>apiso:TempExtent_end</ogc:PropertyName>\n",
    "                        <ogc:Literal>{start_time}</ogc:Literal>\n",
    "                    </ogc:PropertyIsGreaterThanOrEqualTo>\n",
    "                </ogc:And>\n",
    "            </ogc:Filter>\n",
    "        </csw:Constraint>\n",
    "    </csw:Query>\n",
    "</csw:GetRecords>"
   ]
  },
  {
   "cell_type": "code",
   "execution_count": null,
   "id": "36480e82-e959-4015-90ae-f146cc464390",
   "metadata": {},
   "outputs": [],
   "source": [
    "!curl -s -H \"Content-Type: text/xml\" -X POST -d @test_xml_query_anytext_on_field_AND_Time_AND_BBOX.xml {csw_test_endpoint} | grep -oP 'numberOfRecordsMatched=\"\\K[^\"]+'"
   ]
  },
  {
   "cell_type": "markdown",
   "id": "0cae6683-c605-4d7f-8d1e-187d977bd89b",
   "metadata": {},
   "source": [
    "## Group D"
   ]
  },
  {
   "cell_type": "markdown",
   "id": "d382f8e7-4d50-464e-9bfc-eebecbceeb5f",
   "metadata": {},
   "source": [
    "### `Time` **AND** `BBOX`"
   ]
  },
  {
   "cell_type": "markdown",
   "id": "073afbba-5f7c-47c2-9bb5-c75336f2bd0a",
   "metadata": {},
   "source": [
    "* Corresponding SOLR JSON Query:\n",
    "\n",
    "```json\n",
    "{\n",
    "    \"q\": \"*:*\",\n",
    "    \"q.op\": \"OR\",\n",
    "    \"start\": 0,\n",
    "    \"rows\": \"5\",\n",
    "    \"fq\": [\n",
    "        \"metadata_status:Active\",\n",
    "        \"{!field f=bbox score=overlapRatio}Within(ENVELOPE(60.0,90.0,180.0,0.0))\",\n",
    "        \"temporal_extent_start_date:[2018-09-18T09:00:00Z TO *]\",\n",
    "        \"temporal_extent_end_date:[* TO 2020-10-18T09:00:00Z]\",\n",
    "        \"collection:(ADC)\"\n",
    "    ]\n",
    "}\n",
    "```"
   ]
  },
  {
   "cell_type": "code",
   "execution_count": null,
   "id": "48d74090-2533-476f-a581-91f380df1cf2",
   "metadata": {},
   "outputs": [],
   "source": [
    "%%writetemplate test_xml_query_Time_AND_BBOX.xml\n",
    "<?xml version=\"1.0\" encoding=\"ISO-8859-1\" standalone=\"no\"?>\n",
    "<csw:GetRecords xmlns:apiso=\"http://www.opengis.net/cat/csw/apiso/1.0\" xmlns:csw=\"http://www.opengis.net/cat/csw/2.0.2\" xmlns:ogc=\"http://www.opengis.net/ogc\" service=\"CSW\" version=\"2.0.2\" resultType=\"results\" startPosition=\"1\" maxRecords=\"5\" outputFormat=\"application/xml\" outputSchema=\"http://www.isotc211.org/2005/gmd\" xmlns:xsi=\"http://www.w3.org/2001/XMLSchema-instance\" xsi:schemaLocation=\"http://www.opengis.net/cat/csw/2.0.2 http://schemas.opengis.net/csw/2.0.2/CSW-discovery.xsd\" xmlns:gml=\"http://www.opengis.net/gml\" xmlns:gmd=\"http://www.isotc211.org/2005/gmd\">\n",
    "    <csw:Query typeNames=\"gmd:MD_Metadata\">\n",
    "        <csw:ElementSetName>{ElementSetName}</csw:ElementSetName>\n",
    "        <csw:Constraint version=\"1.1.0\">\n",
    "            <ogc:Filter>\n",
    "                <ogc:And>\n",
    "                    <ogc:BBOX>\n",
    "                        <ogc:PropertyName>apiso:BoundingBox</ogc:PropertyName>\n",
    "                            <gml:Envelope>\n",
    "                                <gml:lowerCorner>{lowerCorner}</gml:lowerCorner>\n",
    "                                <gml:upperCorner>{upperCorner}</gml:upperCorner>\n",
    "                            </gml:Envelope>\n",
    "                    </ogc:BBOX>\n",
    "                    <ogc:PropertyIsLessThanOrEqualTo>\n",
    "                        <ogc:PropertyName>apiso:TempExtent_begin</ogc:PropertyName>\n",
    "                        <ogc:Literal>{end_time}</ogc:Literal>\n",
    "                    </ogc:PropertyIsLessThanOrEqualTo>\n",
    "                    <ogc:PropertyIsGreaterThanOrEqualTo>\n",
    "                        <ogc:PropertyName>apiso:TempExtent_end</ogc:PropertyName>\n",
    "                        <ogc:Literal>{start_time}</ogc:Literal>\n",
    "                    </ogc:PropertyIsGreaterThanOrEqualTo>\n",
    "                </ogc:And>\n",
    "            </ogc:Filter>\n",
    "        </csw:Constraint>\n",
    "    </csw:Query>\n",
    "</csw:GetRecords>"
   ]
  },
  {
   "cell_type": "code",
   "execution_count": null,
   "id": "793e1f5b-622a-4f9b-a21b-bc44b5d7e4e8",
   "metadata": {},
   "outputs": [],
   "source": [
    "!curl -s -H \"Content-Type: text/xml\" -X POST -d @test_xml_query_Time_AND_BBOX.xml {csw_test_endpoint} | grep -oP 'numberOfRecordsMatched=\"\\K[^\"]+'"
   ]
  },
  {
   "cell_type": "markdown",
   "id": "91633c64-6673-4354-bf6a-f87482396511",
   "metadata": {},
   "source": [
    "# Note\n",
    "\n",
    "\n",
    "\n",
    "## PropertyIsEqualTo vs PropertyIsEqualTo\n",
    "\n",
    "* Anytext can be used with `PropertyIsLike` or `PropertyIsEqualTo`\n",
    "  when using `PropertyIsEqualTo` it requires `PropertyName` to be set:\n",
    "\n",
    "  ```xml\n",
    "              <ogc:PropertyIsEqualTo>\n",
    "               <ogc:PropertyName>dc:{field_to_query}</ogc:PropertyName>\n",
    "               <ogc:Literal>{text_to_quey}</ogc:Literal>\n",
    "            </ogc:PropertyIsEqualTo>\n",
    "  ```"
   ]
  },
  {
   "cell_type": "code",
   "execution_count": null,
   "id": "f1be3230-7dd5-4d42-905e-e67a77b1d6c5",
   "metadata": {},
   "outputs": [],
   "source": [
    "%%writetemplate test_xml_query_anytext_ofield_equal_to.xml\n",
    "<?xml version=\"1.0\" encoding=\"UTF-8\"?>\n",
    "<csw:GetRecords xmlns:csw=\"http://www.opengis.net/cat/csw/2.0.2\"\n",
    "               xmlns:ogc=\"http://www.opengis.net/ogc\"\n",
    "               xmlns:gml=\"http://www.opengis.net/gml\"\n",
    "               xmlns:ogc_filter=\"urn:x-ogc:def:filter:OGC:1.0:equals\"\n",
    "               service=\"CSW\" version=\"2.0.2\"\n",
    "               resultType=\"results\" startPosition=\"1\" maxRecords=\"10\">\n",
    "   <csw:Query typeNames=\"csw:Record\">\n",
    "      <csw:ElementSetName>{ElementSetName}</csw:ElementSetName>\n",
    "      <csw:Constraint version=\"1.1.0\">\n",
    "         <ogc:Filter>\n",
    "            <ogc:PropertyIsEqualTo>\n",
    "               <ogc:PropertyName>dc:{field_to_query}</ogc:PropertyName>\n",
    "               <ogc:Literal>{text_to_quey}</ogc:Literal>\n",
    "            </ogc:PropertyIsEqualTo>\n",
    "         </ogc:Filter>\n",
    "      </csw:Constraint>\n",
    "   </csw:Query>\n",
    "</csw:GetRecords>"
   ]
  },
  {
   "cell_type": "code",
   "execution_count": null,
   "id": "a95a0428-36ec-44f6-b940-715a418cb17b",
   "metadata": {},
   "outputs": [],
   "source": [
    "!curl -s -H \"Content-Type: text/xml\" -X POST -d @test_xml_query_anytext_ofield_equal_to.xml {csw_test_endpoint} | grep -oP 'numberOfRecordsMatched=\"\\K[^\"]+'"
   ]
  },
  {
   "cell_type": "markdown",
   "id": "4c0368bc-ce8e-4740-b69d-5abfe1a29d66",
   "metadata": {},
   "source": [
    "## OR Query \n",
    "OR query inside AND are not 'yet' supported, however, the case is identified in the code\n",
    "I added few debug statments to detect such conditions\n",
    "It could be useful to identify multiple TIME and BBOX query\n",
    "At the moment if a multiple BBOX/TIME is provided the code will silently IGNORE such constraint"
   ]
  },
  {
   "cell_type": "markdown",
   "id": "dc2ebf7f-6f71-453a-b961-0e5f877b577a",
   "metadata": {},
   "source": [
    "One more query from Lassi:\n",
    "\n",
    "If I send a query with this Filter, which selects records from certain area and containing text 'area' in title:\n",
    "\n",
    "\n"
   ]
  },
  {
   "cell_type": "markdown",
   "id": "6b056075-e1e8-4db3-96d6-becf228e5a68",
   "metadata": {},
   "source": [
    "* Corresponding SOLR JSON Query:\n",
    "\n",
    "```json\n",
    "{\n",
    "    \"q\": \"(title:temperature && _query_:\\\"{!field f=bbox score=overlapRatio}Within(ENVELOPE(60.0,90.0,180.0,0.0))\\\") OR (title:area && _query_:\\\"{!field f=bbox score=overlapRatio}Within(ENVELOPE(60.0,90.0,180.0,0.0))\\\")\",\n",
    "    \"q.op\": \"OR\",\n",
    "    \"start\": 0,\n",
    "    \"rows\": \"5\",\n",
    "    \"fq\": [\n",
    "        \"metadata_status:Active\",\n",
    "        \"collection:(ADC)\"\n",
    "    ]\n",
    "}\n",
    "```"
   ]
  },
  {
   "cell_type": "code",
   "execution_count": null,
   "id": "c8e776fb-9cd2-4bbc-a724-53ce9dbee41a",
   "metadata": {
    "tags": []
   },
   "outputs": [],
   "source": [
    "%%writetemplate test_xml_query_anytext_on_field_AND_BBOX_OR_testing_1.xml\n",
    "<?xml version=\"1.0\" encoding=\"ISO-8859-1\" standalone=\"no\"?>\n",
    "<csw:GetRecords xmlns:apiso=\"http://www.opengis.net/cat/csw/apiso/1.0\" xmlns:csw=\"http://www.opengis.net/cat/csw/2.0.2\" xmlns:ogc=\"http://www.opengis.net/ogc\" service=\"CSW\" version=\"2.0.2\" resultType=\"results\" startPosition=\"1\" maxRecords=\"5\" outputFormat=\"application/xml\" outputSchema=\"http://www.isotc211.org/2005/gmd\" xmlns:xsi=\"http://www.w3.org/2001/XMLSchema-instance\" xsi:schemaLocation=\"http://www.opengis.net/cat/csw/2.0.2 http://schemas.opengis.net/csw/2.0.2/CSW-discovery.xsd\" xmlns:gml=\"http://www.opengis.net/gml\" xmlns:gmd=\"http://www.isotc211.org/2005/gmd\">\n",
    "    <csw:Query typeNames=\"gmd:MD_Metadata\">\n",
    "        <csw:ElementSetName>full</csw:ElementSetName>\n",
    "        <csw:Constraint version=\"1.1.0\">\n",
    "            <ogc:Filter>\n",
    "                <ogc:And>\n",
    "                    <ogc:PropertyIsLike wildCard=\"*\" singleChar=\"?\" escapeChar=\"\\\\\" matchCase=\"false\">\n",
    "                        <ogc:PropertyName>dc:{field_to_query}</ogc:PropertyName>\n",
    "                        <ogc:Literal>area</ogc:Literal>\n",
    "                    </ogc:PropertyIsLike>\n",
    "                    <ogc:BBOX>\n",
    "                        <ogc:PropertyName>apiso:BoundingBox</ogc:PropertyName>\n",
    "                            <gml:Envelope>\n",
    "                                <gml:lowerCorner>{lowerCorner}</gml:lowerCorner>\n",
    "                                <gml:upperCorner>{upperCorner}</gml:upperCorner>\n",
    "                            </gml:Envelope>\n",
    "                    </ogc:BBOX>\n",
    "                </ogc:And>\n",
    "            </ogc:Filter>\n",
    "        </csw:Constraint>\n",
    "    </csw:Query>\n",
    "</csw:GetRecords>"
   ]
  },
  {
   "cell_type": "code",
   "execution_count": null,
   "id": "78c4945e-145f-447f-84f8-7669587717f4",
   "metadata": {
    "tags": []
   },
   "outputs": [],
   "source": [
    "!curl -s -H \"Content-Type: text/xml\" -X POST -d @test_xml_query_anytext_on_field_AND_BBOX_OR_testing_1.xml {csw_test_endpoint}  | grep -oP 'numberOfRecordsMatched=\"\\K[^\"]+'"
   ]
  },
  {
   "cell_type": "markdown",
   "id": "3ca348af-ed4d-45bd-a7c2-cbeee7733b6b",
   "metadata": {},
   "source": [
    "\n",
    "... I get back 1 record.\n",
    "\n",
    "If I do the same with text 'temperature':"
   ]
  },
  {
   "cell_type": "code",
   "execution_count": null,
   "id": "b87532f7-ad52-4896-9b9a-1d8d5744c4de",
   "metadata": {
    "tags": []
   },
   "outputs": [],
   "source": [
    "%%writetemplate test_xml_query_anytext_on_field_AND_BBOX_OR_testing_2.xml\n",
    "<?xml version=\"1.0\" encoding=\"ISO-8859-1\" standalone=\"no\"?>\n",
    "<csw:GetRecords xmlns:apiso=\"http://www.opengis.net/cat/csw/apiso/1.0\" xmlns:csw=\"http://www.opengis.net/cat/csw/2.0.2\" xmlns:ogc=\"http://www.opengis.net/ogc\" service=\"CSW\" version=\"2.0.2\" resultType=\"results\" startPosition=\"1\" maxRecords=\"5\" outputFormat=\"application/xml\" outputSchema=\"http://www.isotc211.org/2005/gmd\" xmlns:xsi=\"http://www.w3.org/2001/XMLSchema-instance\" xsi:schemaLocation=\"http://www.opengis.net/cat/csw/2.0.2 http://schemas.opengis.net/csw/2.0.2/CSW-discovery.xsd\" xmlns:gml=\"http://www.opengis.net/gml\" xmlns:gmd=\"http://www.isotc211.org/2005/gmd\">\n",
    "    <csw:Query typeNames=\"gmd:MD_Metadata\">\n",
    "        <csw:ElementSetName>brief</csw:ElementSetName>\n",
    "        <csw:Constraint version=\"1.1.0\">\n",
    "            <ogc:Filter>\n",
    "                <ogc:And>\n",
    "                    <ogc:PropertyIsLike wildCard=\"*\" singleChar=\"?\" escapeChar=\"\\\\\" matchCase=\"false\">\n",
    "                        <ogc:PropertyName>dc:{field_to_query}</ogc:PropertyName>\n",
    "                        <ogc:Literal>temperature</ogc:Literal>\n",
    "                    </ogc:PropertyIsLike>\n",
    "                    <ogc:BBOX>\n",
    "                        <ogc:PropertyName>apiso:BoundingBox</ogc:PropertyName>\n",
    "                            <gml:Envelope>\n",
    "                                <gml:lowerCorner>{lowerCorner}</gml:lowerCorner>\n",
    "                                <gml:upperCorner>{upperCorner}</gml:upperCorner>\n",
    "                            </gml:Envelope>\n",
    "                    </ogc:BBOX>\n",
    "                </ogc:And>\n",
    "            </ogc:Filter>\n",
    "        </csw:Constraint>\n",
    "    </csw:Query>\n",
    "</csw:GetRecords>"
   ]
  },
  {
   "cell_type": "code",
   "execution_count": null,
   "id": "2f500665-bbb1-4a6b-8bd2-cbd9da5f9adc",
   "metadata": {
    "tags": []
   },
   "outputs": [],
   "source": [
    "!curl -s -H \"Content-Type: text/xml\" -X POST -d @test_xml_query_anytext_on_field_AND_BBOX_OR_testing_2.xml {csw_test_endpoint} | grep -oP 'numberOfRecordsMatched=\"\\K[^\"]+'"
   ]
  },
  {
   "cell_type": "markdown",
   "id": "9220fe5b-a086-42c7-ac42-c66819f2e105",
   "metadata": {},
   "source": [
    "\n",
    "... I get back 3 records.\n",
    "\n",
    "However, when I combine these two with 'Or':\n",
    "\n"
   ]
  },
  {
   "cell_type": "code",
   "execution_count": null,
   "id": "7d165485-7ee2-4752-93ba-9426a1d20534",
   "metadata": {
    "tags": []
   },
   "outputs": [],
   "source": [
    "%%writetemplate test_xml_query_anytext_on_field_AND_BBOX_OR_testing_3.xml\n",
    "<?xml version=\"1.0\" encoding=\"ISO-8859-1\" standalone=\"no\"?>\n",
    "<csw:GetRecords xmlns:apiso=\"http://www.opengis.net/cat/csw/apiso/1.0\" xmlns:csw=\"http://www.opengis.net/cat/csw/2.0.2\" xmlns:ogc=\"http://www.opengis.net/ogc\" service=\"CSW\" version=\"2.0.2\" resultType=\"results\" startPosition=\"1\" maxRecords=\"5\" outputFormat=\"application/xml\" outputSchema=\"http://www.isotc211.org/2005/gmd\" xmlns:xsi=\"http://www.w3.org/2001/XMLSchema-instance\" xsi:schemaLocation=\"http://www.opengis.net/cat/csw/2.0.2 http://schemas.opengis.net/csw/2.0.2/CSW-discovery.xsd\" xmlns:gml=\"http://www.opengis.net/gml\" xmlns:gmd=\"http://www.isotc211.org/2005/gmd\">\n",
    "    <csw:Query typeNames=\"gmd:MD_Metadata\">\n",
    "        <csw:ElementSetName>brief</csw:ElementSetName>\n",
    "        <csw:Constraint version=\"1.1.0\">\n",
    "            <ogc:Filter>\n",
    "                <ogc:Or>\n",
    "                    <ogc:And>\n",
    "                        <ogc:PropertyIsLike wildCard=\"*\" singleChar=\"?\" escapeChar=\"\\\\\" matchCase=\"false\">\n",
    "                            <ogc:PropertyName>dc:{field_to_query}</ogc:PropertyName>\n",
    "                            <ogc:Literal>temperature</ogc:Literal>\n",
    "                        </ogc:PropertyIsLike>\n",
    "                        <ogc:BBOX>\n",
    "                            <ogc:PropertyName>apiso:BoundingBox</ogc:PropertyName>\n",
    "                                <gml:Envelope>\n",
    "                                    <gml:lowerCorner>{lowerCorner}</gml:lowerCorner>\n",
    "                                    <gml:upperCorner>{upperCorner}</gml:upperCorner>\n",
    "                                </gml:Envelope>\n",
    "                        </ogc:BBOX>\n",
    "                    </ogc:And>\n",
    "                    <ogc:And>\n",
    "                        <ogc:PropertyIsLike wildCard=\"*\" singleChar=\"?\" escapeChar=\"\\\\\" matchCase=\"false\">\n",
    "                            <ogc:PropertyName>dc:{field_to_query}</ogc:PropertyName>\n",
    "                            <ogc:Literal>area</ogc:Literal>\n",
    "                        </ogc:PropertyIsLike>\n",
    "                        <ogc:BBOX>\n",
    "                            <ogc:PropertyName>apiso:BoundingBox</ogc:PropertyName>\n",
    "                                <gml:Envelope>\n",
    "                                    <gml:lowerCorner>{lowerCorner}</gml:lowerCorner>\n",
    "                                    <gml:upperCorner>{upperCorner}</gml:upperCorner>\n",
    "                                </gml:Envelope>\n",
    "                        </ogc:BBOX>\n",
    "                    </ogc:And>\n",
    "                </ogc:Or>\n",
    "            </ogc:Filter>\n",
    "        </csw:Constraint>\n",
    "    </csw:Query>\n",
    "</csw:GetRecords>"
   ]
  },
  {
   "cell_type": "code",
   "execution_count": null,
   "id": "de0f46ee-533d-42a5-a532-3495f8973e02",
   "metadata": {
    "tags": []
   },
   "outputs": [],
   "source": [
    "!curl -s -H \"Content-Type: text/xml\" -X POST -d @test_xml_query_anytext_on_field_AND_BBOX_OR_testing_3.xml {csw_test_endpoint} | grep -oP 'numberOfRecordsMatched=\"\\K[^\"]+'"
   ]
  },
  {
   "cell_type": "markdown",
   "id": "e1474c2c-f547-4458-9bb7-3326ce518104",
   "metadata": {},
   "source": [
    "I get 4 records (as expected it could have been 3 or 4)"
   ]
  }
 ],
 "metadata": {
  "kernelspec": {
   "display_name": "Python 3 (ipykernel)",
   "language": "python",
   "name": "python3"
  },
  "language_info": {
   "codemirror_mode": {
    "name": "ipython",
    "version": 3
   },
   "file_extension": ".py",
   "mimetype": "text/x-python",
   "name": "python",
   "nbconvert_exporter": "python",
   "pygments_lexer": "ipython3",
   "version": "3.11.6"
  }
 },
 "nbformat": 4,
 "nbformat_minor": 5
}
